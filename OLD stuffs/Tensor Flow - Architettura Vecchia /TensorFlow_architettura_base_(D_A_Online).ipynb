{
  "cells": [
    {
      "cell_type": "markdown",
      "metadata": {
        "id": "l1Fs0GL_mVgn"
      },
      "source": [
        "# ***Tensorflow Architettura Base (D.A. Online)  - A. Giacomini & D. Bernovschi***"
      ]
    },
    {
      "cell_type": "markdown",
      "source": [
        "## NOTE - TEST - DUBBI "
      ],
      "metadata": {
        "id": "d0EZw3fROHoS"
      }
    },
    {
      "cell_type": "markdown",
      "metadata": {
        "id": "yJzgcZhRF7Tr"
      },
      "source": [
        "### DUBBI \n",
        "1. NON SONO RIUSCITO NEANCHE A CAPIRE DOVE SI METTONO LE PROBABILITA DELLE TRASFORMAZIONI, VISTO CHE MI AVEVI DETTO CHE SI POTEVA FARE, PERCHE VORREI FARCI UNA PROVA, DOMANI NE PARLIAMO \n",
        "[Link Utile Probabilità](https://albumentations.ai/docs/getting_started/setting_probabilities/)\n",
        "2. NON SONO RIUSCITO AD AVERE LA CONFERMA DI COSA I SAMPLE-WEIGHTS NEL 'FLOW' POSSANO FARE, IN QUANTO ANCHE CON LE TRASFORMAZIONI ATTIVE E USANDO PESI (ANCHE ADATTATI A MANO DA ME) NON CAMBIA ASSOLUTAMENTE NULLA NEL RISULTATO, QUINDI NON HO IDEA DI COSA POSSANO FARE -> CHIEDEREMO A LORO COME DICI TE I PROSSIMI GIORNI\n",
        "IPOTESI - NOTA : I pesi servono ad applicare le transofrmazioni con più intensità/probabilità a chi ha i pesi più alti ????\n",
        "3. provare a fare uno split del dataset in 70-20-10? perchè adottare un K-FOLD potrebbe cambiare parecchio il codice, ed è ora di ottenere risultati per bene perchè con così poche immagini non arriviamo da nessuna parte, quindi potremo puntare a usarne un pò di più per il training.\n",
        "\n",
        "### TEST \n",
        "1. TEST 1 - dare più peso a CLASS_WEIGHT per quelle classi dove la BA finale viene più bassa, così da potenziare l'aggiornamento della loss attraverso le classi con cui fa più fatica\n",
        "2. TEST 2 - pre-trainare la rete senza DA e poi usiamo il modello pretrainato con immaagini normali con il DA randomico come abbiamo ora, così che non c'è bisogno delle probabilità\n",
        "3. TEST 3 - implementare una cross-validation e vedere se può portare a risultati migliori: APPROCCIO CHE HO PAURA ALLA FINE NON SI POSSA UTILIZZARE IN QUANTO FAREBBE LE SUDDIVISIONI DEI SET DA SOLO, QUANDO NOI DOBBIAMO TENERE I CALCI CON LO STESSO 'ID' NELLO STESSO SET, COSA CHE LUI NON PENSO FAREBBE.\n",
        "4. TEST 4 - Testare il DA offline  "
      ]
    },
    {
      "cell_type": "markdown",
      "metadata": {
        "id": "PMGzrSEinp5Z"
      },
      "source": [
        "## Setting Parametri Test (CROP e NO CROP) "
      ]
    },
    {
      "cell_type": "code",
      "execution_count": 1,
      "metadata": {
        "id": "gYIS9Hn3no7o"
      },
      "outputs": [],
      "source": [
        "#path_IMAGES = '/content/drive/MyDrive/CALCIO_CROP_BASE/'\n",
        "path_IMAGES = '/content/drive/MyDrive/CALCIO_NOPRE/'\n",
        "\n",
        "'''some useful parameters and variables'''\n",
        "parte = 'CALCIO'\n",
        "tipo = 'NO_CROP' # CROP; #NO_CROP; \n",
        "\n",
        "#Ricordati di cambiare anche gli Hyper Parameters !!!!"
      ]
    },
    {
      "cell_type": "markdown",
      "metadata": {
        "id": "ox6IFmrBfpP-"
      },
      "source": [
        "## IMPORT"
      ]
    },
    {
      "cell_type": "code",
      "execution_count": 2,
      "metadata": {
        "colab": {
          "base_uri": "https://localhost:8080/"
        },
        "id": "mwFSXnnkfot7",
        "outputId": "d35b3b6e-6367-45fc-b58e-61eae4e48113"
      },
      "outputs": [
        {
          "output_type": "stream",
          "name": "stdout",
          "text": [
            "Tensor Flow 2.8.2\n",
            "Keras 2.8.0\n"
          ]
        }
      ],
      "source": [
        "import sys\n",
        "import subprocess\n",
        "if 'google.colab' in sys.modules:\n",
        "  subprocess.call(\"pip install -U progress\".split())\n",
        "\n",
        "import pandas as pd\n",
        "import random\n",
        "import os\n",
        "import os.path\n",
        "from os import path\n",
        "import scipy.ndimage\n",
        "import numpy as np\n",
        "import math\n",
        "import matplotlib.pyplot as plt\n",
        "import tensorflow as tf\n",
        "from tensorflow.keras.preprocessing.image import ImageDataGenerator\n",
        "from tensorflow.keras import backend as K\n",
        "from tensorflow.keras.preprocessing.image import img_to_array, load_img\n",
        "from tensorflow.keras.models import Sequential, Model\n",
        "from tensorflow.keras import optimizers, layers\n",
        "from tensorflow.keras.layers import Activation, Input, Conv2D, ZeroPadding2D, MaxPooling2D, UpSampling2D, concatenate, Flatten, Dense, Dropout\n",
        "from tensorflow.keras.layers import BatchNormalization\n",
        "from tensorflow.keras.optimizers import Adam,SGD,RMSprop\n",
        "from tensorflow.keras.applications.vgg16 import VGG16\n",
        "from tensorflow.keras.utils import to_categorical \n",
        "from PIL import Image, ImageOps\n",
        "from sklearn.utils import shuffle\n",
        "from sklearn.metrics import accuracy_score,classification_report, f1_score, precision_score, recall_score, confusion_matrix\n",
        "from sklearn.metrics import confusion_matrix\n",
        "from google.colab.patches import cv2_imshow\n",
        "from tensorflow.keras.callbacks import ModelCheckpoint, EarlyStopping\n",
        "from tensorflow.keras.models import Sequential, save_model, load_model\n",
        "import matplotlib.pyplot as plt\n",
        "import cv2\n",
        "from random import randrange\n",
        "from matplotlib import pyplot as plt\n",
        "print('Tensor Flow {}'.format(tf.__version__))\n",
        "print('Keras {}'.format(tf.keras.__version__))"
      ]
    },
    {
      "cell_type": "code",
      "execution_count": 3,
      "metadata": {
        "id": "tU3kN0WBnVmI"
      },
      "outputs": [],
      "source": [
        "'''vecchio costrutto'''\n",
        "#random.seed( 40 )\n",
        "\n",
        "'''nuovo costrutto'''\n",
        "def fix_seeds(seed: int) -> None:\n",
        "  \"\"\" Fix random seeds for numpy, tensorflow, random, etc.\n",
        "\n",
        "  Parameters\n",
        "  -----------\n",
        "  seed : int.\n",
        "  Random seed.\n",
        "  \"\"\"\n",
        "\n",
        "  np.random.seed(seed) # numpy seed\n",
        "  tf.random.set_seed(seed) # tensorflow seed\n",
        "  random.seed(seed) # random seed\n",
        "  os.environ['TF_DETERMINISTIC_OPS'] = \"1\"\n",
        "  os.environ['TF_CUDNN_DETERMINISM'] = \"1\"\n",
        "  os.environ['PYTHONHASHSEED'] = str(seed)\n",
        "\n",
        "fix_seeds(40)"
      ]
    },
    {
      "cell_type": "code",
      "source": [
        "from keras.applications.vgg16 import preprocess_input"
      ],
      "metadata": {
        "id": "7hm0DlXoL7hL"
      },
      "execution_count": 4,
      "outputs": []
    },
    {
      "cell_type": "markdown",
      "metadata": {
        "id": "zUvw3mwvfCMA"
      },
      "source": [
        "## DRIVE "
      ]
    },
    {
      "cell_type": "code",
      "execution_count": 5,
      "metadata": {
        "colab": {
          "base_uri": "https://localhost:8080/"
        },
        "id": "kkWUwK_IfBtx",
        "outputId": "abca501b-bfe3-4050-8c9d-3154bbb736c5"
      },
      "outputs": [
        {
          "output_type": "stream",
          "name": "stdout",
          "text": [
            "Mounted at /content/drive\n"
          ]
        }
      ],
      "source": [
        "from google.colab import drive\n",
        "drive.mount('/content/drive', force_remount=True)\n",
        "\n",
        "path_drive = '/content/drive/My Drive/'\n",
        "path = path_drive+'ProgettoDL/'"
      ]
    },
    {
      "cell_type": "markdown",
      "metadata": {
        "id": "YEzVkjhHbISE"
      },
      "source": [
        "## Parametri Immagini "
      ]
    },
    {
      "cell_type": "code",
      "execution_count": 6,
      "metadata": {
        "id": "fSyxD4LWbG3J"
      },
      "outputs": [],
      "source": [
        "'''DEFINE VARIABLES AND PARAMETERS TO COLLECT THE INFORMATIONS FROM GOOGLE DRIVE'''\n",
        "'''define a path for the collection of informations (CSV file) for the creation of the dataframe'''\n",
        "os.chdir('/content/drive/MyDrive/ProgettoDL/') \n",
        "\n",
        "'''to have always the same sequence of randomized values (numbers)'''\n",
        "random_state = 3  \n",
        "\n",
        "'''some useful parameters and variables'''\n",
        "augment = True\n",
        "metaclassi = False\n",
        "cnn = \"vgg16\" \n",
        "\n",
        "'''series of production & quality classes of the wood rifle butt'''\n",
        "classi = ['1','2-','2','2+','3-','3','3+','4-','4','4+']          \n",
        "serie = [2,4,8,10,6,9,3,11,12,13,14,15,7] \n",
        "cod_componente = [ 2,  4,  8, 10,  6,  9,  3, 11, 12, 13, 14, 15,  7]\n",
        "\n",
        "'''size of the images & their paths (location) '''\n",
        "immg_rows = 270 \n",
        "immg_cols = 470\n",
        "immgs = '{}_{}'.format(parte,tipo)\n",
        "path_imgs = os.path.join(path_drive+'{}'.format(immgs))\n",
        "\n",
        "'''CSV loading (reading annotations/attributes/informations)'''\n",
        "csv = pd.read_csv(('/content/drive/MyDrive/ProgettoDL/20201102_ExportDB.txt'), sep=\";\")"
      ]
    },
    {
      "cell_type": "markdown",
      "metadata": {
        "id": "xuS19wSXbdE8"
      },
      "source": [
        "## SPLIT DATA"
      ]
    },
    {
      "cell_type": "code",
      "execution_count": 7,
      "metadata": {
        "id": "t0JSykxbbeCU"
      },
      "outputs": [],
      "source": [
        "'''CUSTOM SPLIT DATA INTO TRAIN/TEST/VALIDATION SETS'''\n",
        "\"\"\"\n",
        "NOTE\n",
        "- VERSIONE CON NUMERI PRESI DIRETTAMENTE DAL BILANCIAMENTO CALCOLATO RISPETTO IL TOTALE DI 2120 (che ci sono in questo progetto), PER RENDERLO DINAMICO CALCOLARE PESI IN MODO AUTOMATICO (STUDIA ALTERNATIVA)\n",
        "- UNICO PROBLEMA È CHE A VOLTE IMMAGINI CON STESSO ID HANNO IN REALTÀ DIVERSA CLASSE DI QUALITÀ, QUINDI I DATASET NON SONO PERFETTAMENTE BILANCIATI MA VARIANO LEGGERMENTE,\n",
        "(perchè lo stesso ID deve stare in stesso set anche se i lati del calcio del fucile possono avere qualità differente)\n",
        "\"\"\"\n",
        "\n",
        "'''split method'''\n",
        "def split_data(dataframe_result, val_size, test_size, random_state):\n",
        "  #n_ immagini per ciascuna classe di qualità\n",
        "  classes_count = dataframe_result.groupby(['class']).size() \n",
        "\n",
        "  unique_result, counts = np.unique(dataframe_result['ID'], return_counts=True)   #conto quanti ID univoci esistono nel dataset e li raccolgo tutti in vettore\n",
        "\n",
        "  '''randomizing the order of the IDs, (to change the sequence change the random_state)'''\n",
        "  #id_perm = unique_result.iloc[np.random.permutation(unique_result.index)].reset_index(drop=True)\n",
        "  id_perm = np.random.RandomState(random_state).permutation(unique_result)\n",
        "  #print('ID Perm : {}'.format(id_perm))\n",
        "               \n",
        "  '''define finals sub-sets of data'''\n",
        "  column_names = ['ID','series','filename','class']\n",
        "  x_train = pd.DataFrame(columns = column_names)\n",
        "\n",
        "  x_test = pd.DataFrame(columns = column_names)\n",
        "\n",
        "  x_val = pd.DataFrame(columns = column_names)\n",
        "\n",
        "  '''define variables to count elements inside the sub-sets'''\n",
        "  conta, conta0, conta1, conta2, conta3, conta4, conta5, conta6, conta7, conta8, conta9 = 0, 0, 0, 0, 0, 0, 0, 0, 0, 0, 0\n",
        "  class_ = 0\n",
        "\n",
        "\n",
        "  '''performing cycles to divide the images into the 3 sub-sets'''\n",
        "  for i in id_perm:\n",
        "     result_ID = dataframe_result.loc[(dataframe_result['ID'] == i)]\n",
        "      #print('Size : {} '.format(result_ID[result_ID.columns[0]].count()))\n",
        "     if result_ID[result_ID.columns[0]].count() == 2:\n",
        "       row_1=result_ID.iloc[0]\n",
        "       class_ = int(row_1['class'])\n",
        "       row_2=result_ID.iloc[1]\n",
        "       class2_ = int(row_2['class'])\n",
        "       conta = 2\n",
        "       #print(\"ID doppio\")\n",
        "     else:\n",
        "       row_1=result_ID.iloc[0]\n",
        "       class_ = int(row_1['class'])\n",
        "       conta = 1\n",
        "       #print(\"ID singolo\")\n",
        "\n",
        "     if class_ == 0 and conta0 < int((classes_count[0]/100)*60) :\n",
        "       if conta == 2 :\n",
        "         x_train=x_train.append(row_1, ignore_index=True) \n",
        "         x_train=x_train.append(row_2, ignore_index=True)\n",
        "         conta0 = conta0 + 2\n",
        "       else :\n",
        "         x_train=x_train.append(row_1, ignore_index=True) \n",
        "         conta0 = conta0 + 1\n",
        "     elif class_ == 1 and conta1 < int((classes_count[1]/100)*60) :\n",
        "       if conta == 2 :\n",
        "         x_train=x_train.append(row_1, ignore_index=True) \n",
        "         x_train=x_train.append(row_2, ignore_index=True)\n",
        "         conta1 = conta1 + 2\n",
        "       else :\n",
        "         x_train=x_train.append(row_1, ignore_index=True) \n",
        "         conta1 = conta1 + 1\n",
        "     elif class_ == 2 and conta2 < int((classes_count[2]/100)*60) :\n",
        "       if conta == 2 :\n",
        "         x_train=x_train.append(row_1, ignore_index=True) \n",
        "         x_train=x_train.append(row_2, ignore_index=True)\n",
        "         conta2 = conta2 + 2\n",
        "       else :\n",
        "         x_train=x_train.append(row_1, ignore_index=True) \n",
        "         conta2 = conta2 + 1\n",
        "     elif class_ == 3 and conta3 < int((classes_count[3]/100)*60) :\n",
        "        if conta == 2 :\n",
        "          x_train=x_train.append(row_1, ignore_index=True) \n",
        "          x_train=x_train.append(row_2, ignore_index=True)\n",
        "          conta3 = conta3 + 2\n",
        "        else :\n",
        "          x_train=x_train.append(row_1, ignore_index=True) \n",
        "          conta3 = conta3 + 1\n",
        "     elif class_ == 4 and conta4 < int((classes_count[4]/100)*60) :\n",
        "       if conta == 2 :\n",
        "         x_train=x_train.append(row_1, ignore_index=True) \n",
        "         x_train=x_train.append(row_2, ignore_index=True)\n",
        "         conta4 = conta4 + 2\n",
        "       else :\n",
        "         x_train=x_train.append(row_1, ignore_index=True)\n",
        "         conta4 = conta4 + 1 \n",
        "     elif class_ == 5 and conta5 < int((classes_count[5]/100)*60) :\n",
        "       if conta == 2 :\n",
        "         x_train=x_train.append(row_1, ignore_index=True) \n",
        "         x_train=x_train.append(row_2, ignore_index=True)\n",
        "         conta5 = conta5 + 2\n",
        "       else :\n",
        "         x_train=x_train.append(row_1, ignore_index=True) \n",
        "         conta5 = conta5 + 1\n",
        "     elif class_ == 6 and conta6 < int((classes_count[6]/100)*60) :\n",
        "       if conta == 2 :\n",
        "         x_train=x_train.append(row_1, ignore_index=True) \n",
        "         x_train=x_train.append(row_2, ignore_index=True)\n",
        "         conta6 = conta6 + 2\n",
        "       else :\n",
        "         x_train=x_train.append(row_1, ignore_index=True) \n",
        "         conta6 = conta6 + 1\n",
        "     elif class_ == 7 and conta7 < int((classes_count[7]/100)*60) :\n",
        "       if conta == 2 :\n",
        "         x_train=x_train.append(row_1, ignore_index=True) \n",
        "         x_train=x_train.append(row_2, ignore_index=True)\n",
        "         conta7 = conta7 + 2\n",
        "       else :\n",
        "         x_train=x_train.append(row_1, ignore_index=True) \n",
        "         conta7 = conta7 + 1\n",
        "     elif class_ == 8 and conta8 < int((classes_count[8]/100)*60) :\n",
        "       if conta == 2 :\n",
        "         x_train=x_train.append(row_1, ignore_index=True) \n",
        "         x_train=x_train.append(row_2, ignore_index=True)\n",
        "         conta8 = conta8 + 2\n",
        "       else :\n",
        "         x_train=x_train.append(row_1, ignore_index=True) \n",
        "         conta8 = conta8 + 1\n",
        "     elif class_ == 9 and conta9 < int((classes_count[9]/100)*60) :\n",
        "       if conta == 2 :\n",
        "         x_train=x_train.append(row_1, ignore_index=True) \n",
        "         x_train=x_train.append(row_2, ignore_index=True)\n",
        "         conta9 = conta9 + 2\n",
        "       else :\n",
        "         x_train=x_train.append(row_1, ignore_index=True) \n",
        "         conta9 = conta9 + 1\n",
        "     elif class_ == 0 and conta0 >= int((classes_count[0]/100)*60) and conta0 < int((classes_count[0]/100)*80) :\n",
        "       if conta == 2 :\n",
        "         x_val=x_val.append(row_1, ignore_index=True) \n",
        "         x_val=x_val.append(row_2, ignore_index=True)\n",
        "         conta0 = conta0 + 2\n",
        "       else :\n",
        "         x_val=x_val.append(row_1, ignore_index=True) \n",
        "         conta0 = conta0 + 1\n",
        "     elif class_ == 1 and conta1 >= int((classes_count[1]/100)*60) and conta1 < int((classes_count[1]/100)*80) :\n",
        "       if conta == 2 :\n",
        "         x_val=x_val.append(row_1, ignore_index=True) \n",
        "         x_val=x_val.append(row_2, ignore_index=True)\n",
        "         conta1 = conta1 + 2\n",
        "       else :\n",
        "         x_val=x_val.append(row_1, ignore_index=True) \n",
        "         conta1 = conta1 + 1\n",
        "     elif class_ == 2 and conta2 >= int((classes_count[2]/100)*60) and conta2 < int((classes_count[2]/100)*80) :\n",
        "       if conta == 2 :\n",
        "         x_val=x_val.append(row_1, ignore_index=True) \n",
        "         x_val=x_val.append(row_2, ignore_index=True)\n",
        "         conta2 = conta2 + 2\n",
        "       else :\n",
        "         x_val=x_val.append(row_1, ignore_index=True) \n",
        "         conta2 = conta2 + 1\n",
        "     elif class_ == 3 and conta3 >= int((classes_count[3]/100)*60) and conta3 < int((classes_count[3]/100)*80) :\n",
        "        if conta == 2 :\n",
        "          x_val=x_val.append(row_1, ignore_index=True) \n",
        "          x_val=x_val.append(row_2, ignore_index=True)\n",
        "          conta3 = conta3 + 2\n",
        "        else :\n",
        "          x_val=x_val.append(row_1, ignore_index=True) \n",
        "          conta3 = conta3 + 1\n",
        "     elif class_ == 4 and conta4 >= int((classes_count[4]/100)*60) and conta4 < int((classes_count[4]/100)*80) :\n",
        "       if conta == 2 :\n",
        "         x_val=x_val.append(row_1, ignore_index=True) \n",
        "         x_val=x_val.append(row_2, ignore_index=True)\n",
        "         conta4 = conta4 + 2\n",
        "       else :\n",
        "         x_val=x_val.append(row_1, ignore_index=True)\n",
        "         conta4 = conta4 + 1 \n",
        "     elif class_ == 5 and conta5 >= int((classes_count[5]/100)*60) and conta5 < int((classes_count[5]/100)*80) :\n",
        "       if conta == 2 :\n",
        "         x_val=x_val.append(row_1, ignore_index=True) \n",
        "         x_val=x_val.append(row_2, ignore_index=True)\n",
        "         conta5 = conta5 + 2\n",
        "       else :\n",
        "         x_val=x_val.append(row_1, ignore_index=True) \n",
        "         conta5 = conta5 + 1\n",
        "     elif class_ == 6 and conta6 >= int((classes_count[6]/100)*60) and conta6 < int((classes_count[6]/100)*80) :\n",
        "       if conta == 2 :\n",
        "         x_val=x_val.append(row_1, ignore_index=True) \n",
        "         x_val=x_val.append(row_2, ignore_index=True)\n",
        "         conta6 = conta6 + 2\n",
        "       else :\n",
        "         x_val=x_val.append(row_1, ignore_index=True) \n",
        "         conta6 = conta6 + 1\n",
        "     elif class_ == 7 and conta7 >= int((classes_count[7]/100)*60) and conta7 < int((classes_count[7]/100)*80) :\n",
        "       if conta == 2 :\n",
        "         x_val=x_val.append(row_1, ignore_index=True) \n",
        "         x_val=x_val.append(row_2, ignore_index=True)\n",
        "         conta7 = conta7 + 2\n",
        "       else :\n",
        "         x_val=x_val.append(row_1, ignore_index=True) \n",
        "         conta7 = conta7 + 1\n",
        "     elif class_ == 8 and conta8 >= int((classes_count[8]/100)*60) and conta8 < int((classes_count[8]/100)*80) :\n",
        "       if conta == 2 :\n",
        "         x_val=x_val.append(row_1, ignore_index=True) \n",
        "         x_val=x_val.append(row_2, ignore_index=True)\n",
        "         conta8 = conta8 + 2\n",
        "       else :\n",
        "         x_val=x_val.append(row_1, ignore_index=True) \n",
        "         conta8 = conta8 + 1\n",
        "     elif class_ == 9 and conta9 >= int((classes_count[9]/100)*60) and conta9 < int((classes_count[9]/100)*80) :\n",
        "       if conta == 2 :\n",
        "         x_val=x_val.append(row_1, ignore_index=True) \n",
        "         x_val=x_val.append(row_2, ignore_index=True)\n",
        "         conta9 = conta9 + 2\n",
        "       else :\n",
        "         x_val=x_val.append(row_1, ignore_index=True) \n",
        "         conta9 = conta9 + 1\n",
        "     elif class_ == 0 and conta0 >= int((classes_count[0]/100)*80) :\n",
        "       if conta == 2 :\n",
        "         x_test=x_test.append(row_1, ignore_index=True) \n",
        "         x_test=x_test.append(row_2, ignore_index=True)\n",
        "         conta0 = conta0 + 2\n",
        "       else :\n",
        "         x_test=x_test.append(row_1, ignore_index=True) \n",
        "         conta0 = conta0 + 1\n",
        "     elif class_ == 1 and conta1 >= int((classes_count[1]/100)*80) :\n",
        "       if conta == 2 :\n",
        "         x_test=x_test.append(row_1, ignore_index=True) \n",
        "         x_test=x_test.append(row_2, ignore_index=True)\n",
        "         conta1 = conta1 + 2\n",
        "       else :\n",
        "         x_test=x_test.append(row_1, ignore_index=True) \n",
        "         conta1 = conta1 + 1\n",
        "     elif class_ == 2 and conta2 >= int((classes_count[2]/100)*80) :\n",
        "       if conta == 2 :\n",
        "         x_test=x_test.append(row_1, ignore_index=True) \n",
        "         x_test=x_test.append(row_2, ignore_index=True)\n",
        "         conta2 = conta2 + 2\n",
        "       else :\n",
        "         x_test=x_test.append(row_1, ignore_index=True) \n",
        "         conta2 = conta2 + 1\n",
        "     elif class_ == 3 and conta3 >= int((classes_count[3]/100)*80) :\n",
        "        if conta == 2 :\n",
        "          x_test=x_test.append(row_1, ignore_index=True) \n",
        "          x_test=x_test.append(row_2, ignore_index=True)\n",
        "          conta3 = conta3 + 2\n",
        "        else :\n",
        "          x_test=x_test.append(row_1, ignore_index=True) \n",
        "          conta3 = conta3 + 1\n",
        "     elif class_ == 4 and conta4 >= int((classes_count[4]/100)*80) :\n",
        "       if conta == 2 :\n",
        "         x_test=x_test.append(row_1, ignore_index=True) \n",
        "         x_test=x_test.append(row_2, ignore_index=True)\n",
        "         conta4 = conta4 + 2\n",
        "       else :\n",
        "         x_test=x_test.append(row_1, ignore_index=True)\n",
        "         conta4 = conta4 + 1 \n",
        "     elif class_ == 5 and conta5 >= int((classes_count[5]/100)*80) :\n",
        "       if conta == 2 :\n",
        "         x_test=x_test.append(row_1, ignore_index=True) \n",
        "         x_test=x_test.append(row_2, ignore_index=True)\n",
        "         conta5 = conta5 + 2\n",
        "       else :\n",
        "         x_test=x_test.append(row_1, ignore_index=True) \n",
        "         conta5 = conta5 + 1\n",
        "     elif class_ == 6 and conta6 >= int((classes_count[6]/100)*80) :\n",
        "       if conta == 2 :\n",
        "         x_test=x_test.append(row_1, ignore_index=True) \n",
        "         x_test=x_test.append(row_2, ignore_index=True)\n",
        "         conta6 = conta6 + 2\n",
        "       else :\n",
        "         x_test=x_test.append(row_1, ignore_index=True) \n",
        "         conta6 = conta6 + 1\n",
        "     elif class_ == 7 and conta7 >= int((classes_count[7]/100)*80) :\n",
        "       if conta == 2 :\n",
        "         x_test=x_test.append(row_1, ignore_index=True) \n",
        "         x_test=x_test.append(row_2, ignore_index=True)\n",
        "         conta7 = conta7 + 2\n",
        "       else :\n",
        "         x_test=x_test.append(row_1, ignore_index=True) \n",
        "         conta7 = conta7 + 1\n",
        "     elif class_ == 8 and conta8 >= int((classes_count[8]/100)*80) :\n",
        "       if conta == 2 :\n",
        "         x_test=x_test.append(row_1, ignore_index=True) \n",
        "         x_test=x_test.append(row_2, ignore_index=True)\n",
        "         conta8 = conta8 + 2\n",
        "       else :\n",
        "         x_test=x_test.append(row_1, ignore_index=True) \n",
        "         conta8 = conta8 + 1\n",
        "     elif class_ == 9 and conta9 >= int((classes_count[9]/100)*80) :\n",
        "       if conta == 2 :\n",
        "         x_test=x_test.append(row_1, ignore_index=True) \n",
        "         x_test=x_test.append(row_2, ignore_index=True)\n",
        "         conta9 = conta9 + 2\n",
        "       else :\n",
        "         x_test=x_test.append(row_1, ignore_index=True) \n",
        "         conta9 = conta9 + 1\n",
        "\n",
        "    \n",
        "  return x_train, x_test, x_val\n"
      ]
    },
    {
      "cell_type": "markdown",
      "metadata": {
        "id": "G4OSrOanfe7I"
      },
      "source": [
        "## DATA GENERATION "
      ]
    },
    {
      "cell_type": "code",
      "execution_count": 8,
      "metadata": {
        "id": "ScS3q5MmWMJg"
      },
      "outputs": [],
      "source": [
        "import os\n",
        "import pandas as pd\n",
        "import numpy as np\n",
        "import keras\n",
        "import cv2\n",
        "from google.colab.patches import cv2_imshow\n",
        "from sklearn.utils.class_weight import compute_sample_weight\n",
        "from sklearn.utils import class_weight\n",
        "\n",
        "\n",
        "#--------\n",
        "from skimage.transform import rescale, resize, downscale_local_mean\n",
        "#--------\n",
        "\n",
        "class CustomDataGen(tf.keras.utils.Sequence):\n",
        "    def __init__(self, df, X_col, y_col,\n",
        "                 batch_size,\n",
        "                 input_size = (270, 470),\n",
        "                 shuffle = True, \n",
        "                 class_weights = None,\n",
        "                 evaluate = True):\n",
        "      \n",
        "        self.df = df.copy()\n",
        "        self.X_col = X_col\n",
        "        self.y_col = y_col\n",
        "        self.batch_size = batch_size\n",
        "        self.input_size = input_size\n",
        "        self.shuffle = shuffle\n",
        "        self.class_weights = class_weights\n",
        "        self.evaluate = evaluate \n",
        "        \n",
        "\n",
        "        self.n = len(self.df) #n° img del df \n",
        "        self.n_CLASSE_CALCIO = df[y_col['CLASSE']].nunique() #n° classi di qualità \n",
        "        \n",
        "        self.class_augmented = {0:0 , 1: 0, 2:0 , 3: 0, 4:0, 5:0, 6:0, 7:0, 8:0, 9:0}\n",
        "        self.class_augmented_base = {0:0 , 1: 0, 2:0 , 3: 0, 4:0, 5:0, 6:0, 7:0, 8:0, 9:0}\n",
        "        \n",
        "        self.check_index_0 = 0      #aggiunto per sistemare \n",
        "        self.number_epochs = 0  #per contare le epoche e fare prima addestramento con immagini normali e poi con quelle trasformate, dopo diciamo 10 epoche\n",
        "\n",
        "        '''\n",
        "        #D.A. Online\n",
        "        self.augmentor = ImageDataGenerator(\n",
        "            print(\"[INFO] performing 'on the fly' data augmentation\"),\n",
        "            horizontal_flip = True,\n",
        "            vertical_flip = True, \n",
        "            brightness_range = [0.1,0.3]\n",
        "        )\n",
        "        '''\n",
        "        if self.class_weights is not None:\n",
        "          self.df2 = df.copy()\n",
        "          self.class_weights = class_weights.copy()\n",
        "\n",
        "        self.sono_entrato = False \n",
        "   \n",
        "        \n",
        "    def on_epoch_end(self):\n",
        "        if self.shuffle:\n",
        "            self.df.sample(frac=1).reset_index(drop=True)\n",
        "        'reset check index 0 and increment number of epochs for controls'\n",
        "        self.check_index_0 = 0\n",
        "        self.number_epochs = self.number_epochs + 1 \n",
        "\n",
        "        print('\\n Self Augmented : {}  - number of epochs : {} \\n'.format(self.class_augmented, self.number_epochs))\n",
        "\n",
        "    '''\n",
        "    def on_epoch_end(self):\n",
        "      'Updates indexes after each epoch'\n",
        "      self.indexes = np.arange(len(self.df.index)) \n",
        "      if self.shuffle == True:\n",
        "          np.random.shuffle(self.indexes)\n",
        "      \n",
        "      'reset check index 0 and increment number of epochs for controls'\n",
        "      self.check_index_0 = 0\n",
        "      self.number_epochs =+ 1 \n",
        "    '''\n",
        "    \n",
        "    def __get_input(self, path, target_size):\n",
        "      try:\n",
        "        image = tf.keras.preprocessing.image.load_img(path_IMAGES+path, color_mode=\"rgb\" , target_size=(target_size[0],target_size[1]))\n",
        "      except Exception:\n",
        "        print('\\n{}_not found'.format(path))\n",
        "      \n",
        "      image_arr = tf.keras.preprocessing.image.img_to_array(image)\n",
        "      image_arr = tf.keras.applications.vgg16.preprocess_input(image_arr, data_format=\"channels_first\")  #----DENIS\n",
        "\n",
        "      return image_arr\n",
        "    \n",
        "\n",
        "\n",
        "    def __get_output(self, label, num_classes):\n",
        "        return tf.keras.utils.to_categorical(label, num_classes=num_classes)\n",
        "\n",
        "    def __get_output2(self, label, num_series):\n",
        "        return tf.keras.utils.to_categorical(label, num_classes=num_series)\n",
        "    \n",
        "\n",
        "\n",
        "    def __get_data(self, batches):\n",
        "        # Generates data containing batch_size samples\n",
        "        path_batch = batches[self.X_col['PATH_IMG']]  \n",
        "        CLASSE_batch = batches[self.y_col['CLASSE']]\n",
        "\n",
        "        X_batch = np.asarray([self.__get_input(x, self.input_size) for x in path_batch])\n",
        "        y_batch = np.asarray([self.__get_output(y, self.n_CLASSE_CALCIO) for y in CLASSE_batch])\n",
        "        return X_batch, y_batch\n",
        "    \n",
        "\n",
        "\n",
        "    def __getitem__(self, index):\n",
        "        \n",
        "        if index == 0 and self.check_index_0 == 0:\n",
        "          self.check_index_0 =+1\n",
        "          batches = self.df[index * self.batch_size:(index + 1) * self.batch_size]\n",
        "        elif index == 0 and self.check_index_0 == 1:\n",
        "          self.check_index_0 =+1  #così il secondo 0 lo uso come 9\n",
        "          batches = self.df[-self.batch_size:]\n",
        "        else:\n",
        "          batches = self.df[index * self.batch_size:(index + 1) * self.batch_size]\n",
        "\n",
        "        X, y = self.__get_data(batches)\n",
        " \n",
        "        '''\n",
        "        if self.number_epochs == 0:\n",
        "          print('\\n Index: ----{}---- '.format(index))\n",
        "          print('\\n')\n",
        "          print(batches)\n",
        "        '''\n",
        "        #print('numb_epoch{}'.format(self.number_epochs))\n",
        "       \n",
        "        #CALCOLO DEI PESI PER FARE IL FLOW BILANCIATO NEL DA (anche se attualmente non abbiamo capito su cosa incide)\n",
        "        '''\n",
        "        sample_weight_ = compute_sample_weight(class_weight = \"balanced\", y = y)   #DA GIA PIU PESO ALLE CLASSI CON MENO IMMAGINI\n",
        "        sample_weight_ = 1 / sample_weight_ #--- questo è un ulteriore test che ho provato, i risultati peggiorano \n",
        "        print(sample_weight_)\n",
        "        print(y)\n",
        "        '''\n",
        "        \n",
        "        #ALTRE PROVE \n",
        "        '''\n",
        "        y_app = y\n",
        "        sample_weight_ = np.ones(self.batch_size)\n",
        "        i = 0\n",
        "        for label in y_app: \n",
        "            label = np.where(label == 1)[0]\n",
        "            self.class_augmented_base[label[0]] += 1\n",
        "            if label[0] == 9:\n",
        "              #print(i)\n",
        "              sample_weight_[i] = 100\n",
        "            i = i+1\n",
        "        #print(sample_weight_)\n",
        "        '''\n",
        "\n",
        "        #print('--- > Self Evaluate : {}  - number of epochs : {} \\n'.format(self.evaluate, self.number_epochs))\n",
        "        #if ((self.number_epochs >= 1) and (self.evaluate == False)): \n",
        "        if self.evaluate == False: \n",
        "          \n",
        "          sample_weighttt = self.__get_samples_weights_V2(y)\n",
        "          \n",
        "          X_gen = self.augmentor.flow(X, batch_size=self.batch_size, shuffle=False, \n",
        "                                      sample_weight= sample_weighttt,\n",
        "                                      #save_to_dir='/content/drive/MyDrive/new_augmented_2', \n",
        "                                      #save_format='png', \n",
        "                                      #save_prefix='aug'\n",
        "                                      )\n",
        "\n",
        "          y_app_2 = y\n",
        "          for y_label in y_app_2: #X_gen.y, solo se in flow si mette anche y\n",
        "            label = np.where(y_label == 1)[0]\n",
        "            # print(label[0])  #-----funziona  stampa le classi di qualità \n",
        "            self.class_augmented[label[0]] = self.class_augmented[label[0]] + 1 \n",
        "          \n",
        "          \n",
        "          if(self.number_epochs == 0) and (self.sono_entrato == False):\n",
        "            print('---ok--- faccio D.A.')\n",
        "            self.sono_entrato = True            \n",
        "          \n",
        "\n",
        "          return next(X_gen), y            #return X_gen.x, X_gen.y\n",
        "    \n",
        "          \n",
        "          #X_gen = self.augmentor.flow(X, y, batch_size=self.batch_size, shuffle=False, sample_weight= sample_weight_)\n",
        "          #--- C'è anche la versione flow from dataframe, c'è la possibilità di utilizzare più parametri \n",
        "          #X_gen=self.augmentor.flow_from_dataframe(...)\n",
        "          \n",
        "        else:\n",
        "          return X, y \n",
        "\n",
        "\n",
        "    def __len__(self):\n",
        "        return int(self.n) // self.batch_size\n",
        "\n",
        "\n",
        "    #get weight of batch \n",
        "    def __get_samples_weights_V2(self, y):\n",
        "          labels = []\n",
        "          for x_row in y: \n",
        "            class_array = np.where(x_row == 1)\n",
        "            classe_ = class_array[0]\n",
        "            labels.append(classe_[0])\n",
        "          \n",
        "          labels_batch = np.array(labels)         \n",
        "\n",
        "          #print(labels_batch)\n",
        "          #print(np.unique(labels_batch))\n",
        "          #aggiungere il class weight del batch\n",
        "          class_weights_batch = class_weight.compute_class_weight(class_weight = \"balanced\", classes = np.unique(labels_batch), y = labels_batch)\n",
        "          #print(class_weights_batch)\n",
        "          # --- tolto --- class_weights_batch = 1 / class_weights_batch\n",
        "          #print(class_weights_batch)\n",
        "\n",
        "          class_weight_present_batch = { your_key: self.class_weights[your_key] for your_key in np.unique(labels_batch)}\n",
        "\n",
        "          #print(class_weight_present_batch)\n",
        "          \n",
        "          weights = compute_sample_weight(class_weight_present_batch,  labels_batch)\n",
        "          #weights = compute_sample_weight(class_weight=\"balanced\", y=labels_batch) \n",
        "          \n",
        "          #print(weights)\n",
        "          for your_key in np.unique(labels_batch):\n",
        "            self.class_augmented[your_key] +=1\n",
        "        \n",
        "          weights = np.array(weights)\n",
        "          return weights\n",
        "\n",
        "    \n",
        "\n",
        "\n",
        "\n"
      ]
    },
    {
      "cell_type": "markdown",
      "source": [
        "#### CustomDataGen2 "
      ],
      "metadata": {
        "id": "_Dy4DIjGoSin"
      }
    },
    {
      "cell_type": "code",
      "source": [
        "'''\n",
        "class CustomDataGen2(tf.keras.utils.Sequence):\n",
        "    def __init__(self, df, X_col, y_col,\n",
        "                 batch_size,\n",
        "                 input_size = (270, 470),\n",
        "                 shuffle = True, \n",
        "                 class_weights = None,\n",
        "                 evaluate=True):\n",
        "      \n",
        "        \n",
        "        self.df = df.copy()\n",
        "        self.X_col = X_col\n",
        "        self.y_col = y_col\n",
        "        self.batch_size = batch_size\n",
        "        self.input_size = input_size\n",
        "        self.shuffle = shuffle\n",
        "        self.class_weights = class_weights\n",
        "        self.evaluate = evaluate\n",
        "\n",
        "        self.n = len(self.df)\n",
        "        self.n_CLASSE_CALCIO = df[y_col['CLASSE']].nunique()\n",
        "        self.class_augmented = {0: 0, 1: 0, 2: 0, 3: 0, 4: 0, 5: 0, 6: 0, 7: 0, 8: 0, 9: 0}  #to count wich quality classes are augmented during the training on the fly\n",
        "\n",
        "        #D.A. Online\n",
        "        self.augmentor = ImageDataGenerator(\n",
        "            print(\"[INFO] performing 'on the fly' data augmentation\"),\n",
        "            horizontal_flip = True,\n",
        "            vertical_flip = True, \n",
        "            brightness_range = [0.2,0.5]\n",
        "        )\n",
        "\n",
        "        if self.class_weights is not None:\n",
        "          self.df2 = df.copy()\n",
        "          self.class_weights = class_weights.copy()\n",
        "        \n",
        "    \n",
        "    def on_epoch_end(self):\n",
        "        if self.shuffle:\n",
        "            self.df.sample(frac=1).reset_index(drop=True)\n",
        "    \n",
        "    def __get_input(self, path, target_size):\n",
        "      try:\n",
        "        image = tf.keras.preprocessing.image.load_img(path_IMAGES+path, color_mode=\"rgb\" , target_size=(target_size[0],target_size[1]))\n",
        "      except Exception:\n",
        "        print('\\n{}_not found'.format(path))\n",
        "      \n",
        "      image_arr = tf.keras.preprocessing.image.img_to_array(image)\n",
        "      \n",
        "      #plt.imshow(image_arr.astype('uint8'), interpolation='nearest')\n",
        "      #plt.show()\n",
        "\n",
        "      image_arr = tf.keras.applications.vgg16.preprocess_input(image_arr, data_format=\"channels_first\")  #----DENIS: Qui ho aggiunto channels_first, ma crea poi il problema durante la fase di prection, i risultati vengono scadenti\n",
        "\n",
        "      #plt.imshow(image_arr.astype('uint8'), interpolation='nearest')\n",
        "      #plt.show()\n",
        "\n",
        "      #image_arr = tf.image.resize(image_arr,(target_size[0], target_size[1])).numpy() #----DENIS: Questa non serve perché il resize lo facciamo sopra        \n",
        "\n",
        "      return image_arr\n",
        "    \n",
        "    def __get_output(self, label, num_classes):\n",
        "        return tf.keras.utils.to_categorical(label, num_classes=num_classes)\n",
        "\n",
        "    def __get_output2(self, label, num_series):\n",
        "        return tf.keras.utils.to_categorical(label, num_classes=num_series)\n",
        "    \n",
        "    def __get_data(self, batches):\n",
        "        # Generates data containing batch_size samples\n",
        "        path_batch = batches[self.X_col['PATH_IMG']]  \n",
        "        CLASSE_batch = batches[self.y_col['CLASSE']]\n",
        "        #SERIE_batch = batches[self.y_col['GEOMETRIA']]\n",
        "\n",
        "        X_batch = np.asarray([self.__get_input(x, self.input_size) for x in path_batch])\n",
        "        y_batch = np.asarray([self.__get_output(y, self.n_CLASSE_CALCIO) for y in CLASSE_batch])\n",
        "        return X_batch, y_batch\n",
        "    \n",
        "    def __getitem__(self, index):\n",
        "        batches = self.df[index * self.batch_size:(index + 1) * self.batch_size]\n",
        "        X, y = self.__get_data(batches)\n",
        "        if self.class_weights is not None:\n",
        "          print(\"CHECK CI SONO I PESI\")\n",
        "          sample_weighttt = self.__get_samples_weights_V2(y)\n",
        "          X_gen = self.augmentor.flow(X, batch_size=self.batch_size, shuffle=False, sample_weight= sample_weighttt, save_to_dir=\"/content/drive/MyDrive/Augmentation\")\n",
        "          #X_gen=self.augmentor.flow_from_dataframe(dataframe=batches, directory=\"/content/drive/MyDrive/CALCIO_CROP\", x_col=\"filename\", y_col=\"class\", batch_size=self.batch_size, \n",
        "          #                                         seed=42,shuffle=False,class_mode=None, sample_weight=sample_weighttt, target_size=self.input_size, classes=['1','2-','2','2+','3-','3','3+','4-','4','4+'])\n",
        "          return next(X_gen), y                # - next ritorna iterativamente ogni elemento creato con l'augmentation - https://www.w3schools.com/python/ref_func_next.asp\n",
        "        else:\n",
        "          #print(\"CHECK NON CI SONO I PESI\")\n",
        "          return X, y                          # - X rappresenta l'input, y rappresenta l'output\n",
        "\n",
        "    def __len__(self):\n",
        "        return int(self.n) // self.batch_size\n",
        "\n",
        "    #get weight of batch \n",
        "    def __get_samples_weights_V2(self, y):\n",
        "          labels = []\n",
        "          for x_row in y: \n",
        "            class_array = np.where(x_row == 1)\n",
        "            classe_ = class_array[0]\n",
        "            labels.append(classe_[0])\n",
        "          \n",
        "          labels_batch = np.array(labels)         \n",
        "\n",
        "          #print(labels_batch)\n",
        "          #print(np.unique(labels_batch))\n",
        "          #aggiungere il class weight del batch\n",
        "          class_weights_batch = class_weight.compute_class_weight(class_weight = \"balanced\", classes = np.unique(labels_batch), y = labels_batch)\n",
        "          #print(class_weights_batch)\n",
        "          # --- tolto --- class_weights_batch = 1 / class_weights_batch\n",
        "          #print(class_weights_batch)\n",
        "\n",
        "          class_weight_present_batch = { your_key: self.class_weights[your_key] for your_key in np.unique(labels_batch)}\n",
        "\n",
        "          #print(class_weight_present_batch)\n",
        "          \n",
        "          weights = compute_sample_weight(class_weight_present_batch,  labels_batch)\n",
        "          #weights = compute_sample_weight(class_weight=\"balanced\", y=labels_batch) \n",
        "          \n",
        "          #print(weights)\n",
        "          for your_key in np.unique(labels_batch):\n",
        "            self.class_augmented[your_key] +=1\n",
        "        \n",
        "          weights = np.array(weights)\n",
        "          return weights\n",
        "'''"
      ],
      "metadata": {
        "id": "3R2BHMLvAKYL",
        "colab": {
          "base_uri": "https://localhost:8080/",
          "height": 1000
        },
        "outputId": "57e34536-c31b-4057-fff9-0cdb331280ad"
      },
      "execution_count": 9,
      "outputs": [
        {
          "output_type": "execute_result",
          "data": {
            "text/plain": [
              "'\\nclass CustomDataGen2(tf.keras.utils.Sequence):\\n    def __init__(self, df, X_col, y_col,\\n                 batch_size,\\n                 input_size = (270, 470),\\n                 shuffle = True, \\n                 class_weights = None,\\n                 evaluate=True):\\n      \\n        \\n        self.df = df.copy()\\n        self.X_col = X_col\\n        self.y_col = y_col\\n        self.batch_size = batch_size\\n        self.input_size = input_size\\n        self.shuffle = shuffle\\n        self.class_weights = class_weights\\n        self.evaluate = evaluate\\n\\n        self.n = len(self.df)\\n        self.n_CLASSE_CALCIO = df[y_col[\\'CLASSE\\']].nunique()\\n        self.class_augmented = {0: 0, 1: 0, 2: 0, 3: 0, 4: 0, 5: 0, 6: 0, 7: 0, 8: 0, 9: 0}  #to count wich quality classes are augmented during the training on the fly\\n\\n        #D.A. Online\\n        self.augmentor = ImageDataGenerator(\\n            print(\"[INFO] performing \\'on the fly\\' data augmentation\"),\\n            horizontal_flip = True,\\n            vertical_flip = True, \\n            brightness_range = [0.2,0.5]\\n        )\\n\\n        if self.class_weights is not None:\\n          self.df2 = df.copy()\\n          self.class_weights = class_weights.copy()\\n        \\n    \\n    def on_epoch_end(self):\\n        if self.shuffle:\\n            self.df.sample(frac=1).reset_index(drop=True)\\n    \\n    def __get_input(self, path, target_size):\\n      try:\\n        image = tf.keras.preprocessing.image.load_img(path_IMAGES+path, color_mode=\"rgb\" , target_size=(target_size[0],target_size[1]))\\n      except Exception:\\n        print(\\'\\n{}_not found\\'.format(path))\\n      \\n      image_arr = tf.keras.preprocessing.image.img_to_array(image)\\n      \\n      #plt.imshow(image_arr.astype(\\'uint8\\'), interpolation=\\'nearest\\')\\n      #plt.show()\\n\\n      image_arr = tf.keras.applications.vgg16.preprocess_input(image_arr, data_format=\"channels_first\")  #----DENIS: Qui ho aggiunto channels_first, ma crea poi il problema durante la fase di prection, i risultati vengono scadenti\\n\\n      #plt.imshow(image_arr.astype(\\'uint8\\'), interpolation=\\'nearest\\')\\n      #plt.show()\\n\\n      #image_arr = tf.image.resize(image_arr,(target_size[0], target_size[1])).numpy() #----DENIS: Questa non serve perché il resize lo facciamo sopra        \\n\\n      return image_arr\\n    \\n    def __get_output(self, label, num_classes):\\n        return tf.keras.utils.to_categorical(label, num_classes=num_classes)\\n\\n    def __get_output2(self, label, num_series):\\n        return tf.keras.utils.to_categorical(label, num_classes=num_series)\\n    \\n    def __get_data(self, batches):\\n        # Generates data containing batch_size samples\\n        path_batch = batches[self.X_col[\\'PATH_IMG\\']]  \\n        CLASSE_batch = batches[self.y_col[\\'CLASSE\\']]\\n        #SERIE_batch = batches[self.y_col[\\'GEOMETRIA\\']]\\n\\n        X_batch = np.asarray([self.__get_input(x, self.input_size) for x in path_batch])\\n        y_batch = np.asarray([self.__get_output(y, self.n_CLASSE_CALCIO) for y in CLASSE_batch])\\n        return X_batch, y_batch\\n    \\n    def __getitem__(self, index):\\n        batches = self.df[index * self.batch_size:(index + 1) * self.batch_size]\\n        X, y = self.__get_data(batches)\\n        if self.class_weights is not None:\\n          print(\"CHECK CI SONO I PESI\")\\n          sample_weighttt = self.__get_samples_weights_V2(y)\\n          X_gen = self.augmentor.flow(X, batch_size=self.batch_size, shuffle=False, sample_weight= sample_weighttt, save_to_dir=\"/content/drive/MyDrive/Augmentation\")\\n          #X_gen=self.augmentor.flow_from_dataframe(dataframe=batches, directory=\"/content/drive/MyDrive/CALCIO_CROP\", x_col=\"filename\", y_col=\"class\", batch_size=self.batch_size, \\n          #                                         seed=42,shuffle=False,class_mode=None, sample_weight=sample_weighttt, target_size=self.input_size, classes=[\\'1\\',\\'2-\\',\\'2\\',\\'2+\\',\\'3-\\',\\'3\\',\\'3+\\',\\'4-\\',\\'4\\',\\'4+\\'])\\n          return next(X_gen), y                # - next ritorna iterativamente ogni elemento creato con l\\'augmentation - https://www.w3schools.com/python/ref_func_next.asp\\n        else:\\n          #print(\"CHECK NON CI SONO I PESI\")\\n          return X, y                          # - X rappresenta l\\'input, y rappresenta l\\'output\\n\\n    def __len__(self):\\n        return int(self.n) // self.batch_size\\n\\n    #get weight of batch \\n    def __get_samples_weights_V2(self, y):\\n          labels = []\\n          for x_row in y: \\n            class_array = np.where(x_row == 1)\\n            classe_ = class_array[0]\\n            labels.append(classe_[0])\\n          \\n          labels_batch = np.array(labels)         \\n\\n          #print(labels_batch)\\n          #print(np.unique(labels_batch))\\n          #aggiungere il class weight del batch\\n          class_weights_batch = class_weight.compute_class_weight(class_weight = \"balanced\", classes = np.unique(labels_batch), y = labels_batch)\\n          #print(class_weights_batch)\\n          # --- tolto --- class_weights_batch = 1 / class_weights_batch\\n          #print(class_weights_batch)\\n\\n          class_weight_present_batch = { your_key: self.class_weights[your_key] for your_key in np.unique(labels_batch)}\\n\\n          #print(class_weight_present_batch)\\n          \\n          weights = compute_sample_weight(class_weight_present_batch,  labels_batch)\\n          #weights = compute_sample_weight(class_weight=\"balanced\", y=labels_batch) \\n          \\n          #print(weights)\\n          for your_key in np.unique(labels_batch):\\n            self.class_augmented[your_key] +=1\\n        \\n          weights = np.array(weights)\\n          return weights\\n'"
            ],
            "application/vnd.google.colaboratory.intrinsic+json": {
              "type": "string"
            }
          },
          "metadata": {},
          "execution_count": 9
        }
      ]
    },
    {
      "cell_type": "markdown",
      "metadata": {
        "id": "28i0TbSpzt_Z"
      },
      "source": [
        "## NETWORK "
      ]
    },
    {
      "cell_type": "code",
      "execution_count": 10,
      "metadata": {
        "colab": {
          "base_uri": "https://localhost:8080/",
          "height": 1000
        },
        "id": "q0Dc7ahEzpWW",
        "outputId": "37253a83-8f67-4c20-c996-870f91a70438"
      },
      "outputs": [
        {
          "output_type": "stream",
          "name": "stdout",
          "text": [
            "Downloading data from https://storage.googleapis.com/tensorflow/keras-applications/vgg16/vgg16_weights_tf_dim_ordering_tf_kernels_notop.h5\n",
            "58892288/58889256 [==============================] - 0s 0us/step\n",
            "58900480/58889256 [==============================] - 0s 0us/step\n",
            "Model: \"quality_recognizer\"\n",
            "_________________________________________________________________\n",
            " Layer (type)                Output Shape              Param #   \n",
            "=================================================================\n",
            " input_1 (InputLayer)        [(None, 270, 470, 3)]     0         \n",
            "                                                                 \n",
            " block1_conv1 (Conv2D)       (None, 270, 470, 64)      1792      \n",
            "                                                                 \n",
            " block1_conv2 (Conv2D)       (None, 270, 470, 64)      36928     \n",
            "                                                                 \n",
            " block1_pool (MaxPooling2D)  (None, 135, 235, 64)      0         \n",
            "                                                                 \n",
            " block2_conv1 (Conv2D)       (None, 135, 235, 128)     73856     \n",
            "                                                                 \n",
            " block2_conv2 (Conv2D)       (None, 135, 235, 128)     147584    \n",
            "                                                                 \n",
            " block2_pool (MaxPooling2D)  (None, 67, 117, 128)      0         \n",
            "                                                                 \n",
            " block3_conv1 (Conv2D)       (None, 67, 117, 256)      295168    \n",
            "                                                                 \n",
            " block3_conv2 (Conv2D)       (None, 67, 117, 256)      590080    \n",
            "                                                                 \n",
            " block3_conv3 (Conv2D)       (None, 67, 117, 256)      590080    \n",
            "                                                                 \n",
            " block3_pool (MaxPooling2D)  (None, 33, 58, 256)       0         \n",
            "                                                                 \n",
            " block4_conv1 (Conv2D)       (None, 33, 58, 512)       1180160   \n",
            "                                                                 \n",
            " block4_conv2 (Conv2D)       (None, 33, 58, 512)       2359808   \n",
            "                                                                 \n",
            " block4_conv3 (Conv2D)       (None, 33, 58, 512)       2359808   \n",
            "                                                                 \n",
            " block4_pool (MaxPooling2D)  (None, 16, 29, 512)       0         \n",
            "                                                                 \n",
            " block5_conv1 (Conv2D)       (None, 16, 29, 512)       2359808   \n",
            "                                                                 \n",
            " block5_conv2 (Conv2D)       (None, 16, 29, 512)       2359808   \n",
            "                                                                 \n",
            " block5_conv3 (Conv2D)       (None, 16, 29, 512)       2359808   \n",
            "                                                                 \n",
            " block5_pool (MaxPooling2D)  (None, 8, 14, 512)        0         \n",
            "                                                                 \n",
            " flatten (Flatten)           (None, 57344)             0         \n",
            "                                                                 \n",
            " dropout (Dropout)           (None, 57344)             0         \n",
            "                                                                 \n",
            " fc1 (Dense)                 (None, 4096)              234885120 \n",
            "                                                                 \n",
            " fc2 (Dense)                 (None, 4096)              16781312  \n",
            "                                                                 \n",
            " batch_normalization (BatchN  (None, 4096)             16384     \n",
            " ormalization)                                                   \n",
            "                                                                 \n",
            " class_output (Dense)        (None, 10)                40970     \n",
            "                                                                 \n",
            "=================================================================\n",
            "Total params: 266,438,474\n",
            "Trainable params: 251,715,594\n",
            "Non-trainable params: 14,722,880\n",
            "_________________________________________________________________\n"
          ]
        },
        {
          "output_type": "execute_result",
          "data": {
            "image/png": "[encoded data removed]",
            "text/plain": [
              "<IPython.core.display.Image object>"
            ]
          },
          "metadata": {},
          "execution_count": 10
        }
      ],
      "source": [
        "'''NETWORK'''\n",
        "\n",
        "\n",
        "model = Sequential()\n",
        "\n",
        "vgg16_conv = VGG16(include_top=False, weights='imagenet', input_shape=(immg_rows, immg_cols, 3))      #pre allenata con immagini di imagenet, e quindi pesi già esistenti\n",
        "for layer in vgg16_conv.layers[:-1]:\n",
        "    layer.trainable = False\n",
        "\n",
        "##NOTA : in alcune alternative ho visto che applicano il Flatten prima della ramificazione.\n",
        "x = Flatten(name='flatten')(vgg16_conv.output)\n",
        "#classifier ramification     \n",
        "#x = Flatten(name='flatten')(vgg16_conv.output)\n",
        "x = Dropout(0.5)(x)\n",
        "x = Dense(4096, activation='relu', name='fc1')(x)\n",
        "x = Dense(4096, activation='relu', name='fc2')(x)\n",
        "x = BatchNormalization()(x)\n",
        "x = Dense(len(classi), activation='softmax', name='class_output')(x)\n",
        "\n",
        "# stitch together\n",
        "dot_img_file = '/tmp/model_2.png'\n",
        "\n",
        "#secondo modello dove faccio la ramificazione\n",
        "model = keras.Model(vgg16_conv.input, x, name=\"quality_recognizer\")\n",
        "\n",
        "# inspect\n",
        "model.summary()\n",
        "\n",
        "#PLOT DEL MODELLO COMPLETO RAMIFICATO\n",
        "tf.keras.utils.plot_model(model, to_file=dot_img_file, show_shapes=True)"
      ]
    },
    {
      "cell_type": "markdown",
      "metadata": {
        "id": "2XV_nhqtTWxr"
      },
      "source": [
        "## Metrica Balance Accuracy "
      ]
    },
    {
      "cell_type": "code",
      "execution_count": 11,
      "metadata": {
        "id": "P-rg-uNKANyC"
      },
      "outputs": [],
      "source": [
        "import keras.backend as K\n",
        "from sklearn.metrics import balanced_accuracy_score\n",
        "from sklearn.metrics import confusion_matrix\n",
        "'''\n",
        "Funzione per Balance Accuracy \n",
        "-- Link Utile : https://medium.com/@mostafa.m.ayoub/customize-your-keras-metrics-44ac2e2980bd --\n",
        "-- https://medium.com/analytics-vidhya/custom-metrics-for-keras-tensorflow-ae7036654e05 --- \n",
        "-- https://scikit-learn.org/stable/modules/model_evaluation.html#balanced-accuracy-score --- \n",
        "'''\n",
        "\n",
        "\t\t\n",
        "'''\n",
        "Funzione per Balance Accuracy \n",
        "'''\n",
        "def monitor_balance_accuracy ():\n",
        "\tdef bal_acc(y_true, y_pred):\n",
        "\t\tprint(y_pred)\n",
        "\t\tprint(len(y_pred))\n",
        "\t\tprint(type(y_pred))\n",
        "\t\tprint(y_true)\n",
        "\t\tprint(len(y_true))\n",
        "\t\tprint(type(y_true))\n",
        "\t\t#y_true = y_true.numpy().argmax(axis=1) #Returns the indices of the maximum values along an axis.\n",
        "\t\t#y_pred = y_pred.numpy().argmax(axis=1) #Returns the indices of the maximum values along an axis.\n",
        "\t\tBalanced_Accuracy = balanced_accuracy_score(y_true, y_pred)\n",
        "\t\tBalanced_Accuracy = tf.constant(Balanced_Accuracy)\n",
        "\t\treturn K.min(Balanced_Accuracy)\n",
        "\treturn bal_acc\n",
        "\n",
        "\n",
        "#https://medium.com/@mostafa.m.ayoub/customize-your-keras-metrics-44ac2e2980bd\n",
        "#https://www.statology.org/balanced-accuracy-python-sklearn/\n",
        "def specificity(y_true, y_pred):\n",
        "    tn = K.sum(K.round(K.clip((1 - y_true) * (1 - y_pred), 0, 1)))\n",
        "    fp = K.sum(K.round(K.clip((1 - y_true) * y_pred, 0, 1)))\n",
        "    return tn / (tn + fp + K.epsilon())\n",
        "\n",
        "def sensitivity(y_true, y_pred): \n",
        "    true_positives = K.sum(K.round(K.clip(y_true * y_pred, 0, 1)))\n",
        "    possible_positives = K.sum(K.round(K.clip(y_true, 0, 1)))\n",
        "    return true_positives / (possible_positives + K.epsilon())\n",
        "\n",
        "def balanced_accuracy_new (y_true, y_pred):\n",
        "\t\tsensitivity_ = sensitivity(y_true, y_pred)\n",
        "\t\tspecificity_ = specificity(y_true, y_pred)\n",
        "\t\tBA = (sensitivity_ + specificity_) / 2\n",
        "\t\treturn BA \n",
        "\n",
        "\n",
        "\n"
      ]
    },
    {
      "cell_type": "markdown",
      "metadata": {
        "id": "VX2SB5uYzzyB"
      },
      "source": [
        "## Callbacks "
      ]
    },
    {
      "cell_type": "code",
      "execution_count": 12,
      "metadata": {
        "id": "gvAnOHC2W134"
      },
      "outputs": [],
      "source": [
        "'''CALLBACKS'''\n",
        "from keras.callbacks import ModelCheckpoint, EarlyStopping\n",
        "\n",
        "#TEST BALANCE ACCURACY \n",
        "from sklearn.metrics import balanced_accuracy_score\n",
        "\n",
        "#NB: create sul drive una cartella weights dove salvare i pesi durante l'allenamento\n",
        "path_drive = '/content/drive/My Drive/'\n",
        "path = path_drive+'ProgettoDL/'\n",
        "model_checkpoint_val_bal_acc = ModelCheckpoint( filepath=os.path.join('/content/drive/My Drive/ProgettoDL/weights/model_{}_{}/best_weights.h5'.format(immgs,cnn)), monitor='val_balanced_accuracy_new', verbose=1, save_best_only=True)\n",
        "model_checkpoint_val_loss = ModelCheckpoint( filepath=os.path.join('/content/drive/My Drive/ProgettoDL/weights/model_{}_{}/best_weights.h5'.format(immgs,cnn)), monitor='val_loss', verbose=1, save_best_only=True)\n",
        "\n",
        "### MODIFICATO QUA - Implementazione Early Stopping###\n",
        "early_stopping_val_bal_acc = tf.keras.callbacks.EarlyStopping(\n",
        "    monitor='val_balanced_accuracy_new', #Quantity to be monitored \n",
        "    min_delta=0, #Minimum change in the monitored quantity to qualify as an improvement\n",
        "    patience=10, #Number of epochs with no improvement after which training will be stopped\n",
        "    #verbosity mode, setting verbose 0, 1 or 2 you just say \n",
        "    #how do you want to 'see' the training progress for each epoch.\n",
        "    #verbose=0 will show you nothing (silent)\n",
        "    #verbose=1 will show you an animated progress bar like this: progres_bar\n",
        "    verbose=0, \n",
        "    #Mode = One of {\"auto\", \"min\", \"max\"}. In min mode, training will stop when the quantity \n",
        "    #monitored has stopped decreasing; in \"max\" mode \n",
        "    #it will stop when the quantity monitored has stopped increasing; \n",
        "    #in \"auto\" mode, the direction is automatically inferred from the name of the monitored quantity.\n",
        "    mode=\"max\",\n",
        "    #Training will stop if the model doesn't show improvement over the baseline.\n",
        "    baseline=None,\n",
        "    #Whether to restore model weights from the epoch with the best value of the monitored quantity\n",
        "    restore_best_weights=False\n",
        ")\n",
        "early_stopping_val_loss = tf.keras.callbacks.EarlyStopping(\n",
        "    monitor='val_loss', #Quantity to be monitored \n",
        "    min_delta=0, #Minimum change in the monitored quantity to qualify as an improvement\n",
        "    patience=10, #Number of epochs with no improvement after which training will be stopped\n",
        "    #verbosity mode, setting verbose 0, 1 or 2 you just say \n",
        "    #how do you want to 'see' the training progress for each epoch.\n",
        "    #verbose=0 will show you nothing (silent)\n",
        "    #verbose=1 will show you an animated progress bar like this: progres_bar\n",
        "    verbose=0, \n",
        "    #Mode = One of {\"auto\", \"min\", \"max\"}. In min mode, training will stop when the quantity \n",
        "    #monitored has stopped decreasing; in \"max\" mode \n",
        "    #it will stop when the quantity monitored has stopped increasing; \n",
        "    #in \"auto\" mode, the direction is automatically inferred from the name of the monitored quantity.\n",
        "    mode=\"auto\",\n",
        "    #Training will stop if the model doesn't show improvement over the baseline.\n",
        "    baseline=None,\n",
        "    #Whether to restore model weights from the epoch with the best value of the monitored quantity\n",
        "    restore_best_weights=False\n",
        ")\n",
        "callbacks=[model_checkpoint_val_bal_acc, model_checkpoint_val_loss , early_stopping_val_bal_acc, early_stopping_val_loss ]\n",
        "#TEST DENIS\n",
        "#callbacks=[model_checkpoint_val_loss, early_stopping_val_loss ]\n"
      ]
    },
    {
      "cell_type": "markdown",
      "metadata": {
        "id": "VQsYqmoQVJIu"
      },
      "source": [
        "## PREPROCESSING & DATA FRAME "
      ]
    },
    {
      "cell_type": "code",
      "execution_count": 13,
      "metadata": {
        "id": "KgDSg0Ylufeu"
      },
      "outputs": [],
      "source": [
        "'''verify that same IDs are in the same sub-sets'''\n",
        "\n",
        "'''method for univoque sets'''\n",
        "def check_for_leakage(df1, df2, patient_col):\n",
        "    \"\"\"\n",
        "    Return True if there any patients are in both df1 and df2.\n",
        "\n",
        "    Args:\n",
        "        df1 (dataframe): dataframe describing first dataset\n",
        "        df2 (dataframe): dataframe describing second dataset\n",
        "        patient_col (str): string name of column with patient IDs\n",
        "    \n",
        "    Returns:\n",
        "        leakage (bool): True if there is leakage, otherwise False\n",
        "    \"\"\"\n",
        "    \n",
        "    df1_patients_unique = set(df1[patient_col])\n",
        "    df2_patients_unique = set(df2[patient_col])\n",
        "    \n",
        "    patients_in_both_groups = df1_patients_unique.intersection(df2_patients_unique)\n",
        "\n",
        "    # leakage contains true if there is patient overlap, otherwise false.\n",
        "    leakage = len(patients_in_both_groups) >= 1 # boolean (true if there is at least 1 patient in both groups)\n",
        "        \n",
        "    return leakage"
      ]
    },
    {
      "cell_type": "code",
      "execution_count": 14,
      "metadata": {
        "id": "DUAw4V9d0VNX"
      },
      "outputs": [],
      "source": [
        "def NormalizeData(data):\n",
        "    return (data - np.min(data)) / (np.max(data) - np.min(data))"
      ]
    },
    {
      "cell_type": "code",
      "execution_count": 15,
      "metadata": {
        "colab": {
          "base_uri": "https://localhost:8080/"
        },
        "id": "kCvpWRyju3cE",
        "outputId": "95135710-8090-410e-def3-a793ac418419"
      },
      "outputs": [
        {
          "output_type": "stream",
          "name": "stdout",
          "text": [
            "------------------------------------------------------------------------------------------------------------------------------------------------------------\n",
            "DATAFRAME COMPLETO INIZIALE\n",
            "result\n",
            "        ID  series            filename class\n",
            "0        3       2  20201 319 5323.png    3+\n",
            "1        4       2  20201 3110125 .png    3+\n",
            "2        5       2  20201 31101327.png    3+\n",
            "3        6       2  20201 3110161 .png    3+\n",
            "4        7       2  20201 3110177 .png    3+\n",
            "...    ...     ...                 ...   ...\n",
            "1059  2023       7  20201031090549.png    3+\n",
            "1060  2024       7  20201031090855.png    3+\n",
            "1061  2025       7  20201031091127.png    3+\n",
            "1062  2026       7  20201031091720.png    3+\n",
            "1063  2027       7  20201031091941.png    3+\n",
            "\n",
            "[2128 rows x 4 columns]\n",
            "Len Results (before): 2128\n",
            "------------------------------------------------------------------------------------------------------------------------------------------------------------\n",
            "Number of Null values in column 'quality_classes' : 2\n",
            "- - - - - - - - - - - - - - - - - - - - - - - - - - - - - - - - -\n",
            "mostro quegli elementi che hanno valore nullo\n",
            "       ID  series            filename  class\n",
            "963  1927       3  20200825181909.png    NaN\n",
            "963  1927       3  20200825181932.png    NaN\n",
            "- - - - - - - - - - - - - - - - - - - - - - - - - - - - - - - - -\n",
            "Rimuovo gli elementi nulli e verifico stampando nuovamente i valori nulli:\n",
            "elementi nulli rimasti: 0\n",
            "------------------------------------------------------------------------------------------------------------------------------------------------------------\n",
            "elimino i file che non sono presenti in Google Drive anche se ci sono nel CSV\n",
            "CHECK FILE NON PRESENTI NELLA CARTELLA\n",
            "File Non Esiste !!!\n",
            "File : 20202 13101023.png eliminato\n",
            "File Non Esiste !!!\n",
            "File : 20200825180901.png eliminato\n",
            "File Non Esiste !!!\n",
            "File : 20200825181058.png eliminato\n",
            "File Non Esiste !!!\n",
            "File : 20201031091303.png eliminato\n",
            "File Non Esiste !!!\n",
            "File : 20201031091815.png eliminato\n",
            "File Non Esiste !!!\n",
            "File : 20201031092253.png eliminato\n",
            "File Non Esiste !!!\n",
            "File : 20202 13101011.png eliminato\n",
            "File Non Esiste !!!\n",
            "File : 20200825180918.png eliminato\n",
            "File Non Esiste !!!\n",
            "File : 20201031091941.png eliminato\n",
            "File Eliminati : 9 \n",
            "CHECK FILE CON NaN\n",
            "Empty DataFrame\n",
            "Columns: [ID, series, filename, class]\n",
            "Index: []\n",
            "Empty DataFrame\n",
            "Columns: [ID, series, filename, class]\n",
            "Index: []\n",
            "Empty DataFrame\n",
            "Columns: [ID, series, filename, class]\n",
            "Index: []\n",
            "Empty DataFrame\n",
            "Columns: [ID, series, filename, class]\n",
            "Index: []\n",
            "------------------------------------------------------------------------------------------------------------------------------------------------------------\n",
            "SPLIT DATA\n",
            "train_balance_df\n",
            "        ID series            filename  class\n",
            "0     1631      7  20200518124448.png    1.0\n",
            "1     1631      7  20200518124429.png    1.0\n",
            "2       76      1  20202 10143 14.png    1.0\n",
            "3       76      1  20202 10142 59.png    1.0\n",
            "4     1849     10  20200529200152.png    7.0\n",
            "...    ...    ...                 ...    ...\n",
            "1265   521      4  20203 10110 49.png    7.0\n",
            "1266   265      2  20202 14123442.png    5.0\n",
            "1267   265      2  20202 14123432.png    5.0\n",
            "1268  1688      8  20200525181359.png    7.0\n",
            "1269  1688      8  20200525181346.png    8.0\n",
            "\n",
            "[1270 rows x 4 columns]\n",
            "test_balance_df\n",
            "       ID series            filename  class\n",
            "0     331      3  20203 2 8 8 22.png    0.0\n",
            "1     331      3  20203 2 8 8 1 .png    4.0\n",
            "2     271      3  20202 2716421 .png    0.0\n",
            "3     271      3  20202 27164147.png    0.0\n",
            "4     284      3  20202 2910188 .png    0.0\n",
            "..    ...    ...                 ...    ...\n",
            "417   261      2  20202 14122743.png    5.0\n",
            "418  1936      3  20200929122824.png    6.0\n",
            "419  1936      3  20200929122632.png    6.0\n",
            "420  1917      6  20200609213900.png    5.0\n",
            "421  1917      6  20200609213844.png    5.0\n",
            "\n",
            "[422 rows x 4 columns]\n",
            "val_balance_df\n",
            "       ID series            filename  class\n",
            "0    1609      1  20200515193751.png    1.0\n",
            "1    1609      1  20200515193735.png    1.0\n",
            "2    1777      7  20200528192247.png    3.0\n",
            "3    1777      7  20200528192236.png    3.0\n",
            "4     274      3  20202 27164454.png    1.0\n",
            "..    ...    ...                 ...    ...\n",
            "417  1729      7  20200526173659.png    2.0\n",
            "418   558      5  20203 18212818.png    6.0\n",
            "419   558      5  20203 1821281 .png    7.0\n",
            "420  1825      4  20200529181313.png    9.0\n",
            "421  1825      4  20200529181301.png    9.0\n",
            "\n",
            "[422 rows x 4 columns]\n",
            "------------------------------------------------------------------------------------------------------------------------------------------------------------\n",
            "conta del numero di immagini per speicfica classe in set Train\n",
            "1270\n",
            "1:95\n",
            "2-:79\n",
            "2:134\n",
            "2+:112\n",
            "3-:110\n",
            "3:182\n",
            "3+:200\n",
            "4-:124\n",
            "4:174\n",
            "4+:60\n",
            "conta del numero di immagini per speicfica classe in set Validation\n",
            "422\n",
            "1:33\n",
            "2-:29\n",
            "2:39\n",
            "2+:39\n",
            "3-:32\n",
            "3:59\n",
            "3+:72\n",
            "4-:40\n",
            "4:57\n",
            "4+:22\n",
            "conta del numero di immagini per speicfica classe in set Test\n",
            "422\n",
            "1:37\n",
            "2-:40\n",
            "2:39\n",
            "2+:26\n",
            "3-:37\n",
            "3:66\n",
            "3+:65\n",
            "4-:44\n",
            "4:44\n",
            "4+:24\n",
            "Weight train_balance_df\n",
            "{0: 1.34, 1: 1.61, 2: 0.95, 3: 1.13, 4: 1.15, 5: 0.7, 6: 0.64, 7: 1.02, 8: 0.73, 9: 2.12}\n",
            "DENIS Weight train_balance_df\n",
            "{0: 1.34, 1: 1.61, 2: 0.95, 3: 1.13, 4: 1.15, 5: 0.7, 6: 0.64, 7: 1.02, 8: 0.73, 9: 2.12}\n",
            "------------------\n",
            "A : [1.34 1.61 0.95 1.13 1.15 0.7  0.64 1.02 0.73 2.12]\n",
            "-------------------\n",
            "[0.11764706 0.14135206 0.0834065  0.09920983 0.10096576 0.06145742\n",
            " 0.05618964 0.08955224 0.06409131 0.18612818]\n",
            "------------------\n",
            "[0.47761194 0.39751553 0.67368421 0.56637168 0.55652174 0.91428571\n",
            " 1.         0.62745098 0.87671233 0.30188679]\n",
            "------------------\n",
            "[0.2517144  0.1369817  0.53257468 0.37885673 0.36474736 0.87722008\n",
            " 1.         0.4663487  0.82339874 0.        ]\n",
            "{0: 0.2517144009681323, 1: 0.13698170219909347, 2: 0.5325746799431009, 3: 0.37885673283903387, 4: 0.36474735605170405, 5: 0.877220077220077, 6: 1.0, 7: 0.4663487016428193, 8: 0.8233987412069603, 9: 0.0}\n",
            "Weight val_balance_df\n",
            "{0: 1.28, 1: 1.46, 2: 1.08, 3: 1.08, 4: 1.32, 5: 0.72, 6: 0.59, 7: 1.06, 8: 0.74, 9: 1.92}\n",
            "Weight test_balance_df\n",
            "{0: 1.14, 1: 1.06, 2: 1.08, 3: 1.62, 4: 1.14, 5: 0.64, 6: 0.65, 7: 0.96, 8: 0.96, 9: 1.76}\n",
            "test case 1 - train VS validation\n",
            "Stessi ID in set usati?: False\n",
            "-------------------------------------\n",
            "test case 2 - train VS test\n",
            "Stessi ID in set usati ?: False\n",
            "-------------------------------------\n",
            "test case 3 - validation VS test\n",
            "Stessi ID in set usati?: False\n"
          ]
        }
      ],
      "source": [
        "'''PREPROCESSING PHASE OF THE DATAFRAME (CREATIONS OF THE SUBSETS TRAIN/VALIDATION/TEST, CALCULATE WEIGHTS OF ELEMENTS OF THE SUBSETS, VERIFY THAT SAME IDs ARE IN THE SAME SUBSET)'''\n",
        "from keras.models import Sequential\n",
        "from sklearn.model_selection import train_test_split\n",
        "from sklearn.utils import class_weight\n",
        "from pandas.compat._optional import import_optional_dependency\n",
        "\n",
        "\n",
        "os.chdir('/content/drive/MyDrive/ProgettoDL')\n",
        "path = os.getcwd()\n",
        "\n",
        "\n",
        "'''reading inforamtions from the CSV'''\n",
        "col_list_sx = [\"ID\", \"COD_COMPONENTE\", \"IMG_LATOSX\", \"CLASSE_CALCIOSX\"]\n",
        "dataframe_sx = pd.read_csv(os.path.join(path + '/20201102_ExportDB.txt'), usecols=col_list_sx, sep=\";\")\n",
        "\n",
        "\n",
        "col_list_dx = [\"ID\", \"COD_COMPONENTE\", \"IMG_LATODX\", \"CLASSE_CALCIODX\"]\n",
        "dataframe_dx = pd.read_csv(os.path.join(path + '/20201102_ExportDB.txt'), usecols=col_list_dx, sep=\";\")\n",
        "\n",
        "\n",
        "'''rename the dataframe columns'''\n",
        "dataframe_sx.columns = ['ID','series', 'filename', 'class']\n",
        "dataframe_dx.columns = ['ID','series', 'filename', 'class']\n",
        "\n",
        "frames = [dataframe_sx, dataframe_dx] \n",
        "result = pd.concat(frames) #concatenate the two dataframes\n",
        "\n",
        "print(\"------------------------------------------------------------------------------------------------------------------------------------------------------------\")\n",
        "print(\"DATAFRAME COMPLETO INIZIALE\")\n",
        "print(\"result\")\n",
        "print(result)\n",
        "\n",
        "print('Len Results (before): {}'.format(len(result)))\n",
        "\n",
        "#------------------------------------------\n",
        "#result = result[:400]\n",
        "#print('Len Results (after) : {}'.format(len(result)))\n",
        "#------------------------------------------\n",
        "\n",
        "\n",
        "'''mapping the values used for the classification into integer values'''\n",
        "#version with 10 classes\n",
        "result[\"class\"] = result[\"class\"].map({'1': int(0), '2-': int(1), '2': int(2), '2+': int(3), '3-': int(4), '3': int(5), '3+': int(6), '4-': int(7), '4': int(8), '4+': int(9)})\n",
        "result[\"series\"] = result[\"series\"].map({2: int(0), 4: int(1), 8: int(2), 10: int(3), 6: int(4), 9: int(5), 3: int(6), 11: int(7), 12: int(8), 13: int(9), 14: int(10), 15: int(11), 7: int(12)}) \n",
        "\n",
        "\n",
        "'''identification of NULL values that would bring the execution on failing and eliminate those values'''\n",
        "print(\"------------------------------------------------------------------------------------------------------------------------------------------------------------\")\n",
        "print(\"Number of Null values in column 'quality_classes' : \"+format(result['class'].isnull().sum()))\n",
        "print(\"- - - - - - - - - - - - - - - - - - - - - - - - - - - - - - - - -\")\n",
        "#print(result.loc[result['class'] == '0'])\n",
        "print(\"mostro quegli elementi che hanno valore nullo\")\n",
        "print(result[result['class'].isnull()])\n",
        "print(\"- - - - - - - - - - - - - - - - - - - - - - - - - - - - - - - - -\")\n",
        "\n",
        "'''Remove Null elements to avoid failures during executions (data in not useful!)'''\n",
        "print(\"Rimuovo gli elementi nulli e verifico stampando nuovamente i valori nulli:\")\n",
        "result['class'] = pd.to_numeric(result['class'], errors='coerce')\n",
        "result = result.dropna(subset=['class'])    #rimuovo le righe con elementi nulli\n",
        "\n",
        "print(\"elementi nulli rimasti: \"+format(result['class'].isnull().sum()))     #stampo per verifica se ci sono elementi nulli\n",
        "\n",
        "\n",
        "'''verify if images exist in the Google Drive folder, when not present it is eliminated from the dataset aswell'''\n",
        "print(\"------------------------------------------------------------------------------------------------------------------------------------------------------------\")\n",
        "print(\"elimino i file che non sono presenti in Google Drive anche se ci sono nel CSV\")\n",
        "print('CHECK FILE NON PRESENTI NELLA CARTELLA')\n",
        "\n",
        "#--------TORNA QUI ---------\n",
        "os.chdir(path_IMAGES)\n",
        "\n",
        "i = 0; \n",
        "for index, row in result.iterrows():\n",
        "    filename = row['filename']\n",
        "    if os.path.exists(path_IMAGES+filename) == False:\n",
        "      \n",
        "      print('File Non Esiste !!!')\n",
        "    if(os.path.exists(filename) == False):\n",
        "      result = result.drop(result[(result['filename'] == filename)].index)\n",
        "      print('File : {} eliminato'.format(filename))\n",
        "      i = i + 1             \n",
        "print('File Eliminati : {} '.format(i))\n",
        "\n",
        "print('CHECK FILE CON NaN')\n",
        "print(result[result['class'].isnull()])\n",
        "print(result[result['series'].isnull()])\n",
        "print(result[result['filename'].isnull()])\n",
        "print(result[result['ID'].isnull()])\n",
        "result = result[result['class'].notna()]\n",
        "result = result[result['series'].notna()]\n",
        "result = result[result['filename'].notna()]\n",
        "result = result[result['ID'].notna()]\n",
        "\n",
        "'''performing the splitting of the dataframe into sub-sets'''\n",
        "print(\"------------------------------------------------------------------------------------------------------------------------------------------------------------\")\n",
        "print(\"SPLIT DATA\")\n",
        "train_balance_df, test_balance_df, val_balance_df  = split_data(result, 0.2, 0.2, 3)  #CUSTOM SPLIT CON ID IN STESSO SET DI DATI\n",
        "#train_mask, test_mask, validation_mask  = split_data(result2, 0.2, 0.2, 3)           #split per test con immagini con maschere\n",
        "\n",
        "print(\"train_balance_df\")\n",
        "print(train_balance_df)\n",
        "print(\"test_balance_df\")\n",
        "print(test_balance_df)\n",
        "print(\"val_balance_df\")\n",
        "print(val_balance_df)\n",
        "\n",
        "'''verify distibution of classes in the sub-sets and calculate weights of the classes in each sub-set'''\n",
        "print(\"------------------------------------------------------------------------------------------------------------------------------------------------------------\")\n",
        "vals, counts = np.unique(train_balance_df['class'], return_counts=True)\n",
        "print(\"conta del numero di immagini per speicfica classe in set Train\")\n",
        "print(len(train_balance_df))\n",
        "for i in range(0,len(classi)):\n",
        "    print('{}:{}'.format(classi[i], counts[i]))\n",
        "\n",
        "vals2, counts2 = np.unique(val_balance_df['class'], return_counts=True)\n",
        "print(\"conta del numero di immagini per speicfica classe in set Validation\")\n",
        "print(len(val_balance_df))\n",
        "for i in range(0,len(classi)):\n",
        "    print('{}:{}'.format(classi[i], counts2[i]))\n",
        "\n",
        "vals3, counts3 = np.unique(test_balance_df['class'], return_counts=True)\n",
        "print(\"conta del numero di immagini per speicfica classe in set Test\")\n",
        "print(len(test_balance_df))\n",
        "for i in range(0,len(classi)):\n",
        "    print('{}:{}'.format(classi[i], counts3[i]))    \n",
        "\n",
        "\n",
        "class_weights_train = class_weight.compute_class_weight(class_weight = \"balanced\", classes = np.unique(train_balance_df['class']),y = train_balance_df['class'])\n",
        "weight_train = {i : round(class_weights_train[i], 2) for i in range(len(classi))} \n",
        "print('Weight train_balance_df')\n",
        "print(weight_train)\n",
        "print('DENIS Weight train_balance_df')\n",
        "DENIS_weight_train = weight_train\n",
        "print(weight_train)\n",
        "print('------------------')\n",
        "A = np.fromiter(weight_train.values(), dtype=float)\n",
        "print('A : {}'.format(A))\n",
        "print('-------------------')\n",
        "test_DB_class_weights = np.array(A/np.sum(A))\n",
        "test_DB_class_weights_new =1/(A/np.min(A))\n",
        "print(test_DB_class_weights)\n",
        "print('------------------')\n",
        "print(test_DB_class_weights_new)\n",
        "test_DB_class_weights_new = NormalizeData(test_DB_class_weights_new)\n",
        "print('------------------')\n",
        "print(test_DB_class_weights_new)\n",
        "'''convert new weight to dictionary'''\n",
        "d_weights = dict(enumerate(test_DB_class_weights_new.flatten(), 0))\n",
        "print(d_weights)\n",
        "\n",
        "class_weights = class_weight.compute_class_weight(class_weight = \"balanced\",classes = np.unique(val_balance_df['class']),y = val_balance_df['class'])\n",
        "weight = {i : round(class_weights[i], 2) for i in range(len(classi))} \n",
        "print('Weight val_balance_df')\n",
        "print(weight)\n",
        "\n",
        "class_weights = class_weight.compute_class_weight(class_weight = \"balanced\",classes = np.unique(test_balance_df['class']),y = test_balance_df['class'])\n",
        "weight = {i : round(class_weights[i], 2) for i in range(len(classi))} \n",
        "print('Weight test_balance_df')\n",
        "print(weight)\n",
        "\n",
        "#--------verifico che stessi ID siano in stesso set--------\n",
        "print(\"test case 1 - train VS validation\")\n",
        "print(f\"Stessi ID in set usati?: {check_for_leakage(train_balance_df, val_balance_df, 'ID')}\")\n",
        "print(\"-------------------------------------\")\n",
        "print(\"test case 2 - train VS test\")\n",
        "print(f\"Stessi ID in set usati ?: {check_for_leakage(train_balance_df, test_balance_df, 'ID')}\")\n",
        "print(\"-------------------------------------\")\n",
        "print(\"test case 3 - validation VS test\")\n",
        "print(f\"Stessi ID in set usati?: {check_for_leakage(val_balance_df, test_balance_df, 'ID')}\")\n"
      ]
    },
    {
      "cell_type": "code",
      "execution_count": 16,
      "metadata": {
        "colab": {
          "base_uri": "https://localhost:8080/"
        },
        "id": "QPihVVu9fXJb",
        "outputId": "e03a7321-fcc7-441d-defe-5a95aa2fe491"
      },
      "outputs": [
        {
          "output_type": "stream",
          "name": "stdout",
          "text": [
            "SOMMA IMG : 2114\n"
          ]
        }
      ],
      "source": [
        "'''Verifica Classi Qualità per ogni Serie'''\n",
        "#print(\"Verifica Classi Qualità per ogni Serie\")\n",
        "result_x_ = result.groupby(['series','class']).size()\n",
        "#print(result_x_)\n",
        "result_class = result.groupby(['class']).size()\n",
        "#print(result_class)\n",
        "result_series = result.groupby(['series']).size()\n",
        "#print(result_series)\n",
        "\n",
        "#print('SOMMA IMG : {}'.format(result_class[0]+result_class[1]+result_class[2]+result_class[3]+result_class[4]+result_class[5]+result_class[6]+result_class[7]+result_class[8]+result_class[9]))\n",
        "print('SOMMA IMG : {}'.format(np.sum(result_class)))"
      ]
    },
    {
      "cell_type": "markdown",
      "metadata": {
        "id": "26Za2K_yFljo"
      },
      "source": [
        "## Weighted Categorical Crossentropy Loss "
      ]
    },
    {
      "cell_type": "code",
      "execution_count": 17,
      "metadata": {
        "id": "TZ05ClCuFnkj"
      },
      "outputs": [],
      "source": [
        "from keras import backend as K\n",
        "class weighted_categorical_crossentropy(object):\n",
        "    \"\"\"\n",
        "    A weighted version of keras.objectives.categorical_crossentropy\n",
        "    \n",
        "    Variables:\n",
        "        weights: numpy array of shape (C,) where C is the number of classes\n",
        "    \n",
        "    Usage:\n",
        "        loss = weighted_categorical_crossentropy(weights).loss\n",
        "        model.compile(loss=loss,optimizer='adam')\n",
        "    \"\"\"\n",
        "    \n",
        "    def __init__(self,weights):\n",
        "        self.weights = K.variable(weights)\n",
        "        \n",
        "    def loss(self,y_true, y_pred): \n",
        "        # scale preds so that the class probas of each sample sum to 1\n",
        "        y_pred /= K.sum(y_pred)\n",
        "        # clip\n",
        "        y_pred = K.clip(y_pred, K.epsilon(), 1)\n",
        "        # calc\n",
        "        \n",
        "        loss = y_true*K.log(y_pred)*self.weights\n",
        "        loss =-K.sum(loss,-1)\n",
        "        return loss"
      ]
    },
    {
      "cell_type": "markdown",
      "metadata": {
        "id": "Ks3Fly2oUf3g"
      },
      "source": [
        "## HYPERPARAMETERS"
      ]
    },
    {
      "cell_type": "code",
      "execution_count": 18,
      "metadata": {
        "id": "Bbjwj4QwW6yx"
      },
      "outputs": [],
      "source": [
        "#Definizione hyperparameters                                                                                                                         #prova SGD\n",
        "\n",
        "#opt = Adam(learning_rate=\t0.01) \n",
        "opt = SGD(learning_rate = 0.001, decay = 1e-4, momentum= 0.7)\n",
        "#opt = SGD(learning_rate = 0.0001, decay = 1e-4, momentum= 0.9) #OLD\n",
        "\n",
        "num_epochs = 100\n",
        "bs = 128\n",
        "#bs = 32  #OLD\n",
        "\n",
        "\n",
        "\n",
        "\n",
        "model.compile(optimizer=opt, loss=tf.keras.losses.CategoricalCrossentropy(), metrics=[\"accuracy\",balanced_accuracy_new])  "
      ]
    },
    {
      "cell_type": "markdown",
      "metadata": {
        "id": "-gwtHXxECiTK"
      },
      "source": [
        "## Creazione TrainGen, ValGen, TestGen "
      ]
    },
    {
      "cell_type": "code",
      "execution_count": 19,
      "metadata": {
        "colab": {
          "base_uri": "https://localhost:8080/"
        },
        "id": "St_p67bjCnby",
        "outputId": "a0848ed5-43d3-4c71-ce56-06e0007f9e11"
      },
      "outputs": [
        {
          "output_type": "stream",
          "name": "stdout",
          "text": [
            "[INFO] performing 'on the fly' data augmentation\n",
            "[INFO] performing 'on the fly' data augmentation\n",
            "[INFO] performing 'on the fly' data augmentation\n"
          ]
        }
      ],
      "source": [
        "#traingen = CustomDataGen(train_balance_df, X_col={'PATH_IMG':'filename'}, y_col={'CLASSE': 'class'}, batch_size=bs, input_size=(270,470), evaluate = False) #--- mettere False per fare Augmentation\n",
        "\n",
        "traingen = CustomDataGen(train_balance_df, X_col={'PATH_IMG':'filename'}, y_col={'CLASSE': 'class'}, batch_size=bs, input_size=(270,470), class_weights=weight_train, evaluate = False) #--- mettere False per fare Augmentation\n",
        "testgen = CustomDataGen(test_balance_df, X_col={'PATH_IMG':'filename'}, y_col={'CLASSE': 'class'}, batch_size=bs, input_size=(270,470), evaluate = True)   \n",
        "valgen = CustomDataGen(val_balance_df, X_col={'PATH_IMG':'filename'}, y_col={'CLASSE': 'class'}, batch_size=bs, input_size=(270,470), evaluate = True)"
      ]
    },
    {
      "cell_type": "markdown",
      "metadata": {
        "id": "bfJ3LnbAZhQx"
      },
      "source": [
        "## Testing Model "
      ]
    },
    {
      "cell_type": "code",
      "execution_count": 20,
      "metadata": {
        "colab": {
          "base_uri": "https://localhost:8080/"
        },
        "id": "8YkrQa5yTDO8",
        "outputId": "9346e863-aa8d-4805-aaa2-2cdbd8969b2a"
      },
      "outputs": [
        {
          "output_type": "stream",
          "name": "stdout",
          "text": [
            "{0: 1.34, 1: 1.61, 2: 0.95, 3: 10, 4: 1.15, 5: 0.7, 6: 0.64, 7: 1.02, 8: 0.73, 9: 10}\n"
          ]
        }
      ],
      "source": [
        "#PERFORM WEIGHTS FOR A WEIGHTED FIT TRAINING\n",
        "weights_fit = weight_train\n",
        "weights_fit[9] = 10\n",
        "weights_fit[3] = 10\n",
        "\n",
        "print(weights_fit)"
      ]
    },
    {
      "cell_type": "code",
      "execution_count": 21,
      "metadata": {
        "colab": {
          "base_uri": "https://localhost:8080/"
        },
        "id": "UMXAiMAvyom5",
        "outputId": "7bd884f4-7bbf-449c-c8b7-5778fb0beefd"
      },
      "outputs": [
        {
          "output_type": "stream",
          "name": "stdout",
          "text": [
            "---ok--- faccio D.A.\n",
            "Epoch 1/100\n",
            "9/9 [==============================] - ETA: 0s - loss: 2.7442 - accuracy: 0.1467 - balanced_accuracy_new: 0.5078  \n",
            " Self Augmented : {0: 0, 1: 0, 2: 0, 3: 0, 4: 0, 5: 0, 6: 0, 7: 0, 8: 0, 9: 0}  - number of epochs : 1 \n",
            "\n",
            "\n",
            "Epoch 1: val_balanced_accuracy_new improved from -inf to 0.68519, saving model to /content/drive/My Drive/ProgettoDL/weights/model_CALCIO_NO_CROP_vgg16/best_weights.h5\n",
            "\n",
            "Epoch 1: val_loss improved from inf to 5.16525, saving model to /content/drive/My Drive/ProgettoDL/weights/model_CALCIO_NO_CROP_vgg16/best_weights.h5\n",
            "9/9 [==============================] - 869s 99s/step - loss: 2.7442 - accuracy: 0.1467 - balanced_accuracy_new: 0.5078 - val_loss: 5.1653 - val_accuracy: 0.4349 - val_balanced_accuracy_new: 0.6852\n",
            "\n",
            " Self Augmented : {0: 105, 1: 91, 2: 144, 3: 124, 4: 120, 5: 192, 6: 212, 7: 136, 8: 186, 9: 70}  - number of epochs : 1 \n",
            "\n",
            "Epoch 2/100\n",
            "9/9 [==============================] - ETA: 0s - loss: 2.1008 - accuracy: 0.3507 - balanced_accuracy_new: 0.5653\n",
            " Self Augmented : {0: 0, 1: 0, 2: 0, 3: 0, 4: 0, 5: 0, 6: 0, 7: 0, 8: 0, 9: 0}  - number of epochs : 2 \n",
            "\n",
            "\n",
            "Epoch 2: val_balanced_accuracy_new improved from 0.68519 to 0.71267, saving model to /content/drive/My Drive/ProgettoDL/weights/model_CALCIO_NO_CROP_vgg16/best_weights.h5\n",
            "\n",
            "Epoch 2: val_loss improved from 5.16525 to 4.96813, saving model to /content/drive/My Drive/ProgettoDL/weights/model_CALCIO_NO_CROP_vgg16/best_weights.h5\n",
            "9/9 [==============================] - 69s 8s/step - loss: 2.1008 - accuracy: 0.3507 - balanced_accuracy_new: 0.5653 - val_loss: 4.9681 - val_accuracy: 0.4870 - val_balanced_accuracy_new: 0.7127\n",
            "\n",
            " Self Augmented : {0: 206, 1: 179, 2: 281, 3: 234, 4: 231, 5: 355, 6: 403, 7: 255, 8: 348, 9: 130}  - number of epochs : 2 \n",
            "\n",
            "Epoch 3/100\n",
            "9/9 [==============================] - ETA: 0s - loss: 1.6962 - accuracy: 0.4661 - balanced_accuracy_new: 0.6362\n",
            " Self Augmented : {0: 0, 1: 0, 2: 0, 3: 0, 4: 0, 5: 0, 6: 0, 7: 0, 8: 0, 9: 0}  - number of epochs : 3 \n",
            "\n",
            "\n",
            "Epoch 3: val_balanced_accuracy_new improved from 0.71267 to 0.74436, saving model to /content/drive/My Drive/ProgettoDL/weights/model_CALCIO_NO_CROP_vgg16/best_weights.h5\n",
            "\n",
            "Epoch 3: val_loss did not improve from 4.96813\n",
            "9/9 [==============================] - 63s 7s/step - loss: 1.6962 - accuracy: 0.4661 - balanced_accuracy_new: 0.6362 - val_loss: 5.5779 - val_accuracy: 0.5417 - val_balanced_accuracy_new: 0.7444\n",
            "\n",
            " Self Augmented : {0: 307, 1: 267, 2: 418, 3: 344, 4: 342, 5: 518, 6: 594, 7: 374, 8: 510, 9: 190}  - number of epochs : 3 \n",
            "\n",
            "Epoch 4/100\n",
            "9/9 [==============================] - ETA: 0s - loss: 1.5812 - accuracy: 0.5026 - balanced_accuracy_new: 0.6630\n",
            " Self Augmented : {0: 0, 1: 0, 2: 0, 3: 0, 4: 0, 5: 0, 6: 0, 7: 0, 8: 0, 9: 0}  - number of epochs : 4 \n",
            "\n",
            "\n",
            "Epoch 4: val_balanced_accuracy_new improved from 0.74436 to 0.78776, saving model to /content/drive/My Drive/ProgettoDL/weights/model_CALCIO_NO_CROP_vgg16/best_weights.h5\n",
            "\n",
            "Epoch 4: val_loss improved from 4.96813 to 4.90175, saving model to /content/drive/My Drive/ProgettoDL/weights/model_CALCIO_NO_CROP_vgg16/best_weights.h5\n",
            "9/9 [==============================] - 69s 8s/step - loss: 1.5812 - accuracy: 0.5026 - balanced_accuracy_new: 0.6630 - val_loss: 4.9017 - val_accuracy: 0.6172 - val_balanced_accuracy_new: 0.7878\n",
            "\n",
            " Self Augmented : {0: 408, 1: 355, 2: 555, 3: 454, 4: 453, 5: 681, 6: 785, 7: 493, 8: 672, 9: 250}  - number of epochs : 4 \n",
            "\n",
            "Epoch 5/100\n",
            "9/9 [==============================] - ETA: 0s - loss: 1.4479 - accuracy: 0.5538 - balanced_accuracy_new: 0.6828\n",
            " Self Augmented : {0: 0, 1: 0, 2: 0, 3: 0, 4: 0, 5: 0, 6: 0, 7: 0, 8: 0, 9: 0}  - number of epochs : 5 \n",
            "\n",
            "\n",
            "Epoch 5: val_balanced_accuracy_new improved from 0.78776 to 0.79225, saving model to /content/drive/My Drive/ProgettoDL/weights/model_CALCIO_NO_CROP_vgg16/best_weights.h5\n",
            "\n",
            "Epoch 5: val_loss improved from 4.90175 to 4.76696, saving model to /content/drive/My Drive/ProgettoDL/weights/model_CALCIO_NO_CROP_vgg16/best_weights.h5\n",
            "9/9 [==============================] - 71s 8s/step - loss: 1.4479 - accuracy: 0.5538 - balanced_accuracy_new: 0.6828 - val_loss: 4.7670 - val_accuracy: 0.6276 - val_balanced_accuracy_new: 0.7922\n",
            "\n",
            " Self Augmented : {0: 509, 1: 443, 2: 692, 3: 564, 4: 564, 5: 844, 6: 976, 7: 612, 8: 834, 9: 310}  - number of epochs : 5 \n",
            "\n",
            "Epoch 6/100\n",
            "9/9 [==============================] - ETA: 0s - loss: 1.3662 - accuracy: 0.5938 - balanced_accuracy_new: 0.7111\n",
            " Self Augmented : {0: 0, 1: 0, 2: 0, 3: 0, 4: 0, 5: 0, 6: 0, 7: 0, 8: 0, 9: 0}  - number of epochs : 6 \n",
            "\n",
            "\n",
            "Epoch 6: val_balanced_accuracy_new improved from 0.79225 to 0.79659, saving model to /content/drive/My Drive/ProgettoDL/weights/model_CALCIO_NO_CROP_vgg16/best_weights.h5\n",
            "\n",
            "Epoch 6: val_loss improved from 4.76696 to 4.52585, saving model to /content/drive/My Drive/ProgettoDL/weights/model_CALCIO_NO_CROP_vgg16/best_weights.h5\n",
            "9/9 [==============================] - 73s 8s/step - loss: 1.3662 - accuracy: 0.5938 - balanced_accuracy_new: 0.7111 - val_loss: 4.5259 - val_accuracy: 0.6406 - val_balanced_accuracy_new: 0.7966\n",
            "\n",
            " Self Augmented : {0: 610, 1: 531, 2: 829, 3: 674, 4: 675, 5: 1007, 6: 1167, 7: 731, 8: 996, 9: 370}  - number of epochs : 6 \n",
            "\n",
            "Epoch 7/100\n",
            "9/9 [==============================] - ETA: 0s - loss: 1.2563 - accuracy: 0.6172 - balanced_accuracy_new: 0.7211\n",
            " Self Augmented : {0: 0, 1: 0, 2: 0, 3: 0, 4: 0, 5: 0, 6: 0, 7: 0, 8: 0, 9: 0}  - number of epochs : 7 \n",
            "\n",
            "\n",
            "Epoch 7: val_balanced_accuracy_new did not improve from 0.79659\n",
            "\n",
            "Epoch 7: val_loss did not improve from 4.52585\n",
            "9/9 [==============================] - 49s 6s/step - loss: 1.2563 - accuracy: 0.6172 - balanced_accuracy_new: 0.7211 - val_loss: 5.3497 - val_accuracy: 0.5599 - val_balanced_accuracy_new: 0.7555\n",
            "\n",
            " Self Augmented : {0: 711, 1: 619, 2: 966, 3: 784, 4: 786, 5: 1170, 6: 1358, 7: 850, 8: 1158, 9: 430}  - number of epochs : 7 \n",
            "\n",
            "Epoch 8/100\n",
            "9/9 [==============================] - ETA: 0s - loss: 1.2383 - accuracy: 0.6007 - balanced_accuracy_new: 0.7299\n",
            " Self Augmented : {0: 0, 1: 0, 2: 0, 3: 0, 4: 0, 5: 0, 6: 0, 7: 0, 8: 0, 9: 0}  - number of epochs : 8 \n",
            "\n",
            "\n",
            "Epoch 8: val_balanced_accuracy_new did not improve from 0.79659\n",
            "\n",
            "Epoch 8: val_loss did not improve from 4.52585\n",
            "9/9 [==============================] - 48s 6s/step - loss: 1.2383 - accuracy: 0.6007 - balanced_accuracy_new: 0.7299 - val_loss: 5.1507 - val_accuracy: 0.6016 - val_balanced_accuracy_new: 0.7788\n",
            "\n",
            " Self Augmented : {0: 812, 1: 707, 2: 1103, 3: 894, 4: 897, 5: 1333, 6: 1549, 7: 969, 8: 1320, 9: 490}  - number of epochs : 8 \n",
            "\n",
            "Epoch 9/100\n",
            "9/9 [==============================] - ETA: 0s - loss: 1.1898 - accuracy: 0.6224 - balanced_accuracy_new: 0.7398\n",
            " Self Augmented : {0: 0, 1: 0, 2: 0, 3: 0, 4: 0, 5: 0, 6: 0, 7: 0, 8: 0, 9: 0}  - number of epochs : 9 \n",
            "\n",
            "\n",
            "Epoch 9: val_balanced_accuracy_new did not improve from 0.79659\n",
            "\n",
            "Epoch 9: val_loss did not improve from 4.52585\n",
            "9/9 [==============================] - 49s 6s/step - loss: 1.1898 - accuracy: 0.6224 - balanced_accuracy_new: 0.7398 - val_loss: 4.9375 - val_accuracy: 0.5703 - val_balanced_accuracy_new: 0.7614\n",
            "\n",
            " Self Augmented : {0: 913, 1: 795, 2: 1240, 3: 1004, 4: 1008, 5: 1496, 6: 1740, 7: 1088, 8: 1482, 9: 550}  - number of epochs : 9 \n",
            "\n",
            "Epoch 10/100\n",
            "9/9 [==============================] - ETA: 0s - loss: 1.1713 - accuracy: 0.6215 - balanced_accuracy_new: 0.7380\n",
            " Self Augmented : {0: 0, 1: 0, 2: 0, 3: 0, 4: 0, 5: 0, 6: 0, 7: 0, 8: 0, 9: 0}  - number of epochs : 10 \n",
            "\n",
            "\n",
            "Epoch 10: val_balanced_accuracy_new did not improve from 0.79659\n",
            "\n",
            "Epoch 10: val_loss did not improve from 4.52585\n",
            "9/9 [==============================] - 49s 6s/step - loss: 1.1713 - accuracy: 0.6215 - balanced_accuracy_new: 0.7380 - val_loss: 5.1762 - val_accuracy: 0.5911 - val_balanced_accuracy_new: 0.7729\n",
            "\n",
            " Self Augmented : {0: 1014, 1: 883, 2: 1377, 3: 1114, 4: 1119, 5: 1659, 6: 1931, 7: 1207, 8: 1644, 9: 610}  - number of epochs : 10 \n",
            "\n",
            "Epoch 11/100\n",
            "9/9 [==============================] - ETA: 0s - loss: 1.1138 - accuracy: 0.6528 - balanced_accuracy_new: 0.7584\n",
            " Self Augmented : {0: 0, 1: 0, 2: 0, 3: 0, 4: 0, 5: 0, 6: 0, 7: 0, 8: 0, 9: 0}  - number of epochs : 11 \n",
            "\n",
            "\n",
            "Epoch 11: val_balanced_accuracy_new did not improve from 0.79659\n",
            "\n",
            "Epoch 11: val_loss did not improve from 4.52585\n",
            "9/9 [==============================] - 49s 6s/step - loss: 1.1138 - accuracy: 0.6528 - balanced_accuracy_new: 0.7584 - val_loss: 4.8274 - val_accuracy: 0.6068 - val_balanced_accuracy_new: 0.7802\n",
            "\n",
            " Self Augmented : {0: 1115, 1: 971, 2: 1514, 3: 1224, 4: 1230, 5: 1822, 6: 2122, 7: 1326, 8: 1806, 9: 670}  - number of epochs : 11 \n",
            "\n",
            "Epoch 12/100\n",
            "9/9 [==============================] - ETA: 0s - loss: 1.1386 - accuracy: 0.6380 - balanced_accuracy_new: 0.7573\n",
            " Self Augmented : {0: 0, 1: 0, 2: 0, 3: 0, 4: 0, 5: 0, 6: 0, 7: 0, 8: 0, 9: 0}  - number of epochs : 12 \n",
            "\n",
            "\n",
            "Epoch 12: val_balanced_accuracy_new did not improve from 0.79659\n",
            "\n",
            "Epoch 12: val_loss improved from 4.52585 to 4.50865, saving model to /content/drive/My Drive/ProgettoDL/weights/model_CALCIO_NO_CROP_vgg16/best_weights.h5\n",
            "9/9 [==============================] - 63s 7s/step - loss: 1.1386 - accuracy: 0.6380 - balanced_accuracy_new: 0.7573 - val_loss: 4.5087 - val_accuracy: 0.6068 - val_balanced_accuracy_new: 0.7804\n",
            "\n",
            " Self Augmented : {0: 1216, 1: 1059, 2: 1651, 3: 1334, 4: 1341, 5: 1985, 6: 2313, 7: 1445, 8: 1968, 9: 730}  - number of epochs : 12 \n",
            "\n",
            "Epoch 13/100\n",
            "9/9 [==============================] - ETA: 0s - loss: 1.1000 - accuracy: 0.6510 - balanced_accuracy_new: 0.7656\n",
            " Self Augmented : {0: 0, 1: 0, 2: 0, 3: 0, 4: 0, 5: 0, 6: 0, 7: 0, 8: 0, 9: 0}  - number of epochs : 13 \n",
            "\n",
            "\n",
            "Epoch 13: val_balanced_accuracy_new did not improve from 0.79659\n",
            "\n",
            "Epoch 13: val_loss improved from 4.50865 to 4.21289, saving model to /content/drive/My Drive/ProgettoDL/weights/model_CALCIO_NO_CROP_vgg16/best_weights.h5\n",
            "9/9 [==============================] - 64s 7s/step - loss: 1.1000 - accuracy: 0.6510 - balanced_accuracy_new: 0.7656 - val_loss: 4.2129 - val_accuracy: 0.6302 - val_balanced_accuracy_new: 0.7920\n",
            "\n",
            " Self Augmented : {0: 1317, 1: 1147, 2: 1788, 3: 1444, 4: 1452, 5: 2148, 6: 2504, 7: 1564, 8: 2130, 9: 790}  - number of epochs : 13 \n",
            "\n",
            "Epoch 14/100\n",
            "9/9 [==============================] - ETA: 0s - loss: 1.0206 - accuracy: 0.6771 - balanced_accuracy_new: 0.7784\n",
            " Self Augmented : {0: 0, 1: 0, 2: 0, 3: 0, 4: 0, 5: 0, 6: 0, 7: 0, 8: 0, 9: 0}  - number of epochs : 14 \n",
            "\n",
            "\n",
            "Epoch 14: val_balanced_accuracy_new did not improve from 0.79659\n",
            "\n",
            "Epoch 14: val_loss did not improve from 4.21289\n",
            "9/9 [==============================] - 50s 6s/step - loss: 1.0206 - accuracy: 0.6771 - balanced_accuracy_new: 0.7784 - val_loss: 4.2365 - val_accuracy: 0.6302 - val_balanced_accuracy_new: 0.7947\n",
            "\n",
            " Self Augmented : {0: 1418, 1: 1235, 2: 1925, 3: 1554, 4: 1563, 5: 2311, 6: 2695, 7: 1683, 8: 2292, 9: 850}  - number of epochs : 14 \n",
            "\n",
            "Epoch 15/100\n",
            "9/9 [==============================] - ETA: 0s - loss: 1.0414 - accuracy: 0.6866 - balanced_accuracy_new: 0.7779\n",
            " Self Augmented : {0: 0, 1: 0, 2: 0, 3: 0, 4: 0, 5: 0, 6: 0, 7: 0, 8: 0, 9: 0}  - number of epochs : 15 \n",
            "\n",
            "\n",
            "Epoch 15: val_balanced_accuracy_new did not improve from 0.79659\n",
            "\n",
            "Epoch 15: val_loss did not improve from 4.21289\n",
            "9/9 [==============================] - 49s 6s/step - loss: 1.0414 - accuracy: 0.6866 - balanced_accuracy_new: 0.7779 - val_loss: 4.5416 - val_accuracy: 0.6224 - val_balanced_accuracy_new: 0.7904\n",
            "\n",
            " Self Augmented : {0: 1519, 1: 1323, 2: 2062, 3: 1664, 4: 1674, 5: 2474, 6: 2886, 7: 1802, 8: 2454, 9: 910}  - number of epochs : 15 \n",
            "\n",
            "Epoch 16/100\n",
            "9/9 [==============================] - ETA: 0s - loss: 1.0187 - accuracy: 0.6840 - balanced_accuracy_new: 0.7773\n",
            " Self Augmented : {0: 0, 1: 0, 2: 0, 3: 0, 4: 0, 5: 0, 6: 0, 7: 0, 8: 0, 9: 0}  - number of epochs : 16 \n",
            "\n",
            "\n",
            "Epoch 16: val_balanced_accuracy_new improved from 0.79659 to 0.80194, saving model to /content/drive/My Drive/ProgettoDL/weights/model_CALCIO_NO_CROP_vgg16/best_weights.h5\n",
            "\n",
            "Epoch 16: val_loss improved from 4.21289 to 4.04381, saving model to /content/drive/My Drive/ProgettoDL/weights/model_CALCIO_NO_CROP_vgg16/best_weights.h5\n",
            "9/9 [==============================] - 69s 8s/step - loss: 1.0187 - accuracy: 0.6840 - balanced_accuracy_new: 0.7773 - val_loss: 4.0438 - val_accuracy: 0.6432 - val_balanced_accuracy_new: 0.8019\n",
            "\n",
            " Self Augmented : {0: 1620, 1: 1411, 2: 2199, 3: 1774, 4: 1785, 5: 2637, 6: 3077, 7: 1921, 8: 2616, 9: 970}  - number of epochs : 16 \n",
            "\n",
            "Epoch 17/100\n",
            "9/9 [==============================] - ETA: 0s - loss: 0.9408 - accuracy: 0.6892 - balanced_accuracy_new: 0.7845\n",
            " Self Augmented : {0: 0, 1: 0, 2: 0, 3: 0, 4: 0, 5: 0, 6: 0, 7: 0, 8: 0, 9: 0}  - number of epochs : 17 \n",
            "\n",
            "\n",
            "Epoch 17: val_balanced_accuracy_new did not improve from 0.80194\n",
            "\n",
            "Epoch 17: val_loss did not improve from 4.04381\n",
            "9/9 [==============================] - 50s 6s/step - loss: 0.9408 - accuracy: 0.6892 - balanced_accuracy_new: 0.7845 - val_loss: 4.1036 - val_accuracy: 0.6328 - val_balanced_accuracy_new: 0.7960\n",
            "\n",
            " Self Augmented : {0: 1721, 1: 1499, 2: 2336, 3: 1884, 4: 1896, 5: 2800, 6: 3268, 7: 2040, 8: 2778, 9: 1030}  - number of epochs : 17 \n",
            "\n",
            "Epoch 18/100\n",
            "9/9 [==============================] - ETA: 0s - loss: 0.9792 - accuracy: 0.6849 - balanced_accuracy_new: 0.7821\n",
            " Self Augmented : {0: 0, 1: 0, 2: 0, 3: 0, 4: 0, 5: 0, 6: 0, 7: 0, 8: 0, 9: 0}  - number of epochs : 18 \n",
            "\n",
            "\n",
            "Epoch 18: val_balanced_accuracy_new did not improve from 0.80194\n",
            "\n",
            "Epoch 18: val_loss did not improve from 4.04381\n",
            "9/9 [==============================] - 49s 6s/step - loss: 0.9792 - accuracy: 0.6849 - balanced_accuracy_new: 0.7821 - val_loss: 5.0983 - val_accuracy: 0.6120 - val_balanced_accuracy_new: 0.7847\n",
            "\n",
            " Self Augmented : {0: 1822, 1: 1587, 2: 2473, 3: 1994, 4: 2007, 5: 2963, 6: 3459, 7: 2159, 8: 2940, 9: 1090}  - number of epochs : 18 \n",
            "\n",
            "Epoch 19/100\n",
            "9/9 [==============================] - ETA: 0s - loss: 0.9516 - accuracy: 0.7075 - balanced_accuracy_new: 0.7918\n",
            " Self Augmented : {0: 0, 1: 0, 2: 0, 3: 0, 4: 0, 5: 0, 6: 0, 7: 0, 8: 0, 9: 0}  - number of epochs : 19 \n",
            "\n",
            "\n",
            "Epoch 19: val_balanced_accuracy_new did not improve from 0.80194\n",
            "\n",
            "Epoch 19: val_loss did not improve from 4.04381\n",
            "9/9 [==============================] - 49s 6s/step - loss: 0.9516 - accuracy: 0.7075 - balanced_accuracy_new: 0.7918 - val_loss: 4.2425 - val_accuracy: 0.6250 - val_balanced_accuracy_new: 0.7920\n",
            "\n",
            " Self Augmented : {0: 1923, 1: 1675, 2: 2610, 3: 2104, 4: 2118, 5: 3126, 6: 3650, 7: 2278, 8: 3102, 9: 1150}  - number of epochs : 19 \n",
            "\n",
            "Epoch 20/100\n",
            "9/9 [==============================] - ETA: 0s - loss: 0.9348 - accuracy: 0.7205 - balanced_accuracy_new: 0.7987\n",
            " Self Augmented : {0: 0, 1: 0, 2: 0, 3: 0, 4: 0, 5: 0, 6: 0, 7: 0, 8: 0, 9: 0}  - number of epochs : 20 \n",
            "\n",
            "\n",
            "Epoch 20: val_balanced_accuracy_new did not improve from 0.80194\n",
            "\n",
            "Epoch 20: val_loss improved from 4.04381 to 3.89927, saving model to /content/drive/My Drive/ProgettoDL/weights/model_CALCIO_NO_CROP_vgg16/best_weights.h5\n",
            "9/9 [==============================] - 63s 7s/step - loss: 0.9348 - accuracy: 0.7205 - balanced_accuracy_new: 0.7987 - val_loss: 3.8993 - val_accuracy: 0.6302 - val_balanced_accuracy_new: 0.7935\n",
            "\n",
            " Self Augmented : {0: 2024, 1: 1763, 2: 2747, 3: 2214, 4: 2229, 5: 3289, 6: 3841, 7: 2397, 8: 3264, 9: 1210}  - number of epochs : 20 \n",
            "\n",
            "Epoch 21/100\n",
            "9/9 [==============================] - ETA: 0s - loss: 0.8735 - accuracy: 0.7318 - balanced_accuracy_new: 0.8133\n",
            " Self Augmented : {0: 0, 1: 0, 2: 0, 3: 0, 4: 0, 5: 0, 6: 0, 7: 0, 8: 0, 9: 0}  - number of epochs : 21 \n",
            "\n",
            "\n",
            "Epoch 21: val_balanced_accuracy_new did not improve from 0.80194\n",
            "\n",
            "Epoch 21: val_loss did not improve from 3.89927\n",
            "9/9 [==============================] - 50s 6s/step - loss: 0.8735 - accuracy: 0.7318 - balanced_accuracy_new: 0.8133 - val_loss: 4.3860 - val_accuracy: 0.6328 - val_balanced_accuracy_new: 0.7962\n",
            "\n",
            " Self Augmented : {0: 2125, 1: 1851, 2: 2884, 3: 2324, 4: 2340, 5: 3452, 6: 4032, 7: 2516, 8: 3426, 9: 1270}  - number of epochs : 21 \n",
            "\n",
            "Epoch 22/100\n",
            "9/9 [==============================] - ETA: 0s - loss: 0.8839 - accuracy: 0.7075 - balanced_accuracy_new: 0.8010\n",
            " Self Augmented : {0: 0, 1: 0, 2: 0, 3: 0, 4: 0, 5: 0, 6: 0, 7: 0, 8: 0, 9: 0}  - number of epochs : 22 \n",
            "\n",
            "\n",
            "Epoch 22: val_balanced_accuracy_new did not improve from 0.80194\n",
            "\n",
            "Epoch 22: val_loss did not improve from 3.89927\n",
            "9/9 [==============================] - 48s 5s/step - loss: 0.8839 - accuracy: 0.7075 - balanced_accuracy_new: 0.8010 - val_loss: 4.3882 - val_accuracy: 0.6380 - val_balanced_accuracy_new: 0.7990\n",
            "\n",
            " Self Augmented : {0: 2226, 1: 1939, 2: 3021, 3: 2434, 4: 2451, 5: 3615, 6: 4223, 7: 2635, 8: 3588, 9: 1330}  - number of epochs : 22 \n",
            "\n",
            "Epoch 23/100\n",
            "9/9 [==============================] - ETA: 0s - loss: 0.8807 - accuracy: 0.7023 - balanced_accuracy_new: 0.7954\n",
            " Self Augmented : {0: 0, 1: 0, 2: 0, 3: 0, 4: 0, 5: 0, 6: 0, 7: 0, 8: 0, 9: 0}  - number of epochs : 23 \n",
            "\n",
            "\n",
            "Epoch 23: val_balanced_accuracy_new improved from 0.80194 to 0.80498, saving model to /content/drive/My Drive/ProgettoDL/weights/model_CALCIO_NO_CROP_vgg16/best_weights.h5\n",
            "\n",
            "Epoch 23: val_loss did not improve from 3.89927\n",
            "9/9 [==============================] - 61s 7s/step - loss: 0.8807 - accuracy: 0.7023 - balanced_accuracy_new: 0.7954 - val_loss: 4.0970 - val_accuracy: 0.6484 - val_balanced_accuracy_new: 0.8050\n",
            "\n",
            " Self Augmented : {0: 2327, 1: 2027, 2: 3158, 3: 2544, 4: 2562, 5: 3778, 6: 4414, 7: 2754, 8: 3750, 9: 1390}  - number of epochs : 23 \n",
            "\n",
            "Epoch 24/100\n",
            "9/9 [==============================] - ETA: 0s - loss: 0.8586 - accuracy: 0.7179 - balanced_accuracy_new: 0.8030\n",
            " Self Augmented : {0: 0, 1: 0, 2: 0, 3: 0, 4: 0, 5: 0, 6: 0, 7: 0, 8: 0, 9: 0}  - number of epochs : 24 \n",
            "\n",
            "\n",
            "Epoch 24: val_balanced_accuracy_new did not improve from 0.80498\n",
            "\n",
            "Epoch 24: val_loss did not improve from 3.89927\n",
            "9/9 [==============================] - 49s 6s/step - loss: 0.8586 - accuracy: 0.7179 - balanced_accuracy_new: 0.8030 - val_loss: 4.0449 - val_accuracy: 0.6120 - val_balanced_accuracy_new: 0.7820\n",
            "\n",
            " Self Augmented : {0: 2428, 1: 2115, 2: 3295, 3: 2654, 4: 2673, 5: 3941, 6: 4605, 7: 2873, 8: 3912, 9: 1450}  - number of epochs : 24 \n",
            "\n",
            "Epoch 25/100\n",
            "9/9 [==============================] - ETA: 0s - loss: 0.8875 - accuracy: 0.7049 - balanced_accuracy_new: 0.7931\n",
            " Self Augmented : {0: 0, 1: 0, 2: 0, 3: 0, 4: 0, 5: 0, 6: 0, 7: 0, 8: 0, 9: 0}  - number of epochs : 25 \n",
            "\n",
            "\n",
            "Epoch 25: val_balanced_accuracy_new did not improve from 0.80498\n",
            "\n",
            "Epoch 25: val_loss improved from 3.89927 to 3.78359, saving model to /content/drive/My Drive/ProgettoDL/weights/model_CALCIO_NO_CROP_vgg16/best_weights.h5\n",
            "9/9 [==============================] - 60s 7s/step - loss: 0.8875 - accuracy: 0.7049 - balanced_accuracy_new: 0.7931 - val_loss: 3.7836 - val_accuracy: 0.6432 - val_balanced_accuracy_new: 0.8018\n",
            "\n",
            " Self Augmented : {0: 2529, 1: 2203, 2: 3432, 3: 2764, 4: 2784, 5: 4104, 6: 4796, 7: 2992, 8: 4074, 9: 1510}  - number of epochs : 25 \n",
            "\n",
            "Epoch 26/100\n",
            "9/9 [==============================] - ETA: 0s - loss: 0.8338 - accuracy: 0.7127 - balanced_accuracy_new: 0.8009\n",
            " Self Augmented : {0: 0, 1: 0, 2: 0, 3: 0, 4: 0, 5: 0, 6: 0, 7: 0, 8: 0, 9: 0}  - number of epochs : 26 \n",
            "\n",
            "\n",
            "Epoch 26: val_balanced_accuracy_new did not improve from 0.80498\n",
            "\n",
            "Epoch 26: val_loss did not improve from 3.78359\n",
            "9/9 [==============================] - 49s 6s/step - loss: 0.8338 - accuracy: 0.7127 - balanced_accuracy_new: 0.8009 - val_loss: 4.2582 - val_accuracy: 0.6146 - val_balanced_accuracy_new: 0.7849\n",
            "\n",
            " Self Augmented : {0: 2630, 1: 2291, 2: 3569, 3: 2874, 4: 2895, 5: 4267, 6: 4987, 7: 3111, 8: 4236, 9: 1570}  - number of epochs : 26 \n",
            "\n",
            "Epoch 27/100\n",
            "9/9 [==============================] - ETA: 0s - loss: 0.8220 - accuracy: 0.7378 - balanced_accuracy_new: 0.8128\n",
            " Self Augmented : {0: 0, 1: 0, 2: 0, 3: 0, 4: 0, 5: 0, 6: 0, 7: 0, 8: 0, 9: 0}  - number of epochs : 27 \n",
            "\n",
            "\n",
            "Epoch 27: val_balanced_accuracy_new did not improve from 0.80498\n",
            "\n",
            "Epoch 27: val_loss did not improve from 3.78359\n",
            "9/9 [==============================] - 48s 5s/step - loss: 0.8220 - accuracy: 0.7378 - balanced_accuracy_new: 0.8128 - val_loss: 4.3058 - val_accuracy: 0.6016 - val_balanced_accuracy_new: 0.7788\n",
            "\n",
            " Self Augmented : {0: 2731, 1: 2379, 2: 3706, 3: 2984, 4: 3006, 5: 4430, 6: 5178, 7: 3230, 8: 4398, 9: 1630}  - number of epochs : 27 \n",
            "\n",
            "Epoch 28/100\n",
            "9/9 [==============================] - ETA: 0s - loss: 0.8130 - accuracy: 0.7413 - balanced_accuracy_new: 0.8189\n",
            " Self Augmented : {0: 0, 1: 0, 2: 0, 3: 0, 4: 0, 5: 0, 6: 0, 7: 0, 8: 0, 9: 0}  - number of epochs : 28 \n",
            "\n",
            "\n",
            "Epoch 28: val_balanced_accuracy_new improved from 0.80498 to 0.81351, saving model to /content/drive/My Drive/ProgettoDL/weights/model_CALCIO_NO_CROP_vgg16/best_weights.h5\n",
            "\n",
            "Epoch 28: val_loss did not improve from 3.78359\n",
            "9/9 [==============================] - 61s 7s/step - loss: 0.8130 - accuracy: 0.7413 - balanced_accuracy_new: 0.8189 - val_loss: 4.2862 - val_accuracy: 0.6667 - val_balanced_accuracy_new: 0.8135\n",
            "\n",
            " Self Augmented : {0: 2832, 1: 2467, 2: 3843, 3: 3094, 4: 3117, 5: 4593, 6: 5369, 7: 3349, 8: 4560, 9: 1690}  - number of epochs : 28 \n",
            "\n",
            "Epoch 29/100\n",
            "9/9 [==============================] - ETA: 0s - loss: 0.8121 - accuracy: 0.7457 - balanced_accuracy_new: 0.8167\n",
            " Self Augmented : {0: 0, 1: 0, 2: 0, 3: 0, 4: 0, 5: 0, 6: 0, 7: 0, 8: 0, 9: 0}  - number of epochs : 29 \n",
            "\n",
            "\n",
            "Epoch 29: val_balanced_accuracy_new did not improve from 0.81351\n",
            "\n",
            "Epoch 29: val_loss did not improve from 3.78359\n",
            "9/9 [==============================] - 50s 6s/step - loss: 0.8121 - accuracy: 0.7457 - balanced_accuracy_new: 0.8167 - val_loss: 3.9459 - val_accuracy: 0.6406 - val_balanced_accuracy_new: 0.8008\n",
            "\n",
            " Self Augmented : {0: 2933, 1: 2555, 2: 3980, 3: 3204, 4: 3228, 5: 4756, 6: 5560, 7: 3468, 8: 4722, 9: 1750}  - number of epochs : 29 \n",
            "\n",
            "Epoch 30/100\n",
            "9/9 [==============================] - ETA: 0s - loss: 0.7590 - accuracy: 0.7465 - balanced_accuracy_new: 0.8212\n",
            " Self Augmented : {0: 0, 1: 0, 2: 0, 3: 0, 4: 0, 5: 0, 6: 0, 7: 0, 8: 0, 9: 0}  - number of epochs : 30 \n",
            "\n",
            "\n",
            "Epoch 30: val_balanced_accuracy_new did not improve from 0.81351\n",
            "\n",
            "Epoch 30: val_loss did not improve from 3.78359\n",
            "9/9 [==============================] - 49s 6s/step - loss: 0.7590 - accuracy: 0.7465 - balanced_accuracy_new: 0.8212 - val_loss: 3.8444 - val_accuracy: 0.6510 - val_balanced_accuracy_new: 0.8037\n",
            "\n",
            " Self Augmented : {0: 3034, 1: 2643, 2: 4117, 3: 3314, 4: 3339, 5: 4919, 6: 5751, 7: 3587, 8: 4884, 9: 1810}  - number of epochs : 30 \n",
            "\n",
            "Epoch 31/100\n",
            "9/9 [==============================] - ETA: 0s - loss: 0.7211 - accuracy: 0.7665 - balanced_accuracy_new: 0.8257\n",
            " Self Augmented : {0: 0, 1: 0, 2: 0, 3: 0, 4: 0, 5: 0, 6: 0, 7: 0, 8: 0, 9: 0}  - number of epochs : 31 \n",
            "\n",
            "\n",
            "Epoch 31: val_balanced_accuracy_new did not improve from 0.81351\n",
            "\n",
            "Epoch 31: val_loss improved from 3.78359 to 3.77120, saving model to /content/drive/My Drive/ProgettoDL/weights/model_CALCIO_NO_CROP_vgg16/best_weights.h5\n",
            "9/9 [==============================] - 62s 7s/step - loss: 0.7211 - accuracy: 0.7665 - balanced_accuracy_new: 0.8257 - val_loss: 3.7712 - val_accuracy: 0.6276 - val_balanced_accuracy_new: 0.7918\n",
            "\n",
            " Self Augmented : {0: 3135, 1: 2731, 2: 4254, 3: 3424, 4: 3450, 5: 5082, 6: 5942, 7: 3706, 8: 5046, 9: 1870}  - number of epochs : 31 \n",
            "\n",
            "Epoch 32/100\n",
            "9/9 [==============================] - ETA: 0s - loss: 0.7954 - accuracy: 0.7309 - balanced_accuracy_new: 0.8143\n",
            " Self Augmented : {0: 0, 1: 0, 2: 0, 3: 0, 4: 0, 5: 0, 6: 0, 7: 0, 8: 0, 9: 0}  - number of epochs : 32 \n",
            "\n",
            "\n",
            "Epoch 32: val_balanced_accuracy_new did not improve from 0.81351\n",
            "\n",
            "Epoch 32: val_loss did not improve from 3.77120\n",
            "9/9 [==============================] - 50s 6s/step - loss: 0.7954 - accuracy: 0.7309 - balanced_accuracy_new: 0.8143 - val_loss: 3.9279 - val_accuracy: 0.6536 - val_balanced_accuracy_new: 0.8050\n",
            "\n",
            " Self Augmented : {0: 3236, 1: 2819, 2: 4391, 3: 3534, 4: 3561, 5: 5245, 6: 6133, 7: 3825, 8: 5208, 9: 1930}  - number of epochs : 32 \n",
            "\n",
            "Epoch 33/100\n",
            "9/9 [==============================] - ETA: 0s - loss: 0.7341 - accuracy: 0.7535 - balanced_accuracy_new: 0.8305\n",
            " Self Augmented : {0: 0, 1: 0, 2: 0, 3: 0, 4: 0, 5: 0, 6: 0, 7: 0, 8: 0, 9: 0}  - number of epochs : 33 \n",
            "\n",
            "\n",
            "Epoch 33: val_balanced_accuracy_new improved from 0.81351 to 0.81771, saving model to /content/drive/My Drive/ProgettoDL/weights/model_CALCIO_NO_CROP_vgg16/best_weights.h5\n",
            "\n",
            "Epoch 33: val_loss improved from 3.77120 to 3.60915, saving model to /content/drive/My Drive/ProgettoDL/weights/model_CALCIO_NO_CROP_vgg16/best_weights.h5\n",
            "9/9 [==============================] - 70s 8s/step - loss: 0.7341 - accuracy: 0.7535 - balanced_accuracy_new: 0.8305 - val_loss: 3.6092 - val_accuracy: 0.6719 - val_balanced_accuracy_new: 0.8177\n",
            "\n",
            " Self Augmented : {0: 3337, 1: 2907, 2: 4528, 3: 3644, 4: 3672, 5: 5408, 6: 6324, 7: 3944, 8: 5370, 9: 1990}  - number of epochs : 33 \n",
            "\n",
            "Epoch 34/100\n",
            "9/9 [==============================] - ETA: 0s - loss: 0.7316 - accuracy: 0.7613 - balanced_accuracy_new: 0.8314\n",
            " Self Augmented : {0: 0, 1: 0, 2: 0, 3: 0, 4: 0, 5: 0, 6: 0, 7: 0, 8: 0, 9: 0}  - number of epochs : 34 \n",
            "\n",
            "\n",
            "Epoch 34: val_balanced_accuracy_new improved from 0.81771 to 0.82364, saving model to /content/drive/My Drive/ProgettoDL/weights/model_CALCIO_NO_CROP_vgg16/best_weights.h5\n",
            "\n",
            "Epoch 34: val_loss did not improve from 3.60915\n",
            "9/9 [==============================] - 62s 7s/step - loss: 0.7316 - accuracy: 0.7613 - balanced_accuracy_new: 0.8314 - val_loss: 3.6826 - val_accuracy: 0.6823 - val_balanced_accuracy_new: 0.8236\n",
            "\n",
            " Self Augmented : {0: 3438, 1: 2995, 2: 4665, 3: 3754, 4: 3783, 5: 5571, 6: 6515, 7: 4063, 8: 5532, 9: 2050}  - number of epochs : 34 \n",
            "\n",
            "Epoch 35/100\n",
            "9/9 [==============================] - ETA: 0s - loss: 0.7115 - accuracy: 0.7569 - balanced_accuracy_new: 0.8311\n",
            " Self Augmented : {0: 0, 1: 0, 2: 0, 3: 0, 4: 0, 5: 0, 6: 0, 7: 0, 8: 0, 9: 0}  - number of epochs : 35 \n",
            "\n",
            "\n",
            "Epoch 35: val_balanced_accuracy_new did not improve from 0.82364\n",
            "\n",
            "Epoch 35: val_loss did not improve from 3.60915\n",
            "9/9 [==============================] - 50s 6s/step - loss: 0.7115 - accuracy: 0.7569 - balanced_accuracy_new: 0.8311 - val_loss: 3.8224 - val_accuracy: 0.6589 - val_balanced_accuracy_new: 0.8105\n",
            "\n",
            " Self Augmented : {0: 3539, 1: 3083, 2: 4802, 3: 3864, 4: 3894, 5: 5734, 6: 6706, 7: 4182, 8: 5694, 9: 2110}  - number of epochs : 35 \n",
            "\n",
            "Epoch 36/100\n",
            "9/9 [==============================] - ETA: 0s - loss: 0.7179 - accuracy: 0.7674 - balanced_accuracy_new: 0.8407\n",
            " Self Augmented : {0: 0, 1: 0, 2: 0, 3: 0, 4: 0, 5: 0, 6: 0, 7: 0, 8: 0, 9: 0}  - number of epochs : 36 \n",
            "\n",
            "\n",
            "Epoch 36: val_balanced_accuracy_new did not improve from 0.82364\n",
            "\n",
            "Epoch 36: val_loss did not improve from 3.60915\n",
            "9/9 [==============================] - 51s 6s/step - loss: 0.7179 - accuracy: 0.7674 - balanced_accuracy_new: 0.8407 - val_loss: 4.1512 - val_accuracy: 0.6562 - val_balanced_accuracy_new: 0.8077\n",
            "\n",
            " Self Augmented : {0: 3640, 1: 3171, 2: 4939, 3: 3974, 4: 4005, 5: 5897, 6: 6897, 7: 4301, 8: 5856, 9: 2170}  - number of epochs : 36 \n",
            "\n",
            "Epoch 37/100\n",
            "9/9 [==============================] - ETA: 0s - loss: 0.7080 - accuracy: 0.7674 - balanced_accuracy_new: 0.8316\n",
            " Self Augmented : {0: 0, 1: 0, 2: 0, 3: 0, 4: 0, 5: 0, 6: 0, 7: 0, 8: 0, 9: 0}  - number of epochs : 37 \n",
            "\n",
            "\n",
            "Epoch 37: val_balanced_accuracy_new did not improve from 0.82364\n",
            "\n",
            "Epoch 37: val_loss did not improve from 3.60915\n",
            "9/9 [==============================] - 55s 6s/step - loss: 0.7080 - accuracy: 0.7674 - balanced_accuracy_new: 0.8316 - val_loss: 4.1374 - val_accuracy: 0.6198 - val_balanced_accuracy_new: 0.7891\n",
            "\n",
            " Self Augmented : {0: 3741, 1: 3259, 2: 5076, 3: 4084, 4: 4116, 5: 6060, 6: 7088, 7: 4420, 8: 6018, 9: 2230}  - number of epochs : 37 \n",
            "\n",
            "Epoch 38/100\n",
            "9/9 [==============================] - ETA: 0s - loss: 0.6907 - accuracy: 0.7552 - balanced_accuracy_new: 0.8338\n",
            " Self Augmented : {0: 0, 1: 0, 2: 0, 3: 0, 4: 0, 5: 0, 6: 0, 7: 0, 8: 0, 9: 0}  - number of epochs : 38 \n",
            "\n",
            "\n",
            "Epoch 38: val_balanced_accuracy_new did not improve from 0.82364\n",
            "\n",
            "Epoch 38: val_loss did not improve from 3.60915\n",
            "9/9 [==============================] - 52s 6s/step - loss: 0.6907 - accuracy: 0.7552 - balanced_accuracy_new: 0.8338 - val_loss: 4.2410 - val_accuracy: 0.6797 - val_balanced_accuracy_new: 0.8222\n",
            "\n",
            " Self Augmented : {0: 3842, 1: 3347, 2: 5213, 3: 4194, 4: 4227, 5: 6223, 6: 7279, 7: 4539, 8: 6180, 9: 2290}  - number of epochs : 38 \n",
            "\n",
            "Epoch 39/100\n",
            "9/9 [==============================] - ETA: 0s - loss: 0.6818 - accuracy: 0.7752 - balanced_accuracy_new: 0.8374\n",
            " Self Augmented : {0: 0, 1: 0, 2: 0, 3: 0, 4: 0, 5: 0, 6: 0, 7: 0, 8: 0, 9: 0}  - number of epochs : 39 \n",
            "\n",
            "\n",
            "Epoch 39: val_balanced_accuracy_new did not improve from 0.82364\n",
            "\n",
            "Epoch 39: val_loss did not improve from 3.60915\n",
            "9/9 [==============================] - 54s 6s/step - loss: 0.6818 - accuracy: 0.7752 - balanced_accuracy_new: 0.8374 - val_loss: 4.0161 - val_accuracy: 0.6510 - val_balanced_accuracy_new: 0.8048\n",
            "\n",
            " Self Augmented : {0: 3943, 1: 3435, 2: 5350, 3: 4304, 4: 4338, 5: 6386, 6: 7470, 7: 4658, 8: 6342, 9: 2350}  - number of epochs : 39 \n",
            "\n",
            "Epoch 40/100\n",
            "9/9 [==============================] - ETA: 0s - loss: 0.6707 - accuracy: 0.7734 - balanced_accuracy_new: 0.8346\n",
            " Self Augmented : {0: 0, 1: 0, 2: 0, 3: 0, 4: 0, 5: 0, 6: 0, 7: 0, 8: 0, 9: 0}  - number of epochs : 40 \n",
            "\n",
            "\n",
            "Epoch 40: val_balanced_accuracy_new did not improve from 0.82364\n",
            "\n",
            "Epoch 40: val_loss did not improve from 3.60915\n",
            "9/9 [==============================] - 52s 6s/step - loss: 0.6707 - accuracy: 0.7734 - balanced_accuracy_new: 0.8346 - val_loss: 4.0004 - val_accuracy: 0.6667 - val_balanced_accuracy_new: 0.8135\n",
            "\n",
            " Self Augmented : {0: 4044, 1: 3523, 2: 5487, 3: 4414, 4: 4449, 5: 6549, 6: 7661, 7: 4777, 8: 6504, 9: 2410}  - number of epochs : 40 \n",
            "\n",
            "Epoch 41/100\n",
            "9/9 [==============================] - ETA: 0s - loss: 0.6794 - accuracy: 0.7743 - balanced_accuracy_new: 0.8392\n",
            " Self Augmented : {0: 0, 1: 0, 2: 0, 3: 0, 4: 0, 5: 0, 6: 0, 7: 0, 8: 0, 9: 0}  - number of epochs : 41 \n",
            "\n",
            "\n",
            "Epoch 41: val_balanced_accuracy_new did not improve from 0.82364\n",
            "\n",
            "Epoch 41: val_loss did not improve from 3.60915\n",
            "9/9 [==============================] - 52s 6s/step - loss: 0.6794 - accuracy: 0.7743 - balanced_accuracy_new: 0.8392 - val_loss: 3.7816 - val_accuracy: 0.6771 - val_balanced_accuracy_new: 0.8193\n",
            "\n",
            " Self Augmented : {0: 4145, 1: 3611, 2: 5624, 3: 4524, 4: 4560, 5: 6712, 6: 7852, 7: 4896, 8: 6666, 9: 2470}  - number of epochs : 41 \n",
            "\n",
            "Epoch 42/100\n",
            "9/9 [==============================] - ETA: 0s - loss: 0.6336 - accuracy: 0.7925 - balanced_accuracy_new: 0.8540\n",
            " Self Augmented : {0: 0, 1: 0, 2: 0, 3: 0, 4: 0, 5: 0, 6: 0, 7: 0, 8: 0, 9: 0}  - number of epochs : 42 \n",
            "\n",
            "\n",
            "Epoch 42: val_balanced_accuracy_new did not improve from 0.82364\n",
            "\n",
            "Epoch 42: val_loss improved from 3.60915 to 3.59684, saving model to /content/drive/My Drive/ProgettoDL/weights/model_CALCIO_NO_CROP_vgg16/best_weights.h5\n",
            "9/9 [==============================] - 85s 10s/step - loss: 0.6336 - accuracy: 0.7925 - balanced_accuracy_new: 0.8540 - val_loss: 3.5968 - val_accuracy: 0.6797 - val_balanced_accuracy_new: 0.8222\n",
            "\n",
            " Self Augmented : {0: 4246, 1: 3699, 2: 5761, 3: 4634, 4: 4671, 5: 6875, 6: 8043, 7: 5015, 8: 6828, 9: 2530}  - number of epochs : 42 \n",
            "\n",
            "Epoch 43/100\n",
            "9/9 [==============================] - ETA: 0s - loss: 0.6324 - accuracy: 0.7882 - balanced_accuracy_new: 0.8515\n",
            " Self Augmented : {0: 0, 1: 0, 2: 0, 3: 0, 4: 0, 5: 0, 6: 0, 7: 0, 8: 0, 9: 0}  - number of epochs : 43 \n",
            "\n",
            "\n",
            "Epoch 43: val_balanced_accuracy_new did not improve from 0.82364\n",
            "\n",
            "Epoch 43: val_loss did not improve from 3.59684\n",
            "9/9 [==============================] - 54s 6s/step - loss: 0.6324 - accuracy: 0.7882 - balanced_accuracy_new: 0.8515 - val_loss: 4.1109 - val_accuracy: 0.6589 - val_balanced_accuracy_new: 0.8095\n",
            "\n",
            " Self Augmented : {0: 4347, 1: 3787, 2: 5898, 3: 4744, 4: 4782, 5: 7038, 6: 8234, 7: 5134, 8: 6990, 9: 2590}  - number of epochs : 43 \n",
            "\n",
            "Epoch 44/100\n",
            "9/9 [==============================] - ETA: 0s - loss: 0.6214 - accuracy: 0.7873 - balanced_accuracy_new: 0.8477\n",
            " Self Augmented : {0: 0, 1: 0, 2: 0, 3: 0, 4: 0, 5: 0, 6: 0, 7: 0, 8: 0, 9: 0}  - number of epochs : 44 \n",
            "\n",
            "\n",
            "Epoch 44: val_balanced_accuracy_new did not improve from 0.82364\n",
            "\n",
            "Epoch 44: val_loss did not improve from 3.59684\n",
            "9/9 [==============================] - 51s 6s/step - loss: 0.6214 - accuracy: 0.7873 - balanced_accuracy_new: 0.8477 - val_loss: 4.1089 - val_accuracy: 0.6641 - val_balanced_accuracy_new: 0.8121\n",
            "dict_keys(['loss', 'accuracy', 'balanced_accuracy_new', 'val_loss', 'val_accuracy', 'val_balanced_accuracy_new'])\n"
          ]
        }
      ],
      "source": [
        "from sklearn.preprocessing import LabelBinarizer\n",
        "\n",
        "history = model.fit(x=traingen,validation_data=valgen, epochs=num_epochs, callbacks = [callbacks] , verbose=1)\n",
        "\n",
        "#history = model.fit(x=traingen,validation_data=valgen, epochs=num_epochs, callbacks = [callbacks] , verbose=1, class_weight = weights_fit)\n",
        "\n",
        "print(history.history.keys()) #---serve per stampare le metriche che ho nel modello \n"
      ]
    },
    {
      "cell_type": "code",
      "execution_count": 22,
      "metadata": {
        "id": "DXuAwBb29Alg",
        "colab": {
          "base_uri": "https://localhost:8080/",
          "height": 53
        },
        "outputId": "cda7588b-9c10-4ea9-e264-045383fd888c"
      },
      "outputs": [
        {
          "output_type": "execute_result",
          "data": {
            "text/plain": [
              "'\\n#CONCATENARE DATAFRAME TRAIN E VALIDATION\\nfor train_index,test_index in KFold(n_split).split(DATAFRAME_CONCATENATO_CREATO):\\n\\n  x_train,x_test=X[train_index],X[test_index]\\n  y_train,y_test=Y[train_index],Y[test_index]\\n  #TRAINGEN\\n  #VALGEN\\n\\n  model.fit(x_train, y_train,epochs=20) #DA SISTEMARE\\n'"
            ],
            "application/vnd.google.colaboratory.intrinsic+json": {
              "type": "string"
            }
          },
          "metadata": {},
          "execution_count": 22
        }
      ],
      "source": [
        "#QUA PROVARE IL K-FOLD CROSS VALIDATION\n",
        "\n",
        "'''\n",
        "#CONCATENARE DATAFRAME TRAIN E VALIDATION\n",
        "for train_index,test_index in KFold(n_split).split(DATAFRAME_CONCATENATO_CREATO):\n",
        "  x_train,x_test=X[train_index],X[test_index]\n",
        "  y_train,y_test=Y[train_index],Y[test_index]\n",
        "  #TRAINGEN\n",
        "  #VALGEN\n",
        "  model.fit(x_train, y_train,epochs=20) #DA SISTEMARE\n",
        "'''"
      ]
    },
    {
      "cell_type": "code",
      "execution_count": 23,
      "metadata": {
        "id": "ct09zaPoMGKZ"
      },
      "outputs": [],
      "source": [
        "#print(traingen.class_augmented)\n",
        "#print(traingen.class_augmented_base)\n",
        "#print(valgen.class_augmented)\n",
        "#print(testgen.class_augmented)"
      ]
    },
    {
      "cell_type": "markdown",
      "metadata": {
        "id": "xBGTOuc1VSqq"
      },
      "source": [
        "## PLOT "
      ]
    },
    {
      "cell_type": "code",
      "execution_count": 27,
      "metadata": {
        "id": "bQzh_8drJ56m",
        "colab": {
          "base_uri": "https://localhost:8080/",
          "height": 89
        },
        "outputId": "bbc63107-1c28-49da-d6c8-69ed674e9dd2"
      },
      "outputs": [
        {
          "output_type": "display_data",
          "data": {
            "text/plain": [
              "<Figure size 432x288 with 1 Axes>"
            ],
            "image/png": "[encoded data removed]"
          },
          "metadata": {
            "needs_background": "light"
          }
        },
        {
          "output_type": "display_data",
          "data": {
            "text/plain": [
              "<Figure size 432x288 with 1 Axes>"
            ],
            "image/png": "[encoded data removed]"
          },
          "metadata": {
            "needs_background": "light"
          }
        },
        {
          "output_type": "display_data",
          "data": {
            "text/plain": [
              "<Figure size 432x288 with 1 Axes>"
            ],
            "image/png": "[encoded data removed]"
          },
          "metadata": {
            "needs_background": "light"
          }
        }
      ],
      "source": [
        "'''PLOT CURVES'''\n",
        "\n",
        "path = path_drive+'ProgettoDL/'\n",
        "\n",
        "acc = history.history['accuracy']\n",
        "val_acc = history.history['val_accuracy']\n",
        "loss = history.history['loss']\n",
        "val_loss = history.history['val_loss']\n",
        "bal_acc = history.history['balanced_accuracy_new']\n",
        "val_bal_acc = history.history['val_balanced_accuracy_new']\n",
        "lista = [acc,val_acc,loss,val_loss,bal_acc, val_bal_acc]\n",
        "\n",
        "\n",
        "#print(corr(history.history['accuracy'], history_mask.history_mask['accuracy']))\n",
        "\n",
        "import csv\n",
        "\n",
        "with open(\"VGG16.csv\", \"w\", newline=\"\") as f:\n",
        "    writer = csv.writer(f)\n",
        "    writer.writerows(lista)\n",
        "     \n",
        "epochs = range(len(acc))\n",
        "\n",
        "plt.plot(epochs, acc, 'b', label='Training acc')\n",
        "plt.plot(epochs, val_acc, 'r', label='Validation acc')\n",
        "plt.title('Training and validation accuracy (IMG)')\n",
        "plt.legend()\n",
        "plt.savefig(os.path.join(path+'weights/PlotAcc_{}_{}.png'.format(immgs,cnn))) \n",
        "\n",
        "plt.figure()\n",
        " \n",
        "plt.plot(epochs, loss, 'b', label='Training loss')\n",
        "plt.plot(epochs, val_loss, 'r', label='Validation loss')\n",
        "plt.title('Training and validation loss (IMG)')\n",
        "plt.legend()\n",
        "plt.savefig(os.path.join(path+'weights/PlotLoss_{}_{}.png'.format(immgs,cnn)))\n",
        "\n",
        "plt.figure()\n",
        "\n",
        "plt.plot(epochs, bal_acc, 'b', label='Training Balance Accuracy')\n",
        "plt.plot(epochs, val_bal_acc, 'r', label='Validation Balance Accuracy')\n",
        "plt.title('Training and validation balance accuracy (IMG)')\n",
        "plt.legend()\n",
        "plt.savefig(os.path.join(path+'weights/PlotBalAcc_{}_{}.png'.format(immgs,cnn)))"
      ]
    },
    {
      "cell_type": "markdown",
      "metadata": {
        "id": "QjI6Y_nefFTj"
      },
      "source": [
        "## SAVE MODEL "
      ]
    },
    {
      "cell_type": "code",
      "execution_count": 28,
      "metadata": {
        "id": "ApFaEaa6oPu0",
        "colab": {
          "base_uri": "https://localhost:8080/"
        },
        "outputId": "b3d84c08-14b9-498f-94a5-97195940f14b"
      },
      "outputs": [
        {
          "output_type": "stream",
          "name": "stdout",
          "text": [
            "Saved model to disk\n"
          ]
        }
      ],
      "source": [
        "#salvataggio modello pesi finali\n",
        "from tensorflow.keras.models import Sequential, save_model, load_model\n",
        "path = path_drive+'ProgettoDL/'\n",
        "model.save(os.path.join(path+'weights/model_tensorflow_DA_{}_{}/Final'.format(immgs,cnn)))\n",
        "print(\"Saved model to disk\")"
      ]
    },
    {
      "cell_type": "markdown",
      "metadata": {
        "id": "XefnmV_tsbOw"
      },
      "source": [
        "## LOAD MODEL "
      ]
    },
    {
      "cell_type": "code",
      "execution_count": 29,
      "metadata": {
        "id": "3VDiBcm-XEOb",
        "colab": {
          "base_uri": "https://localhost:8080/"
        },
        "outputId": "96254ff9-cf7f-4d73-8b17-aa9bf509c2ec"
      },
      "outputs": [
        {
          "output_type": "stream",
          "name": "stdout",
          "text": [
            "Model IMG Loaded\n"
          ]
        }
      ],
      "source": [
        "'''TEST'''\n",
        "import os\n",
        "from tensorflow.keras.models import Sequential, save_model, load_model\n",
        "path_drive = '/content/drive/My Drive/'\n",
        "path = path_drive+'ProgettoDL/'\n",
        "\n",
        "path_model = os.path.join(path+'weights/model_tensorflow_DA_{}_{}/Final'.format(immgs,cnn))\n",
        "\n",
        "\n",
        "'''\n",
        "Per evitare di fare compile=False, forse sarebbe da aggiungere metric bal_acc nel nostro caso --- da fare comunque perché non è corretto così \n",
        "model = load_model(model_path, custom_objects={'conditional_average_metric': conditional_average_metric, 'specificity': specificity, 'sensitivity': sensitivity})\n",
        "'''\n",
        "#model = load_model(path_model, compile=False)\n",
        "model = load_model(path_model, custom_objects={'balanced_accuracy_new':balanced_accuracy_new})\n",
        "\n",
        "print('Model IMG Loaded')\n"
      ]
    },
    {
      "cell_type": "markdown",
      "metadata": {
        "id": "HQMtb_JBD5Vp"
      },
      "source": [
        "## PREDICTION "
      ]
    },
    {
      "cell_type": "code",
      "execution_count": 30,
      "metadata": {
        "id": "qDb9juVJfFBc"
      },
      "outputs": [],
      "source": [
        "from tensorflow.keras.models import Sequential, save_model, load_model\n",
        "from tensorflow.keras import Model\n",
        "from keras.applications.vgg16 import preprocess_input\n",
        "\n",
        "test_array = []\n",
        "test_array_series = []\n",
        "\n",
        "for index, row in test_balance_df.iterrows():\n",
        "    class_ = int(row['class'])\n",
        "    series_ = int(row['series'])          #---da qui e nei prossimi, calcolo la ground thruth del shotgun series, ovvero i semplici COD_COMPONENTE (serie) che appartengono al sub-set di test\n",
        "    test_array.append(class_)\n",
        "    test_array_series.append(series_)     #---\n",
        "\n",
        "test_array = np.array(test_array)\n",
        "test_array_series = np.array(test_array_series)   #---\n",
        "\n",
        "y_test = to_categorical(np.unique(test_array, return_inverse=True)[1])\n",
        "y_test_series = to_categorical(np.unique(test_array_series, return_inverse=True)[1])      #---\n",
        "\n",
        "imgs_array = [] \n",
        "\n",
        "\n",
        "for index, row in testgen.df.iterrows():\n",
        "    filename = row['filename'] \n",
        "    image = load_img(os.path.join(path_IMAGES,filename), target_size = (immg_rows, immg_cols))\n",
        "    x = img_to_array(image)\n",
        "    x = preprocess_input(x, data_format=\"channels_first\")\n",
        "    imgs_array.append(x)\n",
        "    X_test = np.asarray(imgs_array)\n"
      ]
    },
    {
      "cell_type": "code",
      "execution_count": 53,
      "metadata": {
        "id": "3FpZ8K4yZXZ7",
        "colab": {
          "base_uri": "https://localhost:8080/",
          "height": 236
        },
        "outputId": "f90f28f3-c0c6-41d4-b9a7-af52bfa30c47"
      },
      "outputs": [
        {
          "output_type": "error",
          "ename": "AxisError",
          "evalue": "ignored",
          "traceback": [
            "\u001b[0;31m---------------------------------------------------------------------------\u001b[0m",
            "\u001b[0;31mAxisError\u001b[0m                                 Traceback (most recent call last)",
            "\u001b[0;32m<ipython-input-53-209dd53db4a2>\u001b[0m in \u001b[0;36m<module>\u001b[0;34m\u001b[0m\n\u001b[1;32m      1\u001b[0m \u001b[0my_test_no_argmax\u001b[0m \u001b[0;34m=\u001b[0m \u001b[0my_test\u001b[0m\u001b[0;34m\u001b[0m\u001b[0;34m\u001b[0m\u001b[0m\n\u001b[0;32m----> 2\u001b[0;31m \u001b[0my_test\u001b[0m \u001b[0;34m=\u001b[0m \u001b[0my_test\u001b[0m\u001b[0;34m.\u001b[0m\u001b[0margmax\u001b[0m\u001b[0;34m(\u001b[0m\u001b[0maxis\u001b[0m\u001b[0;34m=\u001b[0m\u001b[0;36m1\u001b[0m\u001b[0;34m)\u001b[0m\u001b[0;34m\u001b[0m\u001b[0;34m\u001b[0m\u001b[0m\n\u001b[0m\u001b[1;32m      3\u001b[0m \u001b[0;34m\u001b[0m\u001b[0m\n\u001b[1;32m      4\u001b[0m \u001b[0my_test_series\u001b[0m \u001b[0;34m=\u001b[0m \u001b[0my_test_series\u001b[0m\u001b[0;34m.\u001b[0m\u001b[0margmax\u001b[0m\u001b[0;34m(\u001b[0m\u001b[0maxis\u001b[0m\u001b[0;34m=\u001b[0m\u001b[0;36m1\u001b[0m\u001b[0;34m)\u001b[0m      \u001b[0;31m#---\u001b[0m\u001b[0;34m\u001b[0m\u001b[0;34m\u001b[0m\u001b[0m\n\u001b[1;32m      5\u001b[0m \u001b[0my_pred\u001b[0m \u001b[0;34m=\u001b[0m \u001b[0mmodel\u001b[0m\u001b[0;34m.\u001b[0m\u001b[0mpredict\u001b[0m\u001b[0;34m(\u001b[0m\u001b[0mX_test\u001b[0m\u001b[0;34m)\u001b[0m\u001b[0;34m\u001b[0m\u001b[0;34m\u001b[0m\u001b[0m\n",
            "\u001b[0;31mAxisError\u001b[0m: axis 1 is out of bounds for array of dimension 1"
          ]
        }
      ],
      "source": [
        "y_test_no_argmax = y_test\n",
        "y_test = y_test.argmax(axis=1)\n",
        "\n",
        "y_test_series = y_test_series.argmax(axis=1)      #---\n",
        "y_pred = model.predict(X_test)\n",
        "#---------------\n",
        "#metriche nuove senza usare argmax.\n",
        "#---------------\n",
        "y_pred_no_argmax = y_pred\n",
        "y_pred = np.argmax(y_pred,axis=1)\n",
        "\n",
        "'''\n",
        "print(y_pred.shape)\n",
        "print(y_test.shape)\n",
        "\n",
        "print(y_pred_no_argmax.shape)\n",
        "print(y_test_no_argmax)\n",
        "print(y_test_no_argmax.shape)\n",
        "'''\n",
        "\n",
        "#y_pred_conf = model.predict(X_test)\n",
        "#index = np.where(np.equal(y_pred, y_test) == False)[0]\n",
        "#print(np.around(y_pred_conf[index], decimals = 2))"
      ]
    },
    {
      "cell_type": "code",
      "execution_count": 32,
      "metadata": {
        "id": "RzrVVF8NCQ5Q",
        "colab": {
          "base_uri": "https://localhost:8080/"
        },
        "outputId": "50eccfb6-29a5-43ee-fe0a-5260dd9666d0"
      },
      "outputs": [
        {
          "output_type": "stream",
          "name": "stdout",
          "text": [
            "[0 4 0 0 0 0 0 0 0 1 5 5 5 5 0 0 5 5 1 3 5 5 5 4 3 4 0 0 7 6 5 6 7 7 4 4 1\n",
            " 1 0 2 5 5 4 4 1 1 0 0 8 7 0 0 7 8 7 7 7 9 3 2 4 4 3 3 6 6 5 5 2 1 1 2 5 5\n",
            " 7 7 7 8 7 8 4 4 6 6 6 5 0 0 5 5 8 7 9 9 6 6 0 0 6 6 6 6 9 9 8 8 9 9 4 4 4\n",
            " 4 2 2 2 2 0 1 6 6 2 2 1 1 8 8 6 6 3 3 1 1 1 1 9 9 7 7 1 1 1 1 7 7 2 2 4 4\n",
            " 5 5 5 5 8 8 8 8 3 3 8 8 5 6 2 2 2 2 8 8 9 9 6 6 1 1 5 5 6 6 5 5 5 5 6 6 5\n",
            " 5 3 3 5 5 1 1 8 6 0 0 6 6 0 2 4 4 2 2 4 4 8 8 0 2 5 5 0 0 0 0 9 9 8 8 7 7\n",
            " 7 8 6 6 5 5 1 1 2 2 0 0 1 1 9 9 1 1 9 9 4 0 6 5 4 4 8 8 6 8 5 5 5 5 1 2 6\n",
            " 6 3 3 3 3 6 6 6 6 1 2 6 5 4 4 7 7 6 7 1 1 0 0 4 5 6 6 8 8 8 8 2 2 6 5 7 7\n",
            " 5 5 4 4 6 6 6 6 2 1 4 4 8 7 2 2 7 7 4 4 6 6 8 8 3 3 6 6 7 7 2 2 9 8 6 6 2\n",
            " 1 7 8 2 3 3 3 5 5 5 6 6 6 6 6 1 1 5 5 7 8 0 0 5 6 7 7 5 6 7 8 2 5 8 9 5 4\n",
            " 7 8 6 6 8 8 2 2 7 7 7 8 9 9 9 9 9 7 3 3 5 5 5 4 1 3 2 3 8 8 4 4 7 7 3 3 5\n",
            " 5 7 7 2 2 6 6 1 1 5 5 6 6 5 5]\n",
            "(422,)\n",
            "[ 3  3  3  3  3  3  3  3  7  7  2  2 12 12  3  3  2  2  7  7  2  2  6  6\n",
            "  6  6  3  3  0  0  0  0 11 11  6  6  7  7  3  3  2  2  1  1  3  3  3  3\n",
            "  4  4  3  3  4  4 10 10 11 11  9  9  6  6  7  7  0  0 12 12  7  7  7  7\n",
            "  2  2 11 11 11 11  4  4  6  6 12 12  2  2  3  3  5  5 11 11  4  4 12 12\n",
            "  9  9 12 12 12 12  4  4  4  4  4  4  6  6  6  6  1  1  1  1  7  7  0  0\n",
            "  9  9  1  1  4  4  5  5  7  7  7  7  7  7  4  4  4  4  3  3  9  9 11 11\n",
            "  7  7  6  6  2  2  5  5  4  4  4  4  1  1  4  4  0  0  1  1  1  1  4  4\n",
            "  8  8 12 12  7  7  2  2  0  0  2  2  2  2  0  0  2  2  7  7  6  6  1  1\n",
            " 12 12  3  3  0  0  3  3  6  6  1  1  6  6  4  4  9  9  2  2  3  3  3  3\n",
            "  8  8  4  4  4  4  4  4  0  0  0  0  7  7  1  1  3  3  3  3  4  4  7  7\n",
            "  4  4  3  3 12 12  6  6  4  4  4  4  2  2 12 12  7  7 12 12  7  7  6  6\n",
            " 12 12  0  0  1  1  0  0  6  6  4  4  4  4  3  3  3  3  6  6  5  5  4  4\n",
            "  4  4  1  1  2  2  4  4  2  2  6  6 12 12 12 12  7  7  6  6  4  4  9  9\n",
            "  8  8  6  6 12 12 11 11  6  6 12 12 10 10  1  1  4  4  0  0  1  1  5  5\n",
            "  7  7  7  7  2  2  3  3 12 12  2  2  7  7  3  3  4  4  3  3 12 12  4  4\n",
            " 12 12  4  4  5  5  4  4  2  2  4  4 12 12  4  4  7  7  4  4  4  4  4  4\n",
            " 10 10  4  4  1  1  2  2  6  6  7  7  3  3  4  4  6  6  4  4  9  9 12 12\n",
            " 10 10  7  7 12 12  7  7  2  2  3  3  6  6]\n",
            "(422,)\n",
            "[0 0 0 0 0 0 0 0 1 3 5 5 5 5 0 0 5 5 3 3 5 5 4 4 4 4 0 0 6 6 6 6 7 8 4 4 3\n",
            " 3 0 0 5 5 4 4 0 0 0 0 8 8 0 0 8 8 7 7 8 7 3 3 4 4 3 3 6 6 5 5 3 3 1 3 5 5\n",
            " 7 7 7 7 8 8 4 4 6 6 5 5 0 0 6 5 7 7 8 8 6 6 3 1 5 5 6 6 8 8 8 8 7 7 4 4 1\n",
            " 4 2 2 4 4 1 3 6 6 0 3 2 2 8 8 6 5 3 3 1 3 1 1 8 8 8 8 0 0 1 3 7 7 3 3 2 2\n",
            " 5 5 6 6 8 8 7 8 4 4 7 8 6 6 2 3 2 2 8 8 9 9 6 6 1 1 5 5 6 6 5 5 5 5 6 6 5\n",
            " 5 3 3 4 4 2 2 6 6 0 3 6 6 0 0 4 4 2 2 4 4 8 8 1 3 5 5 0 0 0 0 9 9 8 8 8 8\n",
            " 7 8 6 6 6 6 3 3 2 2 0 0 0 0 8 8 1 3 7 8 8 3 6 5 4 4 8 8 8 8 5 3 5 5 1 3 6\n",
            " 5 3 3 4 4 6 6 6 6 2 2 6 6 4 4 8 8 8 8 0 0 0 0 7 4 5 5 8 8 8 8 2 2 5 5 7 9\n",
            " 5 5 4 4 6 6 6 5 3 1 4 4 8 8 3 3 9 9 8 1 6 6 7 7 4 4 6 5 7 7 2 2 7 9 6 6 2\n",
            " 2 6 6 1 3 3 3 5 5 6 5 6 6 5 5 3 3 6 6 8 8 0 0 6 6 7 7 5 6 8 8 5 5 7 7 5 5\n",
            " 8 8 5 6 8 8 1 3 8 8 8 8 7 7 7 7 7 7 4 3 5 5 7 4 3 3 0 0 7 8 8 4 8 8 3 3 5\n",
            " 5 7 7 3 3 5 6 1 3 5 5 6 6 4 4]\n",
            "(422,)\n"
          ]
        }
      ],
      "source": [
        "'''\n",
        "print(y_test)\n",
        "print(y_test.shape)\n",
        "print(y_test_series)\n",
        "print(y_test_series.shape)\n",
        "print(y_pred)\n",
        "print(y_pred.shape)\n",
        "'''"
      ]
    },
    {
      "cell_type": "markdown",
      "metadata": {
        "id": "VkaCQp4Ndzbe"
      },
      "source": [
        "##SEARCH UNIVOQUE SERIES TO BALANCE SETS"
      ]
    },
    {
      "cell_type": "code",
      "execution_count": 33,
      "metadata": {
        "id": "zkviN4oh2M6l",
        "colab": {
          "base_uri": "https://localhost:8080/"
        },
        "outputId": "74d9a12e-fbb7-49f2-e912-7cf2d0da0ed9"
      },
      "outputs": [
        {
          "output_type": "stream",
          "name": "stdout",
          "text": [
            "[7, 6, 5, 6, 6, 6, 6, 6, 5, 6, 6, 6, 6, 6, 6, 6, 6, 6, 5, 5, 6, 6, 6, 5, 6, 6]\n",
            "[6, 6, 6, 6, 6, 6, 6, 6, 6, 6, 6, 6, 6, 6, 6, 6, 6, 6, 6, 6, 6, 6, 6, 6, 6, 6]\n",
            "[5 6 7]\n"
          ]
        }
      ],
      "source": [
        "#SEARCHING UNIVOQUE SERIES\n",
        "test_array_s0, test_array_s1, test_array_s2, test_array_s3, test_array_s4, test_array_s5, test_array_s6, test_array_s7, test_array_s8, test_array_s9, test_array_s10, test_array_s11, test_array_s12 = [], [], [], [], [], [], [], [], [], [], [], [], []\n",
        "pred_array_s0, pred_array_s1, pred_array_s2, pred_array_s3, pred_array_s4, pred_array_s5, pred_array_s6, pred_array_s7, pred_array_s8, pred_array_s9, pred_array_s10, pred_array_s11, pred_array_s12 = [], [], [], [], [], [], [], [], [], [], [], [], []\n",
        "i=0\n",
        "for index, row in test_balance_df.iterrows():\n",
        "    \n",
        "    series_ = int(row['series'])\n",
        "    if series_ == 0:\n",
        "      test_array_s0.append(y_test[i])\n",
        "      pred_array_s0.append(y_pred[i])\n",
        "    if series_ == 1:\n",
        "      test_array_s1.append(y_test[i])\n",
        "      pred_array_s1.append(y_pred[i])\n",
        "    if series_ == 2:\n",
        "      test_array_s2.append(y_test[i])\n",
        "      pred_array_s2.append(y_pred[i])\n",
        "    if series_ == 3:\n",
        "      test_array_s3.append(y_test[i])\n",
        "      pred_array_s3.append(y_pred[i])\n",
        "    if series_ == 4:\n",
        "      test_array_s4.append(y_test[i])\n",
        "      pred_array_s4.append(y_pred[i])\n",
        "    if series_ == 5:\n",
        "      test_array_s5.append(y_test[i])\n",
        "      pred_array_s5.append(y_pred[i])\n",
        "    if series_ == 6:\n",
        "      test_array_s6.append(y_test[i])\n",
        "      pred_array_s6.append(y_pred[i])\n",
        "    if series_ == 7:\n",
        "      test_array_s7.append(y_test[i])\n",
        "      pred_array_s7.append(y_pred[i])\n",
        "    if series_ == 8:\n",
        "      test_array_s8.append(y_test[i])\n",
        "      pred_array_s8.append(y_pred[i])\n",
        "    if series_ == 9:\n",
        "      test_array_s9.append(y_test[i])\n",
        "      pred_array_s9.append(y_pred[i])\n",
        "    if series_ == 10:\n",
        "      test_array_s10.append(y_test[i])\n",
        "      pred_array_s10.append(y_pred[i])\n",
        "    if series_ == 11:\n",
        "      test_array_s11.append(y_test[i])\n",
        "      pred_array_s11.append(y_pred[i])\n",
        "    if series_ == 12:\n",
        "      test_array_s12.append(y_test[i])\n",
        "      pred_array_s12.append(y_pred[i])\n",
        "\n",
        "    i=i+1\n",
        "\n",
        "print(test_array_s0)\n",
        "print(pred_array_s0)\n",
        "\n",
        "from functools import reduce\n",
        "reduced = reduce(np.union1d, (pred_array_s0, test_array_s0))\n",
        "print(reduced)"
      ]
    },
    {
      "cell_type": "markdown",
      "metadata": {
        "id": "D8WKlbpqKgAP"
      },
      "source": [
        "## METRICHE MASK & IMG "
      ]
    },
    {
      "cell_type": "code",
      "execution_count": 34,
      "metadata": {
        "id": "eHSjdjJcgc1Y",
        "colab": {
          "base_uri": "https://localhost:8080/"
        },
        "outputId": "db1771b7-5481-4f11-a46f-d6c16826a1b3"
      },
      "outputs": [
        {
          "output_type": "stream",
          "name": "stdout",
          "text": [
            "--------------Metrice IMG----------------\n",
            "test accuracy: 0.5900\n",
            "precision: 0.5801\n",
            "recall: 0.5615\n",
            "f1_score: 0.5444\n",
            "classification report:\n",
            "              precision    recall  f1-score   support\n",
            "\n",
            "           0       0.68      0.81      0.74        37\n",
            "           1       0.58      0.28      0.37        40\n",
            "           2       0.65      0.38      0.48        39\n",
            "           3       0.33      0.65      0.44        26\n",
            "           4       0.63      0.73      0.68        37\n",
            "           5       0.73      0.70      0.71        66\n",
            "           6       0.75      0.74      0.74        65\n",
            "           7       0.46      0.41      0.43        44\n",
            "           8       0.49      0.75      0.59        44\n",
            "           9       0.50      0.17      0.25        24\n",
            "\n",
            "    accuracy                           0.59       422\n",
            "   macro avg       0.58      0.56      0.54       422\n",
            "weighted avg       0.61      0.59      0.58       422\n",
            "\n"
          ]
        }
      ],
      "source": [
        "'''METRICHE'''\n",
        "print('--------------Metrice IMG----------------')                           \n",
        "print(\"test accuracy: {0:0.4f}\".format(accuracy_score(y_test, y_pred))) # https://scikit-learn.org/stable/modules/generated/sklearn.metrics.accuracy_score.html\n",
        "print(\"precision: {0:0.4f}\".format(precision_score(y_test, y_pred , average=\"macro\")))         # https://scikit-learn.org/stable/modules/generated/sklearn.metrics.precision_score.html?highlight=precision_score#sklearn.metrics.precision_score\n",
        "print(\"recall: {0:0.4f}\".format(recall_score(y_test, y_pred , average=\"macro\")))                # https://scikit-learn.org/stable/modules/generated/sklearn.metrics.recall_score.html?highlight=recall_score#sklearn.metrics.recall_score\n",
        "print(\"f1_score: {0:0.4f}\".format(f1_score(y_test, y_pred , average=\"macro\")))                # https://scikit-learn.org/stable/modules/generated/sklearn.metrics.f1_score.html?highlight=f1_score#sklearn.metrics.f1_score\n",
        "\n",
        "print('classification report:')\n",
        "print(classification_report(y_test, y_pred))  \n",
        "\n"
      ]
    },
    {
      "cell_type": "markdown",
      "metadata": {
        "id": "tJjt39sGAfQF"
      },
      "source": [
        "Per quanto riguarda la funzione np_quadratic_weighted_kappa abbiamo avuto alcune difficoltà implementative e quindi abbiamo cercato un codice online che ci calcolasse la stessa metrica \n",
        "\n",
        "[Link Utilizzato](https://www.kaggle.com/aroraaman/quadratic-kappa-metric-explained-in-5-simple-steps)"
      ]
    },
    {
      "cell_type": "code",
      "execution_count": 35,
      "metadata": {
        "id": "in2Vpij3AHgB"
      },
      "outputs": [],
      "source": [
        "\n",
        "# The following 3 functions have been taken from Ben Hamner's github repository\n",
        "# https://github.com/benhamner/Metrics\n",
        "def Cmatrix(rater_a, rater_b, min_rating=None, max_rating=None):\n",
        "    \"\"\"\n",
        "    Returns the confusion matrix between rater's ratings\n",
        "    \"\"\"\n",
        "    assert(len(rater_a) == len(rater_b))\n",
        "    if min_rating is None:\n",
        "        min_rating = min(rater_a + rater_b)\n",
        "    if max_rating is None:\n",
        "        max_rating = max(rater_a + rater_b)\n",
        "    num_ratings = int(max_rating - min_rating + 1)\n",
        "    conf_mat = [[0 for i in range(num_ratings)]\n",
        "                for j in range(num_ratings)]\n",
        "    for a, b in zip(rater_a, rater_b):\n",
        "        conf_mat[a - min_rating][b - min_rating] += 1\n",
        "    return conf_mat\n",
        "\n",
        "\n",
        "def histogram(ratings, min_rating=None, max_rating=None):\n",
        "    \"\"\"\n",
        "    Returns the counts of each type of rating that a rater made\n",
        "    \"\"\"\n",
        "    if min_rating is None:\n",
        "        min_rating = min(ratings)\n",
        "    if max_rating is None:\n",
        "        max_rating = max(ratings)\n",
        "    num_ratings = int(max_rating - min_rating + 1)\n",
        "    hist_ratings = [0 for x in range(num_ratings)]\n",
        "    for r in ratings:\n",
        "        hist_ratings[r - min_rating] += 1\n",
        "    return hist_ratings\n",
        "\n",
        "def quadratic_weighted_kappa(y, y_pred):\n",
        "    \"\"\"\n",
        "    Calculates the quadratic weighted kappa\n",
        "    axquadratic_weighted_kappa calculates the quadratic weighted kappa\n",
        "    value, which is a measure of inter-rater agreement between two raters\n",
        "    that provide discrete numeric ratings.  Potential values range from -1\n",
        "    (representing complete disagreement) to 1 (representing complete\n",
        "    agreement).  A kappa value of 0 is expected if all agreement is due to\n",
        "    chance.\n",
        "    quadratic_weighted_kappa(rater_a, rater_b), where rater_a and rater_b\n",
        "    each correspond to a list of integer ratings.  These lists must have the\n",
        "    same length.\n",
        "    The ratings should be integers, and it is assumed that they contain\n",
        "    the complete range of possible ratings.\n",
        "    quadratic_weighted_kappa(X, min_rating, max_rating), where min_rating\n",
        "    is the minimum possible rating, and max_rating is the maximum possible\n",
        "    rating\n",
        "    \"\"\"\n",
        "    rater_a = y\n",
        "    rater_b = y_pred\n",
        "    min_rating=1 # era None abbiamo messo 0\n",
        "    max_rating=9 # era None abbiamo messo 9\n",
        "    rater_a = np.array(rater_a, dtype=int)\n",
        "    rater_b = np.array(rater_b, dtype=int)\n",
        "    assert(len(rater_a) == len(rater_b))\n",
        "    if min_rating is None:\n",
        "        min_rating = min(min(rater_a), min(rater_b))\n",
        "    if max_rating is None:\n",
        "        max_rating = max(max(rater_a), max(rater_b))\n",
        "    conf_mat = Cmatrix(rater_a, rater_b,\n",
        "                                min_rating, max_rating)\n",
        "    num_ratings = len(conf_mat)\n",
        "    num_scored_items = float(len(rater_a))\n",
        "\n",
        "    hist_rater_a = histogram(rater_a, min_rating, max_rating)\n",
        "    hist_rater_b = histogram(rater_b, min_rating, max_rating)\n",
        "\n",
        "    numerator = 0.0\n",
        "    denominator = 0.0\n",
        "\n",
        "    for i in range(num_ratings):\n",
        "        for j in range(num_ratings):\n",
        "            expected_count = (hist_rater_a[i] * hist_rater_b[j]\n",
        "                              / num_scored_items)\n",
        "            d = pow(i - j, 2.0) / pow(num_ratings - 1, 2.0)\n",
        "            numerator += d * conf_mat[i][j] / num_scored_items\n",
        "            denominator += d * expected_count / num_scored_items\n",
        "\n",
        "    return (1.0 - numerator / denominator)"
      ]
    },
    {
      "cell_type": "code",
      "execution_count": 36,
      "metadata": {
        "id": "jydD-lsObD4e",
        "colab": {
          "base_uri": "https://localhost:8080/"
        },
        "outputId": "e7f5c168-5a16-49ec-bdf9-805374b5df84"
      },
      "outputs": [
        {
          "output_type": "stream",
          "name": "stdout",
          "text": [
            "QWK: 0.7020\n",
            "MS: 0.1667\n",
            "MAE: 0.0819\n"
          ]
        }
      ],
      "source": [
        "path_drive = '/content/drive/My Drive/'\n",
        "path = path_drive+'ProgettoDL/'\n",
        "\n",
        "os.chdir(path)\n",
        "\n",
        "from metrics import np_quadratic_weighted_kappa, minimum_sensitivity\n",
        "from sklearn.metrics import mean_absolute_error\n",
        "\n",
        "#errore no graph before run \n",
        "tf.compat.v1.disable_eager_execution()\n",
        "\n",
        "\n",
        "\n",
        "def compute_metrics(y_true, y_pred, num_classes):\n",
        "\n",
        "  #run function minimum_sensitivity\n",
        "\n",
        "\n",
        "  # Calculate metric\n",
        "  sess = keras.backend.get_session()\n",
        "\n",
        "  #qwk = np_quadratic_weighted_kappa(np.argmax(y_true, axis=0), np.argmax(y_pred, axis=0), 0,\n",
        "\t#\t\t\t\t\t\t\t\t\tnum_classes - 1)\n",
        "  \n",
        "  qwk = quadratic_weighted_kappa(y_true, y_pred)\n",
        "  ms = minimum_sensitivity(y_test_no_argmax, y_pred_no_argmax)\n",
        "  mae = sess.run(K.mean(keras.losses.mean_absolute_error(y_test_no_argmax, y_pred_no_argmax)))\n",
        "  \n",
        "  metrics = {\n",
        "\t\t'QWK': qwk,\n",
        "\t\t'MS': ms,\n",
        "\t\t'MAE': mae}\n",
        "  \n",
        "  return metrics\n",
        "\n",
        "def print_metrics(metrics):\n",
        "\tprint('QWK: {:.4f}'.format(metrics['QWK']))\n",
        "\tprint('MS: {:.4f}'.format(metrics['MS']))\n",
        "\tprint('MAE: {:.4f}'.format(metrics['MAE']))    \n",
        "\n",
        "\n",
        "#-----codice------\n",
        "\n",
        "num_classi = 10\n",
        "metrics = compute_metrics(y_test, y_pred,num_classi)\n",
        "print_metrics(metrics)\n",
        "\n",
        "with open(\"metrics.txt\", \"w\") as text_file:\n",
        "    print(print_metrics, file=text_file)\n",
        "\n",
        "\n",
        "\n"
      ]
    },
    {
      "cell_type": "markdown",
      "metadata": {
        "id": "Tnlbf22bBpIt"
      },
      "source": [
        "***Metrice Ottenute***\n",
        "\n",
        "**K Cohen**   https://it.vvikipedla.com/wiki/Cohen%27s_kappa\n",
        "Il Kappa di Cohen è un coefficiente statistico che rappresenta il grado di accuratezza e affidabilità in una classificazione statistica; è un indice di concordanza che tiene conto della probabilità di concordanza casuale; l'indice calcolato in base al rapporto tra l'accordo in eccesso rispetto alla probabilità di concordanza casuale e l'eccesso massimo ottenibile. Attraverso la matrice di confusione è possibile valutare questo parametro. In particolare ... Esistono diversi \"gradi di concordanza\", in base ai quali possiamo definire se Kappa di Cohen è scarso o ottimo:\n",
        "\n",
        "- se k assume valori inferiori a 0, allora non c'è concordanza;\n",
        "- se k assume valori compresi tra 0-0,4, allora la concordanza è scarsa;\n",
        "- se k assume valori compresi tra 0,4-0,6, allora la concordanza è discreta;\n",
        "- se k assume valori compresi tra 0,6-0,8, la concordanza è buona;\n",
        "- se k assume valori compresi tra 0,8-1, la concordanza è ottima.\n",
        "\n",
        "**QWK**: 0.7849\n",
        "\n",
        "BLA BLA BLA \n",
        "\n",
        "**MS**: 1.0000\n",
        "\n",
        "\n",
        "In statistics, **mean absolute error (MAE)** is a measure of errors between paired observations expressing the same phenomenon. Examples of Y versus X include comparisons of predicted versus observed, subsequent time versus initial time, and one technique of measurement versus an alternative technique of measurement. \n",
        "\n",
        "**MAE**: 0.0000"
      ]
    },
    {
      "cell_type": "markdown",
      "metadata": {
        "id": "z25yiN0zKZ5Y"
      },
      "source": [
        "## PLOT CONFUSION MATRIX FUNCTION "
      ]
    },
    {
      "cell_type": "code",
      "execution_count": 37,
      "metadata": {
        "id": "LsYoP-3hgfY5"
      },
      "outputs": [],
      "source": [
        "#Confusion Matrix - CROP\n",
        "import sklearn.metrics as metrics\n",
        "\n",
        "def plot_confusion_matrix(cm,\n",
        "                          target_names,\n",
        "                          title='Confusion matrix',\n",
        "                          cmap=None,\n",
        "                          normalize=True):\n",
        "\n",
        "    accuracy = np.trace(cm) / float(np.sum(cm))\n",
        "    misclass = 1 - accuracy\n",
        "\n",
        "    if cmap is None:\n",
        "        cmap = plt.get_cmap('Blues')\n",
        "\n",
        "    fig = plt.figure(figsize=(8, 6))\n",
        "    plt.imshow(cm, interpolation='nearest', cmap=cmap)\n",
        "    plt.title(title)\n",
        "    plt.colorbar()\n",
        "\n",
        "    if target_names is not None:\n",
        "        tick_marks = np.arange(len(target_names))\n",
        "        plt.xticks(tick_marks, target_names, rotation=45)\n",
        "        plt.yticks(tick_marks, target_names)\n",
        "\n",
        "    if normalize:\n",
        "        cm = cm.astype('float') / cm.sum(axis=1)[:, np.newaxis]\n",
        "\n",
        "\n",
        "    thresh = cm.max() / 1.5 if normalize else cm.max() / 2\n",
        "    for i in range (cm.shape[0]):\n",
        "      for j in range (cm.shape[1]):\n",
        "        if normalize:\n",
        "            plt.text(j, i, \"{:0.4f}\".format(cm[i, j]),\n",
        "                     horizontalalignment=\"center\",\n",
        "                     color=\"white\" if cm[i, j] > thresh else \"black\")\n",
        "        else:\n",
        "            plt.text(j, i, \"{:,}\".format(cm[i, j]),\n",
        "                     horizontalalignment=\"center\",\n",
        "                     color=\"white\" if cm[i, j] > thresh else \"black\")\n",
        "    axes = plt.gca()\n",
        "    bottom, top = axes.get_ylim()\n",
        "    axes.set_ylim(bottom + 0.5, top - 0.5)\n",
        "\n",
        "    plt.tight_layout()\n",
        "    plt.ylabel('True label')\n",
        "    plt.xlabel('Predicted label\\naccuracy={:0.4f}; misclass={:0.4f}'.format(accuracy, misclass))\n",
        "    plt.show()\n",
        "    \n",
        "    return fig\n",
        "\n",
        "\n"
      ]
    },
    {
      "cell_type": "markdown",
      "metadata": {
        "id": "S0JFOHg2KUnT"
      },
      "source": [
        "## PLOT CONFUSION MATRIX "
      ]
    },
    {
      "cell_type": "code",
      "execution_count": 38,
      "metadata": {
        "id": "rpj28QpDKTkz",
        "colab": {
          "base_uri": "https://localhost:8080/",
          "height": 468
        },
        "outputId": "203759c0-ea44-46e6-8969-90ecfa7ace27"
      },
      "outputs": [
        {
          "output_type": "display_data",
          "data": {
            "text/plain": [
              "<Figure size 576x432 with 2 Axes>"
            ],
            "image/png": "[encoded data removed]"
          },
          "metadata": {
            "needs_background": "light"
          }
        }
      ],
      "source": [
        "import sklearn.metrics as metrics\n",
        "cm = metrics.confusion_matrix(y_true=y_test, y_pred=y_pred)\n",
        "fig = plot_confusion_matrix(cm,\n",
        "                      target_names = classi,\n",
        "                      normalize    = False,\n",
        "                      title        = \"Confusion Matrix IMG \")\n",
        "fig.savefig(os.path.join(path+'weights/CM_{}_{}.png'.format(immgs,cnn))) "
      ]
    },
    {
      "cell_type": "markdown",
      "metadata": {
        "id": "yy4ylbat-r51"
      },
      "source": [
        "##PLOT CONFUSION MATRIX PER CIASCUNA SERIE DEL CALCIO "
      ]
    },
    {
      "cell_type": "code",
      "execution_count": 39,
      "metadata": {
        "id": "yEruoZcb-q_S",
        "colab": {
          "base_uri": "https://localhost:8080/",
          "height": 262
        },
        "outputId": "a438f5c1-7540-4357-993d-1e343ad8280f"
      },
      "outputs": [
        {
          "output_type": "display_data",
          "data": {
            "text/plain": [
              "<Figure size 576x432 with 2 Axes>"
            ],
            "image/png": "[encoded data removed]"
          },
          "metadata": {
            "needs_background": "light"
          }
        },
        {
          "output_type": "display_data",
          "data": {
            "text/plain": [
              "<Figure size 576x432 with 2 Axes>"
            ],
            "image/png": "[encoded data removed]"
          },
          "metadata": {
            "needs_background": "light"
          }
        },
        {
          "output_type": "display_data",
          "data": {
            "text/plain": [
              "<Figure size 576x432 with 2 Axes>"
            ],
            "image/png": "[encoded data removed]"
          },
          "metadata": {
            "needs_background": "light"
          }
        },
        {
          "output_type": "display_data",
          "data": {
            "text/plain": [
              "<Figure size 576x432 with 2 Axes>"
            ],
            "image/png": "[encoded data removed]"
          },
          "metadata": {
            "needs_background": "light"
          }
        },
        {
          "output_type": "display_data",
          "data": {
            "text/plain": [
              "<Figure size 576x432 with 2 Axes>"
            ],
            "image/png": "[encoded data removed]"
          },
          "metadata": {
            "needs_background": "light"
          }
        },
        {
          "output_type": "display_data",
          "data": {
            "text/plain": [
              "<Figure size 576x432 with 2 Axes>"
            ],
            "image/png": "[encoded data removed]"
          },
          "metadata": {
            "needs_background": "light"
          }
        },
        {
          "output_type": "display_data",
          "data": {
            "text/plain": [
              "<Figure size 576x432 with 2 Axes>"
            ],
            "image/png": "[encoded data removed]"
          },
          "metadata": {
            "needs_background": "light"
          }
        },
        {
          "output_type": "display_data",
          "data": {
            "text/plain": [
              "<Figure size 576x432 with 2 Axes>"
            ],
            "image/png": "[encoded data removed]"
          },
          "metadata": {
            "needs_background": "light"
          }
        },
        {
          "output_type": "display_data",
          "data": {
            "text/plain": [
              "<Figure size 576x432 with 2 Axes>"
            ],
            "image/png": "[encoded data removed]"
          },
          "metadata": {
            "needs_background": "light"
          }
        },
        {
          "output_type": "display_data",
          "data": {
            "text/plain": [
              "<Figure size 576x432 with 2 Axes>"
            ],
            "image/png": "[encoded data removed]"
          },
          "metadata": {
            "needs_background": "light"
          }
        },
        {
          "output_type": "display_data",
          "data": {
            "text/plain": [
              "<Figure size 576x432 with 2 Axes>"
            ],
            "image/png": "[encoded data removed]"
          },
          "metadata": {
            "needs_background": "light"
          }
        },
        {
          "output_type": "display_data",
          "data": {
            "text/plain": [
              "<Figure size 576x432 with 2 Axes>"
            ],
            "image/png": "[encoded data removed]"
          },
          "metadata": {
            "needs_background": "light"
          }
        },
        {
          "output_type": "display_data",
          "data": {
            "text/plain": [
              "<Figure size 576x432 with 2 Axes>"
            ],
            "image/png": "[encoded data removed]"
          },
          "metadata": {
            "needs_background": "light"
          }
        }
      ],
      "source": [
        "import sklearn.metrics as metrics\n",
        "from functools import reduce\n",
        "#serie 0\n",
        "cm0 = metrics.confusion_matrix(y_true=test_array_s0, y_pred=pred_array_s0)\n",
        "fig = plot_confusion_matrix(cm0,\n",
        "                      target_names = reduce(np.union1d, (pred_array_s0, test_array_s0)),\n",
        "                      normalize    = False,\n",
        "                      title        = \"Confusion Matrix Series 0 \")\n",
        "fig.savefig(os.path.join(path+'weights/CM_serie0_{}_{}.png'.format(immgs,cnn))) \n",
        "\n",
        "#serie 1\n",
        "cm1 = metrics.confusion_matrix(y_true=test_array_s1, y_pred=pred_array_s1)\n",
        "fig = plot_confusion_matrix(cm1,\n",
        "                      target_names = reduce(np.union1d, (pred_array_s1, test_array_s1)),\n",
        "                      normalize    = False,\n",
        "                      title        = \"Confusion Matrix Series 1 \")\n",
        "fig.savefig(os.path.join(path+'weights/CM_serie1_{}_{}.png'.format(immgs,cnn))) \n",
        "\n",
        "#serie 2\n",
        "cm2 = metrics.confusion_matrix(y_true=test_array_s2, y_pred=pred_array_s2)\n",
        "fig = plot_confusion_matrix(cm2,\n",
        "                      target_names = reduce(np.union1d, (pred_array_s2, test_array_s2)),\n",
        "                      normalize    = False,\n",
        "                      title        = \"Confusion Matrix Series 2 \")\n",
        "fig.savefig(os.path.join(path+'weights/CM_serie2_{}_{}.png'.format(immgs,cnn))) \n",
        "\n",
        "#serie 3\n",
        "cm3 = metrics.confusion_matrix(y_true=test_array_s3, y_pred=pred_array_s3)\n",
        "fig = plot_confusion_matrix(cm3,\n",
        "                      target_names = reduce(np.union1d, (pred_array_s3, test_array_s3)),\n",
        "                      normalize    = False,\n",
        "                      title        = \"Confusion Matrix Series 3 \")\n",
        "fig.savefig(os.path.join(path+'weights/CM_serie3_{}_{}.png'.format(immgs,cnn))) \n",
        "\n",
        "#serie 4\n",
        "cm4 = metrics.confusion_matrix(y_true=test_array_s4, y_pred=pred_array_s4)\n",
        "fig = plot_confusion_matrix(cm4,\n",
        "                      target_names = reduce(np.union1d, (pred_array_s4, test_array_s4)),\n",
        "                      normalize    = False,\n",
        "                      title        = \"Confusion Matrix Series 4 \")\n",
        "fig.savefig(os.path.join(path+'weights/CM_serie4_{}_{}.png'.format(immgs,cnn))) \n",
        "\n",
        "#serie 5\n",
        "cm5 = metrics.confusion_matrix(y_true=test_array_s5, y_pred=pred_array_s5)\n",
        "fig = plot_confusion_matrix(cm5,\n",
        "                      target_names = reduce(np.union1d, (pred_array_s5, test_array_s5)),\n",
        "                      normalize    = False,\n",
        "                      title        = \"Confusion Matrix Series 5 \")\n",
        "fig.savefig(os.path.join(path+'weights/CM_serie5_{}_{}.png'.format(immgs,cnn))) \n",
        "\n",
        "#serie 6\n",
        "cm6 = metrics.confusion_matrix(y_true=test_array_s6, y_pred=pred_array_s6)\n",
        "fig = plot_confusion_matrix(cm6,\n",
        "                      target_names = reduce(np.union1d, (pred_array_s6, test_array_s6)),\n",
        "                      normalize    = False,\n",
        "                      title        = \"Confusion Matrix Series 6 \")\n",
        "fig.savefig(os.path.join(path+'weights/CM_serie6_{}_{}.png'.format(immgs,cnn))) \n",
        "\n",
        "#serie 7\n",
        "cm7 = metrics.confusion_matrix(y_true=test_array_s7, y_pred=pred_array_s7)\n",
        "fig = plot_confusion_matrix(cm7,\n",
        "                      target_names = reduce(np.union1d, (pred_array_s7, test_array_s7)),\n",
        "                      normalize    = False,\n",
        "                      title        = \"Confusion Matrix Series 7 \")\n",
        "fig.savefig(os.path.join(path+'weights/CM_serie7_{}_{}.png'.format(immgs,cnn))) \n",
        "\n",
        "#serie 8\n",
        "cm8 = metrics.confusion_matrix(y_true=test_array_s8, y_pred=pred_array_s8)\n",
        "fig = plot_confusion_matrix(cm8,\n",
        "                      target_names = reduce(np.union1d, (pred_array_s8, test_array_s8)),\n",
        "                      normalize    = False,\n",
        "                      title        = \"Confusion Matrix Series 8 \")\n",
        "fig.savefig(os.path.join(path+'weights/CM_serie8_{}_{}.png'.format(immgs,cnn))) \n",
        "\n",
        "#serie 9 \n",
        "cm9 = metrics.confusion_matrix(y_true=test_array_s9, y_pred=pred_array_s9)\n",
        "fig = plot_confusion_matrix(cm9,\n",
        "                      target_names = reduce(np.union1d, (pred_array_s9, test_array_s9)),\n",
        "                      normalize    = False,\n",
        "                      title        = \"Confusion Matrix Series 9 \")\n",
        "fig.savefig(os.path.join(path+'weights/CM_serie9_{}_{}.png'.format(immgs,cnn))) \n",
        "\n",
        "#serie 10\n",
        "cm10 = metrics.confusion_matrix(y_true=test_array_s10, y_pred=pred_array_s10)\n",
        "fig = plot_confusion_matrix(cm10,\n",
        "                      target_names = reduce(np.union1d, (pred_array_s10, test_array_s10)),\n",
        "                      normalize    = False,\n",
        "                      title        = \"Confusion Matrix Series 10 \")\n",
        "fig.savefig(os.path.join(path+'weights/CM_serie10_{}_{}.png'.format(immgs,cnn))) \n",
        "\n",
        "#serie 11\n",
        "cm11 = metrics.confusion_matrix(y_true=test_array_s11, y_pred=pred_array_s11)\n",
        "fig = plot_confusion_matrix(cm11,\n",
        "                      target_names = reduce(np.union1d, (pred_array_s11, test_array_s11)),\n",
        "                      normalize    = False,\n",
        "                      title        = \"Confusion Matrix Series 11 \")\n",
        "fig.savefig(os.path.join(path+'weights/CM_serie11_{}_{}.png'.format(immgs,cnn))) \n",
        "\n",
        "\n",
        "cm12 = metrics.confusion_matrix(y_true=test_array_s12, y_pred=pred_array_s12)\n",
        "fig = plot_confusion_matrix(cm12,\n",
        "                      target_names = reduce(np.union1d, (pred_array_s12, test_array_s12)),\n",
        "                      normalize    = False,\n",
        "                      title        = \"Confusion Matrix Series 12 \")\n",
        "fig.savefig(os.path.join(path+'weights/CM_serie12_{}_{}.png'.format(immgs,cnn))) "
      ]
    },
    {
      "cell_type": "markdown",
      "metadata": {
        "id": "TUnAYcXVclfD"
      },
      "source": [
        "## CRAMER V CORRELATION"
      ]
    },
    {
      "cell_type": "code",
      "execution_count": 40,
      "metadata": {
        "id": "yqvgi3VKck3o",
        "colab": {
          "base_uri": "https://localhost:8080/"
        },
        "outputId": "b8fa3059-449a-4dae-80dd-2064617df9ac"
      },
      "outputs": [
        {
          "output_type": "stream",
          "name": "stdout",
          "text": [
            "cramer correlation tra predizioni delle classi, e le classi effettive\n",
            "0.5895660075042649\n",
            "cramer correlation tra predizioni delle classi e le ground thruth di shotgun series\n",
            "0.7777495581904859\n"
          ]
        }
      ],
      "source": [
        "#PRIMA VERSIONE\n",
        "import pandas as pd\n",
        "import numpy as np\n",
        "import scipy.stats as ss\n",
        "import seaborn as sns\n",
        "\n",
        "def cramers_v(confusion_matrix):\n",
        "    \"\"\" calculate Cramers V statistic for categorial-categorial association.\n",
        "        uses correction from Bergsma and Wicher,\n",
        "        Journal of the Korean Statistical Society 42 (2013): 323-328\n",
        "    \"\"\"\n",
        "    chi2 = ss.chi2_contingency(confusion_matrix)[0]\n",
        "    n = confusion_matrix.sum()\n",
        "    phi2 = chi2 / n\n",
        "    r, k = confusion_matrix.shape\n",
        "    phi2corr = max(0, phi2 - ((k-1)*(r-1))/(n-1))\n",
        "    rcorr = r - ((r-1)**2)/(n-1)\n",
        "    kcorr = k - ((k-1)**2)/(n-1)\n",
        "    return np.sqrt(phi2corr / min((kcorr-1), (rcorr-1)))\n",
        "\n",
        "confusion_matrix = pd.crosstab(y_test, y_pred)\n",
        "print(\"cramer correlation tra predizioni delle classi, e le classi effettive\")\n",
        "cramer1 = cramers_v(confusion_matrix.values)\n",
        "print(cramer1)\n",
        "\n",
        "confusion_matrix2 = pd.crosstab(y_test_series, y_pred)\n",
        "print(\"cramer correlation tra predizioni delle classi e le ground thruth di shotgun series\")\n",
        "cramer2 = cramers_v(confusion_matrix2.values)\n",
        "print(cramer2)"
      ]
    },
    {
      "cell_type": "code",
      "execution_count": 41,
      "metadata": {
        "id": "5sZfKVKTmEdX",
        "colab": {
          "base_uri": "https://localhost:8080/"
        },
        "outputId": "c59781ea-844d-43ef-8dd4-c8549aef8635"
      },
      "outputs": [
        {
          "output_type": "stream",
          "name": "stdout",
          "text": [
            "col_0   0   1   2   3   4   5   6   7   8  9\n",
            "row_0                                       \n",
            "0       0   0   0   0   0   0  26   0   0  0\n",
            "1       0   0  21   2   7   0   0   0   0  0\n",
            "2       0   0   0   1   0  39   0   0   0  0\n",
            "3      43   0   0   2   0   1   5   0   1  0\n",
            "4       0   0   0   0   0   0   0  17  63  2\n",
            "5       0   0   0   0   0   6   6   0   0  0\n",
            "6       0   2   2   0  36   0   0   2   2  0\n",
            "7       0  14   0  36   0   0   0   0   0  0\n",
            "8       0   0   0   0   0   0   0   0   0  6\n",
            "9       1   3   0  10   0   0   0   0   0  0\n",
            "10      0   0   0   0   0   0   0   8   0  0\n",
            "11      0   0   0   0   0   0   0  12   2  0\n",
            "12      0   0   0   0   0  17  27   0   0  0\n",
            "Looking in indexes: https://pypi.org/simple, https://us-python.pkg.dev/colab-wheels/public/simple/\n",
            "Collecting researchpy\n",
            "  Downloading researchpy-0.3.2-py3-none-any.whl (15 kB)\n",
            "Requirement already satisfied: patsy in /usr/local/lib/python3.7/dist-packages (from researchpy) (0.5.2)\n",
            "Requirement already satisfied: numpy in /usr/local/lib/python3.7/dist-packages (from researchpy) (1.21.6)\n",
            "Requirement already satisfied: statsmodels in /usr/local/lib/python3.7/dist-packages (from researchpy) (0.12.2)\n",
            "Requirement already satisfied: scipy in /usr/local/lib/python3.7/dist-packages (from researchpy) (1.7.3)\n",
            "Requirement already satisfied: pandas in /usr/local/lib/python3.7/dist-packages (from researchpy) (1.3.5)\n",
            "Requirement already satisfied: python-dateutil>=2.7.3 in /usr/local/lib/python3.7/dist-packages (from pandas->researchpy) (2.8.2)\n",
            "Requirement already satisfied: pytz>=2017.3 in /usr/local/lib/python3.7/dist-packages (from pandas->researchpy) (2022.2.1)\n",
            "Requirement already satisfied: six>=1.5 in /usr/local/lib/python3.7/dist-packages (from python-dateutil>=2.7.3->pandas->researchpy) (1.15.0)\n",
            "Installing collected packages: researchpy\n",
            "Successfully installed researchpy-0.3.2\n",
            "\n",
            "                  Chi-square test    results\n",
            "0  Pearson Chi-square ( 108.0) =   2356.5325\n",
            "1                      p-value =      0.0000\n",
            "2                   Cramer's V =      0.7877\n",
            "\n",
            "df = 9\n",
            "V = 0.7877\n",
            "\n",
            "quality classification of the correlation is:   large\n"
          ]
        }
      ],
      "source": [
        "#SECONDA VERSIONE.        https://www.youtube.com/watch?v=eTnLTJer_Oo\n",
        "contTable = pd.crosstab(y_test_series, y_pred)\n",
        "print(contTable)\n",
        "\n",
        "!pip install researchpy\n",
        "\n",
        "import researchpy\n",
        "\n",
        "crosstab, res = researchpy.crosstab(pd.Series(y_test_series), pd.Series(y_pred), test='chi-square')\n",
        "print(\"\\n{}\".format(res))\n",
        "\n",
        "df = min(contTable.shape[0], contTable.shape[1]) - 1\n",
        "print(\"\\ndf = {}\".format(df))\n",
        "\n",
        "V = res.iloc[2,1]\n",
        "print(\"V = {}\".format(V))\n",
        "\n",
        "if df == 1:\n",
        "    if V < 0.10:\n",
        "        qual = 'negligible'\n",
        "    elif V < 0.30:\n",
        "        qual = 'small'\n",
        "    elif V < 0.50:\n",
        "        qual = 'medium'\n",
        "    else:\n",
        "        qual = 'large'\n",
        "elif df == 2:\n",
        "    if V < 0.07:\n",
        "        qual = 'negligible'\n",
        "    elif V < 0.21:\n",
        "        qual = 'small'\n",
        "    elif V < 0.35:\n",
        "        qual = 'medium'\n",
        "    else:\n",
        "        qual = 'large'\n",
        "elif df == 3:\n",
        "    if V < 0.06:\n",
        "        qual = 'negligible'\n",
        "    elif V < 0.17:\n",
        "        qual = 'small'\n",
        "    elif V < 0.29:\n",
        "        qual = 'medium'\n",
        "    else:\n",
        "        qual = 'large'\n",
        "elif df == 4:\n",
        "    if V < 0.05:\n",
        "        qual = 'negligible'\n",
        "    elif V < 0.15:\n",
        "        qual = 'small'\n",
        "    elif V < 0.25:\n",
        "        qual = 'medium'\n",
        "    else:\n",
        "        qual = 'large'\n",
        "else:\n",
        "    if V < 0.05:\n",
        "        qual = 'negligible'\n",
        "    elif V < 0.13:\n",
        "        qual = 'small'\n",
        "    elif V < 0.22:\n",
        "        qual = 'medium'\n",
        "    else:\n",
        "        qual = 'large'\n",
        "\n",
        "print(\"\\nquality classification of the correlation is:   {}\".format(qual))\n"
      ]
    },
    {
      "cell_type": "markdown",
      "metadata": {
        "id": "UHab1JLzqkKx"
      },
      "source": [
        "To indicate the strength of the association between two nominal variables, Cramér's V (Cramér, 1946) is often used.\n",
        "\n",
        "As for the interpretation for Cramér's V various rules of thumb exist but one of them is from Cohen (1988, pp. 222, 224, 225) who let's the interpretation depend on the degrees of freedom, shown in the table below.\n",
        "\n",
        "|df*|negligible|small|medium|large|\n",
        "|-------|---|---|---|---|\n",
        "|1|0 < .10|.10 < .30|.30 < .50|.50 or more|\n",
        "|2|0 < .07|.07 < .21|.21 < .35|.35 or more|\n",
        "|3|0 < .06|.06 < .17|.17 < .29|.29 or more|\n",
        "|4|0 < .05|.05 < .15|.15 < .25|.25 or more|\n",
        "|5|0 < .05|.05 < .13|.13 < .22|.22 or more|\n",
        "\n",
        "The degrees of freedom (df*) is for Cramér's V the minimum of the number of rows, or number of columns, then minus one.\n",
        "\n",
        "Lets see how to obtain Cramér's V with Python, using an example.\n",
        "\n",
        "\n",
        "\n",
        "\n",
        "**A SECONDA DEI RISULTATI E CONFRONTANDOLI CON LA TABELLA RIUSCIAMO A CAPIRE L'INTENSITA' DEL BIAS TRA DIVERSE VARIABILI**"
      ]
    },
    {
      "cell_type": "markdown",
      "metadata": {
        "id": "NoegV_027yUO"
      },
      "source": [
        "## **T-SNE  & PCA**\n"
      ]
    },
    {
      "cell_type": "markdown",
      "metadata": {
        "id": "X7-u3Qf0YsFe"
      },
      "source": [
        "### Spiegazioni, Link Utili e Implementazione "
      ]
    },
    {
      "cell_type": "markdown",
      "metadata": {
        "id": "c964uCqMUpS4"
      },
      "source": [
        "***(t-SNE)*** t-Distributed Stochastic Neighbor Embedding is a non-linear dimensionality reduction algorithm used for exploring high-dimensional data. It maps multi-dimensional data to two or more dimensions suitable for human observation. With help of the t-SNE algorithms, you may have to plot fewer exploratory data analysis plots next time you work with high dimensional data.\n",
        "\n",
        "[Link utile ](https://www.analyticsvidhya.com/blog/2017/01/t-sne-implementation-r-python/)\n",
        "\n",
        "***(PCA) Principal Component Analysis***\n",
        "Lʹanalisi delle componenti principali (detta pure PCA oppure CPA) è una tecnica utilizzata nell’ambito della statistica multivariata per la semplificazione dei dati d’origine.\n",
        "Lo scopo primario di questa tecnica è la riduzione di un numero più o meno elevato di variabili (rappresentanti altrettante caratteristiche del fenomeno analizzato) in alcune variabili latenti. Ciò avviene tramite una trasformazione lineare delle variabili che proietta quelle originarie in un nuovo sistema cartesiano nel quale le variabili vengono ordinate in ordine decrescente di varianza: pertanto, la variabile con maggiore varianza viene proiettata sul primo asse, la seconda sul secondo asse e così via. La riduzione della complessità avviene limitandosi ad analizzare le principali (per varianza) tra le nuove variabili.\n",
        "Diversamente da altre trasformazioni (lineari) di variabili praticate nellʹambito della statistica, in questa tecnica sono gli stessi dati che determinano i vettori di trasformazione.\n",
        "[Step By Step](https://www.youtube.com/watch?v=FgakZw6K1QQ)\n",
        "\n",
        "[Link Utile](https://www.analyticsvidhya.com/blog/2020/12/an-end-to-end-comprehensive-guide-for-pca/) "
      ]
    },
    {
      "cell_type": "markdown",
      "metadata": {
        "id": "1o8fXQZePP25"
      },
      "source": [
        "***Parametri del TSNE***\n",
        "1. **n_components** int, default=2 - Dimension of the embedded space.\n",
        "\n",
        "2. **perplexityfloat, default=30.0** - The perplexity is related to the number of nearest neighbors that is used in other manifold learning algorithms. Larger datasets usually require a larger perplexity. Consider selecting a value between 5 and 50. Different values can result in significantly different results.\n",
        "\n",
        "3. **early_exaggeration float, default=12.0**\n",
        "Controls how tight natural clusters in the original space are in the embedded space and how much space will be between them. For larger values, the space between natural clusters will be larger in the embedded space. Again, the choice of this parameter is not very critical. If the cost function increases during initial optimization, the early exaggeration factor or the learning rate might be too high.\n",
        "\n",
        "4. **learning_ratefloat, default=200.0** The learning rate for t-SNE is usually in the range [10.0, 1000.0]. If the learning rate is too high, the data may look like a ‘ball’ with any point approximately equidistant from its nearest neighbours. If the learning rate is too low, most points may look compressed in a dense cloud with few outliers. If the cost function gets stuck in a bad local minimum increasing the learning rate may help.\n",
        "\n",
        "5. **n_iterint, default=1000**\n",
        "Maximum number of iterations for the optimization. Should be at least 250.\n",
        "\n",
        "6. **n_iter_without_progressint, default=300**\n",
        "Maximum number of iterations without progress before we abort the optimization, used after 250 initial iterations with early exaggeration. Note that progress is only checked every 50 iterations so this value is rounded to the next multiple of 50.\n",
        "\n",
        "7. **metricstr or callable, default=’euclidean’**\n",
        "The metric to use when calculating distance between instances in a feature array. If metric is a string, it must be one of the options allowed by scipy.spatial.distance.pdist for its metric parameter, or a metric listed in pairwise.PAIRWISE_DISTANCE_FUNCTIONS. If metric is “precomputed”, X is assumed to be a distance matrix. Alternatively, if metric is a callable function, it is called on each pair of instances (rows) and the resulting value recorded. The callable should take two arrays from X as input and return a value indicating the distance between them. The default is “euclidean” which is interpreted as squared euclidean distance.\n",
        "\n",
        "8. **init{‘random’, ‘pca’} or ndarray of shape(n_samples, n_components), default=’random’**\n",
        "Initialization of embedding. Possible options are ‘random’, ‘pca’, and a numpy array of shape (n_samples, n_components). PCA initialization cannot be used with precomputed distances and is usually more globally stable than random initialization.\n",
        "\n",
        "9. **verboseint, default=0** Verbosity level.\n",
        "\n",
        "10. **random_stateint, RandomState instance or None, default=None** Determines the random number generator. Pass an int for reproducible results across multiple function calls. Note that different initializations might result in different local minima of the cost function. See :term: Glossary <random_state>.\n",
        "\n",
        "11. **methodstr, default=’barnes_hut’**\n",
        "By default the gradient calculation algorithm uses Barnes-Hut approximation running in O(NlogN) time. method=’exact’ will run on the slower, but exact, algorithm in O(N^2) time. The exact algorithm should be used when nearest-neighbor errors need to be better than 3%. However, the exact method cannot scale to millions of examples.\n",
        "\n",
        "12. **n_jobsint, default=None**\n",
        "The number of parallel jobs to run for neighbors search. This parameter has no impact when metric=\"precomputed\" or (metric=\"euclidean\" and method=\"exact\"). None means 1 unless in a joblib.parallel_backend context. -1 means using all processors. See Glossary for more details.\n",
        "\n",
        "\n",
        "[scikit-learn.org](https://scikit-learn.org/stable/modules/generated/sklearn.manifold.TSNE.html)\n",
        "\n",
        "[misread-tsne](https://distill.pub/2016/misread-tsne/)\n",
        "\n",
        "[altro modo spiegato anche meglio](https://www.analyticsvidhya.com/blog/2017/01/t-sne-implementation-r-python/)\n"
      ]
    },
    {
      "cell_type": "markdown",
      "metadata": {
        "id": "umabolL61nFw"
      },
      "source": [
        "#### Dataset "
      ]
    },
    {
      "cell_type": "code",
      "execution_count": 42,
      "metadata": {
        "id": "Yp2BSeGZ0vij",
        "colab": {
          "base_uri": "https://localhost:8080/",
          "height": 1000
        },
        "outputId": "6b26774a-f32c-4458-f579-942d57a322eb"
      },
      "outputs": [
        {
          "output_type": "execute_result",
          "data": {
            "text/plain": [
              "'\\nimport numpy as np\\nfrom keras.models import Sequential\\nimport numpy as np\\nfrom sklearn.model_selection import train_test_split\\nimport os\\nimport pandas as pd\\n\\nos.chdir(\\'/content/drive/MyDrive/ProgettoDL\\')\\npath = os.getcwd()\\n\\ncol_list_sx = [\"ID\", \"COD_COMPONENTE\", \"IMG_LATOSX\", \"CLASSE_CALCIOSX\"]\\ndataframe_sx_complessivo = pd.read_csv(os.path.join(path + \\'/20201102_ExportDB.txt\\'), usecols=col_list_sx, sep=\";\")\\n\\n\\ncol_list_dx = [\"ID\", \"COD_COMPONENTE\", \"IMG_LATODX\", \"CLASSE_CALCIODX\"]\\ndataframe_dx_complessivo = pd.read_csv(os.path.join(path + \\'/20201102_ExportDB.txt\\'), usecols=col_list_dx, sep=\";\")\\n\\n\\ndataframe_sx_complessivo.columns = [\\'ID\\',\\'series\\', \\'filename\\', \\'class\\']\\ndataframe_dx_complessivo.columns = [\\'ID\\',\\'series\\', \\'filename\\', \\'class\\']\\n\\n#print(dataframe_sx.columns)                 #stampo i due elementi con stesso ID (lato dx e sx di stesso CALCIO)\\nframes = [dataframe_sx_complessivo, dataframe_dx_complessivo]\\nresult_complessivo = pd.concat(frames)\\n#print(result_complessivo)\\n#print(result_complessivo.loc[[1]])\\n#print(type(result_complessivo.loc[[1]]))\\n\\nresult_complessivo[\"class\"] = result_complessivo[\"class\"].map({\\'1\\': int(0), \\'2-\\': int(1), \\'2\\': int(2), \\'2+\\': int(3), \\'3-\\': int(4), \\'3\\': int(5), \\'3+\\': int(6), \\'4-\\': int(7), \\'4\\': int(8), \\'4+\\': int(9)})\\nresult_complessivo[\"series\"] = result_complessivo[\"series\"].map({2: int(0), 4: int(1), 8: int(2), 10: int(3), 6: int(4), 9: int(5), 3: int(6), 11: int(7), 12: int(8), 13: int(9), 14: int(10), 15: int(11), 7: int(12)})\\n\\n#IDENTIFICAZIONE VALORI NULL \\nprint(\"Null VALUE di class : \"+format(result_complessivo[\\'class\\'].isnull().sum()))\\nprint(result_complessivo.loc[result_complessivo[\\'class\\'] == \\'0\\'])\\nprint(result_complessivo[result_complessivo[\\'class\\'].isnull()])\\nresult_complessivo[\\'class\\'] = pd.to_numeric(result_complessivo[\\'class\\'], errors=\\'coerce\\')\\nprint(result_complessivo[result_complessivo[\\'class\\'].isnull()])\\nresult_complessivo = result_complessivo.dropna(subset=[\\'class\\'])    #rimuovo le righe con elementi nulli\\nprint(result_complessivo[result_complessivo[\\'class\\'].isnull()])\\n\\nprint(\"Null VALUE di class : \"+format(result_complessivo[\\'class\\'].isnull().sum()))\\n\\n#IMMG EXIST ?  (cerco se qualche path non esiste e lo elimino dal dataframe) e se esiste ne faccio la MASCHERA\\nimport os.path\\nfrom os import path\\nos.chdir(\\'/content/drive/MyDrive/CALCIO_NOPRE\\')\\nfor index, row in result_complessivo.iterrows():\\n    filename = row[\\'filename\\']\\n    if(os.path.exists(filename) == False):\\n      result_complessivo = result_complessivo.drop(result_complessivo[(result_complessivo[\\'filename\\'] == filename)].index)\\n      print(\\'File : {} eliminato\\'.format(filename))\\n\\nprint(\\'------------------- DATASET BASE ---------------\\')\\nprint(type(result_complessivo))  \\nprint(len(result_complessivo))\\nprint(result_complessivo)\\n\\nresult_complessivo_totale = pd.DataFrame()\\n\\nfor index, row in result_complessivo.iterrows():\\n  #filename_mask = \\'mask_{}\\'.format(row[\\'filename\\'])\\n  filename = \\'{}\\'.format(row[\\'filename\\'])\\n  #filename_gray = \\'gray_{}\\'.format(row[\\'filename\\'])\\n  class_ = row[\\'class\\']\\n  series_ = row[\\'series\\']\\n  #print(\\'{}_{}_{}_{}\\'.format(filename_gray,filename_mask, class_, series_)) \"ID\": row[\\'ID\\']\\n  row_df_1 = pd.DataFrame({\"ID\": row[\\'ID\\'], \"series\" : series_, \"filename\" : filename, \"class\" : class_},index=[0])\\n  #row_df_2 = pd.DataFrame({\"ID\": row[\\'ID\\'], \"series\" : series_, \"filename\" : filename_gray, \"class\" : class_},index=[0])\\n  #row_df_3 = pd.DataFrame({\"ID\": row[\\'ID\\'], \"series\" : series_, \"filename\" : filename, \"class\" : class_},index=[0])\\n  #print(row_df_1)\\n  #print(row_df_2)\\n  result_complessivo_totale = result_complessivo_totale.append(row_df_1)\\n  #result_complessivo_totale = result_complessivo_totale.append(row_df_2)\\n  #result_complessivo_totale = result_complessivo_totale.append(row_df_3)\\n\\n\\nprint(\\'------------------- DATASET COMPLESSIVO ---------------\\') \\nprint(type(result_complessivo_totale))  \\nprint(len(result_complessivo_totale))\\n#print(result_complessivo_totale)\\n\\nfrom sklearn.utils import shuffle\\nresult_complessivo_totale = shuffle(result_complessivo_totale)\\nprint(type(result_complessivo_totale))  \\nprint(len(result_complessivo_totale))\\nprint(result_complessivo_totale)\\n'"
            ],
            "application/vnd.google.colaboratory.intrinsic+json": {
              "type": "string"
            }
          },
          "metadata": {},
          "execution_count": 42
        }
      ],
      "source": [
        "'''\n",
        "import numpy as np\n",
        "from keras.models import Sequential\n",
        "import numpy as np\n",
        "from sklearn.model_selection import train_test_split\n",
        "import os\n",
        "import pandas as pd\n",
        "\n",
        "os.chdir('/content/drive/MyDrive/ProgettoDL')\n",
        "path = os.getcwd()\n",
        "\n",
        "col_list_sx = [\"ID\", \"COD_COMPONENTE\", \"IMG_LATOSX\", \"CLASSE_CALCIOSX\"]\n",
        "dataframe_sx_complessivo = pd.read_csv(os.path.join(path + '/20201102_ExportDB.txt'), usecols=col_list_sx, sep=\";\")\n",
        "\n",
        "\n",
        "col_list_dx = [\"ID\", \"COD_COMPONENTE\", \"IMG_LATODX\", \"CLASSE_CALCIODX\"]\n",
        "dataframe_dx_complessivo = pd.read_csv(os.path.join(path + '/20201102_ExportDB.txt'), usecols=col_list_dx, sep=\";\")\n",
        "\n",
        "\n",
        "dataframe_sx_complessivo.columns = ['ID','series', 'filename', 'class']\n",
        "dataframe_dx_complessivo.columns = ['ID','series', 'filename', 'class']\n",
        "\n",
        "#print(dataframe_sx.columns)                 #stampo i due elementi con stesso ID (lato dx e sx di stesso CALCIO)\n",
        "frames = [dataframe_sx_complessivo, dataframe_dx_complessivo]\n",
        "result_complessivo = pd.concat(frames)\n",
        "#print(result_complessivo)\n",
        "#print(result_complessivo.loc[[1]])\n",
        "#print(type(result_complessivo.loc[[1]]))\n",
        "\n",
        "result_complessivo[\"class\"] = result_complessivo[\"class\"].map({'1': int(0), '2-': int(1), '2': int(2), '2+': int(3), '3-': int(4), '3': int(5), '3+': int(6), '4-': int(7), '4': int(8), '4+': int(9)})\n",
        "result_complessivo[\"series\"] = result_complessivo[\"series\"].map({2: int(0), 4: int(1), 8: int(2), 10: int(3), 6: int(4), 9: int(5), 3: int(6), 11: int(7), 12: int(8), 13: int(9), 14: int(10), 15: int(11), 7: int(12)})\n",
        "\n",
        "#IDENTIFICAZIONE VALORI NULL \n",
        "print(\"Null VALUE di class : \"+format(result_complessivo['class'].isnull().sum()))\n",
        "print(result_complessivo.loc[result_complessivo['class'] == '0'])\n",
        "print(result_complessivo[result_complessivo['class'].isnull()])\n",
        "result_complessivo['class'] = pd.to_numeric(result_complessivo['class'], errors='coerce')\n",
        "print(result_complessivo[result_complessivo['class'].isnull()])\n",
        "result_complessivo = result_complessivo.dropna(subset=['class'])    #rimuovo le righe con elementi nulli\n",
        "print(result_complessivo[result_complessivo['class'].isnull()])\n",
        "\n",
        "print(\"Null VALUE di class : \"+format(result_complessivo['class'].isnull().sum()))\n",
        "\n",
        "#IMMG EXIST ?  (cerco se qualche path non esiste e lo elimino dal dataframe) e se esiste ne faccio la MASCHERA\n",
        "import os.path\n",
        "from os import path\n",
        "os.chdir('/content/drive/MyDrive/CALCIO_NOPRE')\n",
        "for index, row in result_complessivo.iterrows():\n",
        "    filename = row['filename']\n",
        "    if(os.path.exists(filename) == False):\n",
        "      result_complessivo = result_complessivo.drop(result_complessivo[(result_complessivo['filename'] == filename)].index)\n",
        "      print('File : {} eliminato'.format(filename))\n",
        "\n",
        "print('------------------- DATASET BASE ---------------')\n",
        "print(type(result_complessivo))  \n",
        "print(len(result_complessivo))\n",
        "print(result_complessivo)\n",
        "\n",
        "result_complessivo_totale = pd.DataFrame()\n",
        "\n",
        "for index, row in result_complessivo.iterrows():\n",
        "  #filename_mask = 'mask_{}'.format(row['filename'])\n",
        "  filename = '{}'.format(row['filename'])\n",
        "  #filename_gray = 'gray_{}'.format(row['filename'])\n",
        "  class_ = row['class']\n",
        "  series_ = row['series']\n",
        "  #print('{}_{}_{}_{}'.format(filename_gray,filename_mask, class_, series_)) \"ID\": row['ID']\n",
        "  row_df_1 = pd.DataFrame({\"ID\": row['ID'], \"series\" : series_, \"filename\" : filename, \"class\" : class_},index=[0])\n",
        "  #row_df_2 = pd.DataFrame({\"ID\": row['ID'], \"series\" : series_, \"filename\" : filename_gray, \"class\" : class_},index=[0])\n",
        "  #row_df_3 = pd.DataFrame({\"ID\": row['ID'], \"series\" : series_, \"filename\" : filename, \"class\" : class_},index=[0])\n",
        "  #print(row_df_1)\n",
        "  #print(row_df_2)\n",
        "  result_complessivo_totale = result_complessivo_totale.append(row_df_1)\n",
        "  #result_complessivo_totale = result_complessivo_totale.append(row_df_2)\n",
        "  #result_complessivo_totale = result_complessivo_totale.append(row_df_3)\n",
        "\n",
        "\n",
        "print('------------------- DATASET COMPLESSIVO ---------------') \n",
        "print(type(result_complessivo_totale))  \n",
        "print(len(result_complessivo_totale))\n",
        "#print(result_complessivo_totale)\n",
        "\n",
        "from sklearn.utils import shuffle\n",
        "result_complessivo_totale = shuffle(result_complessivo_totale)\n",
        "print(type(result_complessivo_totale))  \n",
        "print(len(result_complessivo_totale))\n",
        "print(result_complessivo_totale)\n",
        "'''"
      ]
    },
    {
      "cell_type": "markdown",
      "metadata": {
        "id": "_U2UEFjs1iXp"
      },
      "source": [
        "#### import utili per il TSNE e PCA"
      ]
    },
    {
      "cell_type": "code",
      "execution_count": 43,
      "metadata": {
        "id": "SvdYrmbf1aYd",
        "colab": {
          "base_uri": "https://localhost:8080/",
          "height": 1000
        },
        "outputId": "914ed3e2-f423-4254-dd3d-bda4c2042188"
      },
      "outputs": [
        {
          "output_type": "execute_result",
          "data": {
            "text/plain": [
              "'\\n%matplotlib inline\\nfrom __future__ import print_function\\nimport time\\nimport numpy as np\\nimport pandas as pd\\nfrom sklearn.decomposition import PCA\\nfrom sklearn.manifold import TSNE\\nfrom sklearn import datasets\\nimport matplotlib.pyplot as plt\\nimport matplotlib.pyplot as plt\\nfrom mpl_toolkits.mplot3d import Axes3D\\nimport seaborn as sns\\nfrom sklearn.manifold import TSNE\\nimport pandas as pd    \\nfrom sklearn.preprocessing import StandardScaler\\n'"
            ],
            "application/vnd.google.colaboratory.intrinsic+json": {
              "type": "string"
            }
          },
          "metadata": {},
          "execution_count": 43
        }
      ],
      "source": [
        "'''\n",
        "%matplotlib inline\n",
        "from __future__ import print_function\n",
        "import time\n",
        "import numpy as np\n",
        "import pandas as pd\n",
        "from sklearn.decomposition import PCA\n",
        "from sklearn.manifold import TSNE\n",
        "from sklearn import datasets\n",
        "import matplotlib.pyplot as plt\n",
        "import matplotlib.pyplot as plt\n",
        "from mpl_toolkits.mplot3d import Axes3D\n",
        "import seaborn as sns\n",
        "from sklearn.manifold import TSNE\n",
        "import pandas as pd    \n",
        "from sklearn.preprocessing import StandardScaler\n",
        "'''"
      ]
    },
    {
      "cell_type": "markdown",
      "metadata": {
        "id": "z56gEZfX14mX"
      },
      "source": [
        "#### IMG to ARRAY per il calcolo del PCA e TSNE & Reduction delle immagini"
      ]
    },
    {
      "cell_type": "markdown",
      "metadata": {
        "id": "7qiUkpP0_LXM"
      },
      "source": [
        "##### IMG to ARRAY per il calcolo del PCA e TSNE & Reduction delle immagini - QUALITY CLASS"
      ]
    },
    {
      "cell_type": "code",
      "execution_count": 44,
      "metadata": {
        "id": "U7t1a9DA0wnE",
        "colab": {
          "base_uri": "https://localhost:8080/",
          "height": 1000
        },
        "outputId": "2481227f-5472-4f0f-e602-72919b9bd87d"
      },
      "outputs": [
        {
          "output_type": "execute_result",
          "data": {
            "text/plain": [
              "'\\n# https://towardsdatascience.com/visualising-high-dimensional-datasets-using-pca-and-t-sne-in-python-8ef87e7915b\\nfrom tqdm import tqdm\\nimmg_rows = 270 \\nimmg_cols = 470\\nX = [] \\nimgs_array_tot = []\\n\\ndata_X = result_complessivo_totale[\\'filename\\'][:1000] #---versione originale \\nresult_complessivo_totale_min = result_complessivo_totale[:1000] #--deve essere uguale a y_dim ---versione originale \\ny = result_complessivo_totale[\\'class\\'][:1000] #--- deve essere uguale ... ---versione originale \\n\\nfor index, row in tqdm(result_complessivo_totale_min.iterrows()):\\n    filename = row[\\'filename\\']\\n    image = load_img(\\'/content/drive/My Drive/CALCIO_CROP_BASE/{}\\'.format(filename), target_size = (immg_rows, immg_cols, 1), color_mode=\"grayscale\")\\n    \\n    #print(\\'Originale : {} x {} x {}\\'.format(image.size[0], image.size[1], len(image.size)-1))\\n    #plt.imshow(image)\\n    scale_percent = 90 # percent of original size\\n    width, height = image.size\\n    #print(\\'channel : {}\\'.format(len(image.size)))\\n    width = int(width * scale_percent / 100)\\n    height = int(height * scale_percent / 100)\\n    dim = (width, height)\\n    # resize image\\n    x = img_to_array(image)\\n    resized = cv2.resize(x, dim, interpolation = cv2.INTER_AREA)\\n    #print(\\'Ridimensionata : {}\\'.format((resized.shape)))\\n    #print(\\'Resized Dimensions : \\',resized.shape)\\n    imgs_array_tot.append(resized)\\n    X = np.asarray(imgs_array_tot)\\nprint(X.shape)\\n'"
            ],
            "application/vnd.google.colaboratory.intrinsic+json": {
              "type": "string"
            }
          },
          "metadata": {},
          "execution_count": 44
        }
      ],
      "source": [
        "'''\n",
        "# https://towardsdatascience.com/visualising-high-dimensional-datasets-using-pca-and-t-sne-in-python-8ef87e7915b\n",
        "from tqdm import tqdm\n",
        "immg_rows = 270 \n",
        "immg_cols = 470\n",
        "X = [] \n",
        "imgs_array_tot = []\n",
        "\n",
        "data_X = result_complessivo_totale['filename'][:1000] #---versione originale \n",
        "result_complessivo_totale_min = result_complessivo_totale[:1000] #--deve essere uguale a y_dim ---versione originale \n",
        "y = result_complessivo_totale['class'][:1000] #--- deve essere uguale ... ---versione originale \n",
        "\n",
        "for index, row in tqdm(result_complessivo_totale_min.iterrows()):\n",
        "    filename = row['filename']\n",
        "    image = load_img('/content/drive/My Drive/CALCIO_CROP_BASE/{}'.format(filename), target_size = (immg_rows, immg_cols, 1), color_mode=\"grayscale\")\n",
        "    \n",
        "    #print('Originale : {} x {} x {}'.format(image.size[0], image.size[1], len(image.size)-1))\n",
        "    #plt.imshow(image)\n",
        "    scale_percent = 90 # percent of original size\n",
        "    width, height = image.size\n",
        "    #print('channel : {}'.format(len(image.size)))\n",
        "    width = int(width * scale_percent / 100)\n",
        "    height = int(height * scale_percent / 100)\n",
        "    dim = (width, height)\n",
        "    # resize image\n",
        "    x = img_to_array(image)\n",
        "    resized = cv2.resize(x, dim, interpolation = cv2.INTER_AREA)\n",
        "    #print('Ridimensionata : {}'.format((resized.shape)))\n",
        "    #print('Resized Dimensions : ',resized.shape)\n",
        "    imgs_array_tot.append(resized)\n",
        "    X = np.asarray(imgs_array_tot)\n",
        "print(X.shape)\n",
        "'''"
      ]
    },
    {
      "cell_type": "markdown",
      "metadata": {
        "id": "7IsDgmRB_QxY"
      },
      "source": [
        "##### IMG to ARRAY per il calcolo del PCA e TSNE & Reduction delle immagini - SHOTGUN SERIES"
      ]
    },
    {
      "cell_type": "code",
      "execution_count": 45,
      "metadata": {
        "id": "1WGaPWme_Ca8",
        "colab": {
          "base_uri": "https://localhost:8080/",
          "height": 1000
        },
        "outputId": "9fb1f9d1-11d4-4901-91dd-b7e585a55542"
      },
      "outputs": [
        {
          "output_type": "execute_result",
          "data": {
            "text/plain": [
              "'\\n# https://towardsdatascience.com/visualising-high-dimensional-datasets-using-pca-and-t-sne-in-python-8ef87e7915b\\nfrom tqdm import tqdm\\n\\nimmg_rows = 270 \\nimmg_cols = 470\\nX = [] \\nimgs_array_tot = []\\ndata_X = result_complessivo_totale[\\'filename\\'][:1000]\\n\\nresult_complessivo_totale_min = result_complessivo_totale[:1000] #--deve essere uguale a y_dim\\n\\ny = result_complessivo_totale[\\'class\\'][:1000] #--- deve essere uguale ... \\n\\ny_series = result_complessivo_totale[\\'series\\'][:1000] #--- deve essere uguale ...\\n\\nfor index, row in tqdm(result_complessivo_totale_min.iterrows()):\\n    filename = row[\\'filename\\']\\n    if(filename[0] == \\'m\\'):\\n      image = load_img(\\'/content/drive/My Drive/MASK_CALCIO_CROP/{}\\'.format(filename), target_size = (immg_rows, immg_cols, 1), color_mode=\"grayscale\")\\n    elif(filename[0] == \\'g\\'): \\n      image = load_img(\\'/content/drive/My Drive/GRAY_CALCIO_CROP/{}\\'.format(filename), target_size = (immg_rows, immg_cols, 1), color_mode=\"grayscale\")\\n    else:\\n      image = load_img(\\'/content/drive/My Drive/CALCIO_CROP/{}\\'.format(filename), target_size = (immg_rows, immg_cols, 1), color_mode=\"grayscale\")\\n\\n    scale_percent = 90 # percent of original size\\n    width, height = image.size\\n    width = int(width * scale_percent / 100)\\n    height = int(height * scale_percent / 100)\\n    dim = (width, height)\\n    # resize image\\n    x = img_to_array(image)\\n    resized = cv2.resize(x, dim, interpolation = cv2.INTER_AREA)\\n    #print(\\'Ridimensionata : {}\\'.format((resized.shape)))\\n    #print(\\'Resized Dimensions : \\',resized.shape)\\n    imgs_array_tot.append(resized)\\n    X2 = np.asarray(imgs_array_tot)\\nprint(X2.shape) \\n'"
            ],
            "application/vnd.google.colaboratory.intrinsic+json": {
              "type": "string"
            }
          },
          "metadata": {},
          "execution_count": 45
        }
      ],
      "source": [
        "'''\n",
        "# https://towardsdatascience.com/visualising-high-dimensional-datasets-using-pca-and-t-sne-in-python-8ef87e7915b\n",
        "from tqdm import tqdm\n",
        "\n",
        "immg_rows = 270 \n",
        "immg_cols = 470\n",
        "X = [] \n",
        "imgs_array_tot = []\n",
        "data_X = result_complessivo_totale['filename'][:1000]\n",
        "\n",
        "result_complessivo_totale_min = result_complessivo_totale[:1000] #--deve essere uguale a y_dim\n",
        "\n",
        "y = result_complessivo_totale['class'][:1000] #--- deve essere uguale ... \n",
        "\n",
        "y_series = result_complessivo_totale['series'][:1000] #--- deve essere uguale ...\n",
        "\n",
        "for index, row in tqdm(result_complessivo_totale_min.iterrows()):\n",
        "    filename = row['filename']\n",
        "    if(filename[0] == 'm'):\n",
        "      image = load_img('/content/drive/My Drive/MASK_CALCIO_CROP/{}'.format(filename), target_size = (immg_rows, immg_cols, 1), color_mode=\"grayscale\")\n",
        "    elif(filename[0] == 'g'): \n",
        "      image = load_img('/content/drive/My Drive/GRAY_CALCIO_CROP/{}'.format(filename), target_size = (immg_rows, immg_cols, 1), color_mode=\"grayscale\")\n",
        "    else:\n",
        "      image = load_img('/content/drive/My Drive/CALCIO_CROP/{}'.format(filename), target_size = (immg_rows, immg_cols, 1), color_mode=\"grayscale\")\n",
        "\n",
        "    scale_percent = 90 # percent of original size\n",
        "    width, height = image.size\n",
        "    width = int(width * scale_percent / 100)\n",
        "    height = int(height * scale_percent / 100)\n",
        "    dim = (width, height)\n",
        "    # resize image\n",
        "    x = img_to_array(image)\n",
        "    resized = cv2.resize(x, dim, interpolation = cv2.INTER_AREA)\n",
        "    #print('Ridimensionata : {}'.format((resized.shape)))\n",
        "    #print('Resized Dimensions : ',resized.shape)\n",
        "    imgs_array_tot.append(resized)\n",
        "    X2 = np.asarray(imgs_array_tot)\n",
        "print(X2.shape) \n",
        "'''"
      ]
    },
    {
      "cell_type": "markdown",
      "metadata": {
        "id": "ihY4u-CL2JKI"
      },
      "source": [
        "#### Check & Create Dataframe for PCA (Principal Analysis Component) & T-SNE (t-distributed stochastic neighbor embedding)"
      ]
    },
    {
      "cell_type": "markdown",
      "metadata": {
        "id": "2OaloopJ5gCK"
      },
      "source": [
        "##### classi di qualità "
      ]
    },
    {
      "cell_type": "code",
      "execution_count": 46,
      "metadata": {
        "id": "niWaWydy2H9P",
        "colab": {
          "base_uri": "https://localhost:8080/",
          "height": 1000
        },
        "outputId": "391af6e9-306d-4972-a871-e608b0fa95d4"
      },
      "outputs": [
        {
          "output_type": "execute_result",
          "data": {
            "text/plain": [
              "\"\\nprint('X SHAPE : {}'.format(X.shape))\\n\\nnsamples = X.shape[0]\\nrows = X.shape[1]\\ncols = X.shape[2]\\nchannel = 1\\n\\nprint('n_samples : {} , rows : {} , cols : {} , channel : {} '.format(nsamples, rows, cols, channel))\\nprint(type(X))\\nX_1 = np.reshape(X, (X.shape[0],rows*cols*channel)) #-- serve per modificare la dimensione, per il fit_transform          FORSE QUI BISOGNA SOLO USARE I PRIMI 2 VALORI E IL 3 DEI CANALI NO!\\n\\nprint('X MODIFICATO : {}'.format(X_1.shape)) #--- controllo se ho fatto tutto correttamente \\n\\nfeat_cols = [ 'pixel'+str(i) for i in range(X_1.shape[1]) ]\\nprint('Feat Cols : {} '.format(len(feat_cols)))\\n#print(feat_cols)\\ndf = pd.DataFrame(X_1,columns=feat_cols)\\n#df = pd.DataFrame(X_1)\\ndf['y'] = pd.DataFrame({ 'y': np.array(y) })\\ndf['label'] = df['y'].apply(lambda i: str(i))\\n#X, y = None, None\\nprint('Size of the dataframe: {}'.format(df.shape))\\n\\n# For reproducability of the results\\nnp.random.seed(42)\\nrndperm = np.random.permutation(df.shape[0])\\n\""
            ],
            "application/vnd.google.colaboratory.intrinsic+json": {
              "type": "string"
            }
          },
          "metadata": {},
          "execution_count": 46
        }
      ],
      "source": [
        "'''\n",
        "print('X SHAPE : {}'.format(X.shape))\n",
        "\n",
        "nsamples = X.shape[0]\n",
        "rows = X.shape[1]\n",
        "cols = X.shape[2]\n",
        "channel = 1\n",
        "\n",
        "print('n_samples : {} , rows : {} , cols : {} , channel : {} '.format(nsamples, rows, cols, channel))\n",
        "print(type(X))\n",
        "X_1 = np.reshape(X, (X.shape[0],rows*cols*channel)) #-- serve per modificare la dimensione, per il fit_transform          FORSE QUI BISOGNA SOLO USARE I PRIMI 2 VALORI E IL 3 DEI CANALI NO!\n",
        "\n",
        "print('X MODIFICATO : {}'.format(X_1.shape)) #--- controllo se ho fatto tutto correttamente \n",
        "\n",
        "feat_cols = [ 'pixel'+str(i) for i in range(X_1.shape[1]) ]\n",
        "print('Feat Cols : {} '.format(len(feat_cols)))\n",
        "#print(feat_cols)\n",
        "df = pd.DataFrame(X_1,columns=feat_cols)\n",
        "#df = pd.DataFrame(X_1)\n",
        "df['y'] = pd.DataFrame({ 'y': np.array(y) })\n",
        "df['label'] = df['y'].apply(lambda i: str(i))\n",
        "#X, y = None, None\n",
        "print('Size of the dataframe: {}'.format(df.shape))\n",
        "\n",
        "# For reproducability of the results\n",
        "np.random.seed(42)\n",
        "rndperm = np.random.permutation(df.shape[0])\n",
        "'''"
      ]
    },
    {
      "cell_type": "markdown",
      "metadata": {
        "id": "qrtXkNtk5luP"
      },
      "source": [
        "##### shotgun series "
      ]
    },
    {
      "cell_type": "code",
      "execution_count": 47,
      "metadata": {
        "id": "nRob1Q0F5buA",
        "colab": {
          "base_uri": "https://localhost:8080/",
          "height": 1000
        },
        "outputId": "801c754d-bcc8-413e-b091-52068c1ac7f3"
      },
      "outputs": [
        {
          "output_type": "execute_result",
          "data": {
            "text/plain": [
              "\"\\nprint('X2 SHAPE : {}'.format(X2.shape))\\n\\nnsamples = X2.shape[0]\\nrows = X2.shape[1]\\ncols = X2.shape[2]\\nchannel = 1\\n\\nprint('n_samples : {} , rows : {} , cols : {} , channel : {} '.format(nsamples, rows, cols, channel))\\nprint(type(X2))\\nX_11 = np.reshape(X2, (X2.shape[0],rows*cols*channel)) #-- serve per modificare la dimensione, per il fit_transform          FORSE QUI BISOGNA SOLO USARE I PRIMI 2 VALORI E IL 3 DEI CANALI NO!\\n\\nprint('X MODIFICATO : {}'.format(X_11.shape)) #--- controllo se ho fatto tutto correttamente \\n#print(X_1)\\n\\nfeat_cols = [ 'pixel'+str(i) for i in range(X_11.shape[1]) ]\\nprint('Feat Cols : {} '.format(len(feat_cols)))\\n#print(feat_cols)\\ndf_2 = pd.DataFrame(X_11,columns=feat_cols)\\n#df = pd.DataFrame(X_1)\\ndf_2['y'] = pd.DataFrame({ 'y': np.array(y_series) })\\ndf_2['label'] = df_2['y'].apply(lambda i: str(i))\\n#X, y = None, None\\nprint('Size of the dataframe: {}'.format(df_2.shape))\\n\\n\\n\\n# For reproducability of the results\\nnp.random.seed(42)\\nrndperm = np.random.permutation(df_2.shape[0])\\n\""
            ],
            "application/vnd.google.colaboratory.intrinsic+json": {
              "type": "string"
            }
          },
          "metadata": {},
          "execution_count": 47
        }
      ],
      "source": [
        "'''\n",
        "print('X2 SHAPE : {}'.format(X2.shape))\n",
        "\n",
        "nsamples = X2.shape[0]\n",
        "rows = X2.shape[1]\n",
        "cols = X2.shape[2]\n",
        "channel = 1\n",
        "\n",
        "print('n_samples : {} , rows : {} , cols : {} , channel : {} '.format(nsamples, rows, cols, channel))\n",
        "print(type(X2))\n",
        "X_11 = np.reshape(X2, (X2.shape[0],rows*cols*channel)) #-- serve per modificare la dimensione, per il fit_transform          FORSE QUI BISOGNA SOLO USARE I PRIMI 2 VALORI E IL 3 DEI CANALI NO!\n",
        "\n",
        "print('X MODIFICATO : {}'.format(X_11.shape)) #--- controllo se ho fatto tutto correttamente \n",
        "#print(X_1)\n",
        "\n",
        "feat_cols = [ 'pixel'+str(i) for i in range(X_11.shape[1]) ]\n",
        "print('Feat Cols : {} '.format(len(feat_cols)))\n",
        "#print(feat_cols)\n",
        "df_2 = pd.DataFrame(X_11,columns=feat_cols)\n",
        "#df = pd.DataFrame(X_1)\n",
        "df_2['y'] = pd.DataFrame({ 'y': np.array(y_series) })\n",
        "df_2['label'] = df_2['y'].apply(lambda i: str(i))\n",
        "#X, y = None, None\n",
        "print('Size of the dataframe: {}'.format(df_2.shape))\n",
        "\n",
        "\n",
        "\n",
        "# For reproducability of the results\n",
        "np.random.seed(42)\n",
        "rndperm = np.random.permutation(df_2.shape[0])\n",
        "'''"
      ]
    },
    {
      "cell_type": "markdown",
      "metadata": {
        "id": "hbq6tUyY2bxr"
      },
      "source": [
        "#### Calcolo TSNE & PLOT TSNE"
      ]
    },
    {
      "cell_type": "markdown",
      "metadata": {
        "id": "PUPCoiGQ6j-D"
      },
      "source": [
        "##### TSNE QUALITY CLASS"
      ]
    },
    {
      "cell_type": "code",
      "execution_count": 48,
      "metadata": {
        "id": "Bg-1zy_g2bDc",
        "colab": {
          "base_uri": "https://localhost:8080/",
          "height": 1000
        },
        "outputId": "dcb60118-b6ab-4140-8cb1-faa7dcab21fd"
      },
      "outputs": [
        {
          "output_type": "execute_result",
          "data": {
            "text/plain": [
              "\"\\ntime_start = time.time()\\nN = 1000 \\ndf_subset = df.loc[rndperm[:N],:].copy()\\ndata_subset = df_subset[feat_cols].values\\n#data_subset = df_subset\\n#tsne = TSNE(n_components=2, verbose=1, perplexity=40, n_iter=3000, init='random', n_jobs = 10) #-- non so se serve init ... originale \\ntsne = TSNE(n_components=2, verbose=1, perplexity=200, n_iter=6000, init='random', n_jobs = 10) #-- nuova versione \\ntsne_results = tsne.fit_transform(data_subset)\\nprint('t-SNE done! Time elapsed: {} seconds'.format(time.time()-time_start))\\n\""
            ],
            "application/vnd.google.colaboratory.intrinsic+json": {
              "type": "string"
            }
          },
          "metadata": {},
          "execution_count": 48
        }
      ],
      "source": [
        "'''\n",
        "time_start = time.time()\n",
        "N = 1000 \n",
        "df_subset = df.loc[rndperm[:N],:].copy()\n",
        "data_subset = df_subset[feat_cols].values\n",
        "#data_subset = df_subset\n",
        "#tsne = TSNE(n_components=2, verbose=1, perplexity=40, n_iter=3000, init='random', n_jobs = 10) #-- non so se serve init ... originale \n",
        "tsne = TSNE(n_components=2, verbose=1, perplexity=200, n_iter=6000, init='random', n_jobs = 10) #-- nuova versione \n",
        "tsne_results = tsne.fit_transform(data_subset)\n",
        "print('t-SNE done! Time elapsed: {} seconds'.format(time.time()-time_start))\n",
        "'''"
      ]
    },
    {
      "cell_type": "markdown",
      "metadata": {
        "id": "J9nnpLbE6sfN"
      },
      "source": [
        "##### TSNE SHOTGUN SERIES "
      ]
    },
    {
      "cell_type": "code",
      "execution_count": 49,
      "metadata": {
        "id": "P5Ht1Qoc6rtg",
        "colab": {
          "base_uri": "https://localhost:8080/",
          "height": 1000
        },
        "outputId": "71513342-65e1-4f92-c5b0-71900a5cf997"
      },
      "outputs": [
        {
          "output_type": "execute_result",
          "data": {
            "text/plain": [
              "\"\\ntime_start = time.time()\\nN = 1000\\ndf_subset_series = df_2.loc[rndperm[:N],:].copy()\\n#data_subset_series = df_subset_series\\ndata_subset_series = df_subset_series[feat_cols].values\\n#tsne_series = TSNE(n_components=2, verbose=1, perplexity=20, n_iter=3000, init='random', n_jobs = 10) #-- non so se serve init ... \\ntsne_series = TSNE(n_components=2, verbose=1, perplexity=5, n_iter=6000, init='random', n_jobs = 10) #-- nuova versione \\ntsne_results_series = tsne_series.fit_transform(data_subset_series)\\nprint('t-SNE done! Time elapsed: {} seconds'.format(time.time()-time_start))\\n\""
            ],
            "application/vnd.google.colaboratory.intrinsic+json": {
              "type": "string"
            }
          },
          "metadata": {},
          "execution_count": 49
        }
      ],
      "source": [
        "'''\n",
        "time_start = time.time()\n",
        "N = 1000\n",
        "df_subset_series = df_2.loc[rndperm[:N],:].copy()\n",
        "#data_subset_series = df_subset_series\n",
        "data_subset_series = df_subset_series[feat_cols].values\n",
        "#tsne_series = TSNE(n_components=2, verbose=1, perplexity=20, n_iter=3000, init='random', n_jobs = 10) #-- non so se serve init ... \n",
        "tsne_series = TSNE(n_components=2, verbose=1, perplexity=5, n_iter=6000, init='random', n_jobs = 10) #-- nuova versione \n",
        "tsne_results_series = tsne_series.fit_transform(data_subset_series)\n",
        "print('t-SNE done! Time elapsed: {} seconds'.format(time.time()-time_start))\n",
        "'''"
      ]
    },
    {
      "cell_type": "markdown",
      "metadata": {
        "id": "RdicUGi28Sr_"
      },
      "source": [
        "##### PLOT TSNE QUALITY CLASSES"
      ]
    },
    {
      "cell_type": "code",
      "execution_count": 50,
      "metadata": {
        "id": "mXkTZdoA3Thu",
        "colab": {
          "base_uri": "https://localhost:8080/",
          "height": 1000
        },
        "outputId": "151e89a6-0dfb-4dc4-c4be-df81ec8defe2"
      },
      "outputs": [
        {
          "output_type": "execute_result",
          "data": {
            "text/plain": [
              "'\\ndf_subset[\\'tsne-2d-one\\'] = tsne_results[:,0]\\ndf_subset[\\'tsne-2d-two\\'] = tsne_results[:,1]\\nplt.figure(figsize=(16,10))\\nsns.scatterplot(\\n    x=\"tsne-2d-one\", y=\"tsne-2d-two\",\\n    hue=\"y\",\\n    palette=sns.color_palette(\\'Paired\\', as_cmap = True),\\n    data=df_subset,\\n    legend=\"full\",\\n    alpha=0.3\\n)\\n'"
            ],
            "application/vnd.google.colaboratory.intrinsic+json": {
              "type": "string"
            }
          },
          "metadata": {},
          "execution_count": 50
        }
      ],
      "source": [
        "'''\n",
        "df_subset['tsne-2d-one'] = tsne_results[:,0]\n",
        "df_subset['tsne-2d-two'] = tsne_results[:,1]\n",
        "plt.figure(figsize=(16,10))\n",
        "sns.scatterplot(\n",
        "    x=\"tsne-2d-one\", y=\"tsne-2d-two\",\n",
        "    hue=\"y\",\n",
        "    palette=sns.color_palette('Paired', as_cmap = True),\n",
        "    data=df_subset,\n",
        "    legend=\"full\",\n",
        "    alpha=0.3\n",
        ")\n",
        "'''"
      ]
    },
    {
      "cell_type": "markdown",
      "metadata": {
        "id": "1WOsA8la8b6O"
      },
      "source": [
        "##### TSNE PLOT SHOTGUN SERIES "
      ]
    },
    {
      "cell_type": "code",
      "execution_count": 51,
      "metadata": {
        "id": "IOdq6FA08f4b",
        "colab": {
          "base_uri": "https://localhost:8080/",
          "height": 1000
        },
        "outputId": "3d26ffbb-72ac-4441-e984-0740ee7c382d"
      },
      "outputs": [
        {
          "output_type": "execute_result",
          "data": {
            "text/plain": [
              "'\\ndf_subset_series[\\'tsne-2d-one\\'] = tsne_results_series[:,0]\\ndf_subset_series[\\'tsne-2d-two\\'] = tsne_results_series[:,1]\\nplt.figure(figsize=(16,10))\\nsns.scatterplot(\\n    x=\"tsne-2d-one\", y=\"tsne-2d-two\",\\n    hue=\"y\",\\n    palette=sns.color_palette(\\'Paired\\', as_cmap = True),\\n    data=df_subset_series,\\n    legend=\"full\",\\n    alpha=0.3\\n)\\n'"
            ],
            "application/vnd.google.colaboratory.intrinsic+json": {
              "type": "string"
            }
          },
          "metadata": {},
          "execution_count": 51
        }
      ],
      "source": [
        "'''\n",
        "df_subset_series['tsne-2d-one'] = tsne_results_series[:,0]\n",
        "df_subset_series['tsne-2d-two'] = tsne_results_series[:,1]\n",
        "plt.figure(figsize=(16,10))\n",
        "sns.scatterplot(\n",
        "    x=\"tsne-2d-one\", y=\"tsne-2d-two\",\n",
        "    hue=\"y\",\n",
        "    palette=sns.color_palette('Paired', as_cmap = True),\n",
        "    data=df_subset_series,\n",
        "    legend=\"full\",\n",
        "    alpha=0.3\n",
        ")\n",
        "'''"
      ]
    },
    {
      "cell_type": "markdown",
      "metadata": {
        "id": "5aSi_lI_xuvO"
      },
      "source": [
        "## **Metriche Nuove**"
      ]
    },
    {
      "cell_type": "markdown",
      "metadata": {
        "id": "u7H7AQn_u3pW"
      },
      "source": [
        "## Alcune Definizioni \n"
      ]
    },
    {
      "cell_type": "markdown",
      "metadata": {
        "id": "Yv_e2AQQPoXJ"
      },
      "source": [
        "*  **True Positives** (TP): Items where the true label is positive and whose class is correctly predicted to be positive.\n",
        "*  **False Positives** (FP): Items where the true label is negative and whose class is incorrectly predicted to be positive\n",
        "*  **True Negatives** (N): Items where the true label is negative and whose class is correctly predicted to be negative.\n",
        "*  **False Negatives** (FN): Items where the true label is positive and whose class is incorrectly predicted to be negative.\n",
        "\n",
        "* **False Positive Rate**, or *Type I Error*: Number of items wrongly identified as positive out of the total actual negatives — FP/(FP+TN) - This error means that an image not containing a particular parasite egg is incorrectly labeled as having it\n",
        "* **False Negative Rate**, or *Type II Error*: Number of items wrongly identified as negative out of the total actual positives — FN/(FN+TP). This metric is especially important to us, as it tells us the frequency with which a particular parasite egg is not classified correctly\n",
        "\n",
        "-------------\n",
        "\n",
        "* **Statistical Parity Difference**\n",
        "This measure is based on the following formula :\n",
        "𝑃𝑟(𝑌=1|𝐷=𝑢𝑛𝑝𝑟𝑖𝑣𝑖𝑙𝑒𝑔𝑒𝑑)−𝑃𝑟(𝑌=1|𝐷=𝑝𝑟𝑖𝑣𝑖𝑙𝑒𝑔𝑒𝑑) Here the bias or statistical imparity is the difference between the probability that a random individual drawn from unprivileged is labeled 1 (so here that he has more than 50K for income) and the probability that a random individual from privileged is labeled 1. So it has to be close to 0 so it will be fair.\n",
        "\n",
        "*  **Equal Opportunity Difference** This metric is just a difference between the true positive rate of unprivileged group and the true positive rate of privileged group so it follows this formula - 𝑇𝑃𝑅𝐷=𝑢𝑛𝑝𝑟𝑖𝑣𝑖𝑙𝑒𝑔𝑒𝑑−𝑇𝑃𝑅𝐷=𝑝𝑟𝑖𝑣𝑖𝑙𝑒𝑔𝑒𝑑 Same as the previous metric we need it to be close to 0.\n",
        "\n",
        "* **demographic parity** A fairness metric that is satisfied if the results of a model's classification are not dependent on a given sensitive attribute.\n",
        "\n",
        "* **equality of opportunity** A fairness metric that checks whether, for a preferred label (one that confers an advantage or benefit to a person) and a given attribute, a classifier predicts that preferred label equally well for all values of that attribute. In other words, equality of opportunity measures whether the people who should qualify for an opportunity are equally likely to do so regardless of their group membership."
      ]
    },
    {
      "cell_type": "markdown",
      "metadata": {
        "id": "-pMObaKYPq9B"
      },
      "source": [
        "## CODICE METRICHE NUOVE"
      ]
    },
    {
      "cell_type": "code",
      "execution_count": 52,
      "metadata": {
        "id": "M7dJJO7ixuJ7",
        "colab": {
          "base_uri": "https://localhost:8080/"
        },
        "outputId": "4d7380f1-bc08-4ab0-f005-28f09f394184"
      },
      "outputs": [
        {
          "output_type": "stream",
          "name": "stdout",
          "text": [
            "Looking in indexes: https://pypi.org/simple, https://us-python.pkg.dev/colab-wheels/public/simple/\n",
            "Collecting fairlearn\n",
            "  Downloading fairlearn-0.7.0-py3-none-any.whl (177 kB)\n",
            "\u001b[K     |████████████████████████████████| 177 kB 7.3 MB/s \n",
            "\u001b[?25hRequirement already satisfied: pandas>=0.25.1 in /usr/local/lib/python3.7/dist-packages (from fairlearn) (1.3.5)\n",
            "Requirement already satisfied: numpy>=1.17.2 in /usr/local/lib/python3.7/dist-packages (from fairlearn) (1.21.6)\n",
            "Requirement already satisfied: scikit-learn>=0.22.1 in /usr/local/lib/python3.7/dist-packages (from fairlearn) (1.0.2)\n",
            "Requirement already satisfied: scipy>=1.4.1 in /usr/local/lib/python3.7/dist-packages (from fairlearn) (1.7.3)\n",
            "Requirement already satisfied: python-dateutil>=2.7.3 in /usr/local/lib/python3.7/dist-packages (from pandas>=0.25.1->fairlearn) (2.8.2)\n",
            "Requirement already satisfied: pytz>=2017.3 in /usr/local/lib/python3.7/dist-packages (from pandas>=0.25.1->fairlearn) (2022.2.1)\n",
            "Requirement already satisfied: six>=1.5 in /usr/local/lib/python3.7/dist-packages (from python-dateutil>=2.7.3->pandas>=0.25.1->fairlearn) (1.15.0)\n",
            "Requirement already satisfied: threadpoolctl>=2.0.0 in /usr/local/lib/python3.7/dist-packages (from scikit-learn>=0.22.1->fairlearn) (3.1.0)\n",
            "Requirement already satisfied: joblib>=0.11 in /usr/local/lib/python3.7/dist-packages (from scikit-learn>=0.22.1->fairlearn) (1.1.0)\n",
            "Installing collected packages: fairlearn\n",
            "Successfully installed fairlearn-0.7.0\n",
            "selection_rate : 0.045023696682464455\n",
            "TPR : [0.81081081 0.275      0.38461538 0.65384615 0.72972973 0.6969697\n",
            " 0.73846154 0.40909091 0.75       0.16666667]\n",
            "TNR : [0.96363636 0.97905759 0.97911227 0.91414141 0.95844156 0.95224719\n",
            " 0.95518207 0.94444444 0.90740741 0.98994975]\n",
            "PPV : [0.68181818 0.57894737 0.65217391 0.33333333 0.62790698 0.73015873\n",
            " 0.75       0.46153846 0.48529412 0.5       ]\n",
            "NPV : [0.98148148 0.9280397  0.93984962 0.97574124 0.97361478 0.94428969\n",
            " 0.95251397 0.93211488 0.96892655 0.95169082]\n",
            "FPR : [0.03636364 0.02094241 0.02088773 0.08585859 0.04155844 0.04775281\n",
            " 0.04481793 0.05555556 0.09259259 0.01005025]\n",
            "FNR : [0.18918919 0.725      0.61538462 0.34615385 0.27027027 0.3030303\n",
            " 0.26153846 0.59090909 0.25       0.83333333]\n",
            "FDR : [0.31818182 0.42105263 0.34782609 0.66666667 0.37209302 0.26984127\n",
            " 0.25       0.53846154 0.51470588 0.5       ]\n",
            "Accuracy : [0.95023697 0.91232227 0.92417062 0.89810427 0.93838863 0.91232227\n",
            " 0.92180095 0.88862559 0.89099526 0.94312796]\n",
            "AO : 0.6140523765764779\n",
            "EO : 1.3686604524544221\n",
            "Demographic parity : [44 19 23 51 43 63 64 39 68  8]\n",
            "Equalized Odds : [0.81081081 0.275      0.38461538 0.65384615 0.72972973 0.6969697\n",
            " 0.73846154 0.40909091 0.75       0.16666667]\n",
            "Balanced Accuracy Generale : 0.5615\n",
            "Balanced Accuracy Series 0 : 0.3333\n",
            "Balanced Accuracy Series 1 : 0.5208\n",
            "Balanced Accuracy Series 2 : 0.3238\n",
            "Balanced Accuracy Series 3 : 0.2292\n",
            "Balanced Accuracy Series 4 : 0.2671\n",
            "Balanced Accuracy Series 5 : 0.1300\n",
            "Balanced Accuracy Series 6 : 0.2604\n",
            "Balanced Accuracy Series 7 : 0.3542\n",
            "Balanced Accuracy Series 8 : 0.5000\n",
            "Balanced Accuracy Series 9 : 0.3750\n",
            "Balanced Accuracy Series 10 : 0.5000\n",
            "Balanced Accuracy Series 11 : 0.2593\n",
            "Balanced Accuracy Series 12 : 0.5634\n",
            "Average Balanced Accuracy : 0.3847\n"
          ]
        },
        {
          "output_type": "stream",
          "name": "stderr",
          "text": [
            "/usr/local/lib/python3.7/dist-packages/sklearn/metrics/_classification.py:1987: UserWarning: y_pred contains classes not in y_true\n",
            "  warnings.warn(\"y_pred contains classes not in y_true\")\n",
            "/usr/local/lib/python3.7/dist-packages/sklearn/metrics/_classification.py:1987: UserWarning: y_pred contains classes not in y_true\n",
            "  warnings.warn(\"y_pred contains classes not in y_true\")\n",
            "/usr/local/lib/python3.7/dist-packages/sklearn/metrics/_classification.py:1987: UserWarning: y_pred contains classes not in y_true\n",
            "  warnings.warn(\"y_pred contains classes not in y_true\")\n"
          ]
        }
      ],
      "source": [
        "!pip install fairlearn \n",
        "from fairlearn.metrics import selection_rate\n",
        "from fairlearn.metrics import true_positive_rate, false_positive_rate, true_negative_rate, false_negative_rate\n",
        "from fairlearn.metrics import equalized_odds_difference\n",
        "\n",
        "import sklearn as sk\n",
        "\n",
        "\n",
        "#---- metriche lisa ----#\n",
        "y_true = testgen.df['class'].to_numpy()\n",
        "SR = selection_rate(y_true, y_pred, pos_label=1, sample_weight=None)\n",
        "print('selection_rate : {}' . format(SR))\n",
        "\n",
        "\n",
        "#Per quanto riguarda AO come metrica, potremo utilizzare i risultati della confusion matrix ?\n",
        "#LINK : https://stackoverflow.com/questions/31324218/scikit-learn-how-to-obtain-true-positive-true-negative-false-positive-and-fal\n",
        "#LINK : https://scikit-learn.org/stable/modules/generated/sklearn.metrics.confusion_matrix.html#sklearn.metrics.confusion_matrix\n",
        "#print('Unique Element Y_test : {}'.format(np.unique(y_test)))\n",
        "#print('Unique Element Y_pred : {}'.format(np.unique(y_pred)))\n",
        "#print('True_Positive_Rate : {}'.format(true_positive_rate(y_true, y_pred)))\n",
        "\n",
        "FP = cm.sum(axis=0) - np.diag(cm)  \n",
        "FN = cm.sum(axis=1) - np.diag(cm)\n",
        "TP = np.diag(cm)\n",
        "TN = cm.sum() - (FP + FN + TP)\n",
        "\n",
        "# Sensitivity, hit rate, recall, or true positive rate\n",
        "TPR = TP/(TP+FN)\n",
        "print('TPR : {}'.format(TPR))\n",
        "# Specificity or true negative rate\n",
        "TNR = TN/(TN+FP) \n",
        "print('TNR : {}'.format(TNR))\n",
        "# Precision or positive predictive value\n",
        "PPV = TP/(TP+FP)\n",
        "print('PPV : {}'.format(PPV))\n",
        "# Negative predictive value\n",
        "NPV = TN/(TN+FN)\n",
        "print('NPV : {}'.format(NPV))\n",
        "# Fall out or false positive rate\n",
        "FPR = FP/(FP+TN)\n",
        "print('FPR : {}'.format(FPR))\n",
        "# False negative rate\n",
        "FNR = FN/(TP+FN)\n",
        "print('FNR : {}'.format(FNR))\n",
        "# False discovery rate\n",
        "FDR = FP/(TP+FP)\n",
        "print('FDR : {}'.format(FDR))\n",
        "\n",
        "# Overall accuracy\n",
        "ACC = (TP+TN)/(TP+FP+FN+TN)\n",
        "print('Accuracy : {}'.format(ACC))\n",
        "\n",
        "\n",
        "AO = 0.5*(\n",
        "    (TPR[0] + FPR[0]) - \n",
        "    (TPR[1] + FPR[1]) + \n",
        "    (TPR[2] + FPR[2]) - \n",
        "    (TPR[3] + FPR[3]) +\n",
        "    (TPR[4] + FPR[4]) -\n",
        "    (TPR[5] + FPR[5]) +\n",
        "    (TPR[6] + FPR[6]) -\n",
        "    (TPR[7] + FPR[7]) +\n",
        "    (TPR[8] + FPR[8]) -\n",
        "    (TPR[9] + FPR[9]))\n",
        "\n",
        "print('AO : {}'.format(AO))\n",
        "#y_true= y_true.reshape(1,-1)\n",
        "#y_pred= y_pred.reshape(-1,1)\n",
        "#print(y_true.shape)\n",
        "#print(y_pred.shape)\n",
        "\n",
        "\n",
        "'''FORSE QUA RIUSCIAMO A TROVARE UN ESEMPIO DI APPLICAZIONE DEL METODO'''\n",
        "'''https://deepnote.com/@Machine-Learning-2/Miniproject-z523fGqWSSu7QV34n_u7OA'''\n",
        "'''https://fairlearn.org/main/user_guide/assessment.html'''\n",
        "\n",
        "\n",
        "EO =(TPR[0] - TPR[1] + TPR[2] - TPR[3] + TPR[4] - TPR[5] + TPR[6] - TPR[7] + TPR[8] - FPR[9]) \n",
        "print('EO : {}' . format(EO))\n",
        "\n",
        "\n",
        "#Demographic parity\n",
        "'''\n",
        "Demographic parity is one of the most popular fairness indicators in the literature. \n",
        "Demographic parity is achieved if the absolute number of positive predictions \n",
        "in the subgroups are close to each other. This measure does not take true class into\n",
        "consideration and only depends on the model predictions. In some literature, \n",
        "demographic parity is also referred to as statsictal parity or independence.\n",
        "'''\n",
        "DP = (TP + FP)\n",
        "print('Demographic parity : {}' . format(DP))\n",
        "\n",
        "#Equalized odds\n",
        "'''\n",
        "Equalized odds, also known as separation, are achieved if the sensitivities in the \n",
        "subgroups are close to each other. The group-specific sensitivities \n",
        "indicate the number of the true positives divided by the total \n",
        "number of positives in that group.\n",
        "'''\n",
        "Equalized_Odds = TP / (TP + FN)\n",
        "print('Equalized Odds : {}' . format(Equalized_Odds))\n",
        "\n",
        "\n",
        "##---- Link Riccardo ----##\n",
        "#https://scikit-learn.org/stable/modules/generated/sklearn.metrics.balanced_accuracy_score.html\n",
        "\n",
        "\n",
        "Balanced_Accuracy = sk.metrics.balanced_accuracy_score(y_true, y_pred, sample_weight=None, adjusted=False)\n",
        "print('Balanced Accuracy Generale : {0:0.4f}' . format(Balanced_Accuracy))\n",
        "\n",
        "\n",
        "#####----------- PER CIASCUNA SERIE BALANCED ACCURACY -----------####\n",
        "test_array_series = [\n",
        "                     test_array_s0, \n",
        "                     test_array_s1,\n",
        "                     test_array_s2,\n",
        "                     test_array_s3,\n",
        "                     test_array_s4,\n",
        "                     test_array_s5,\n",
        "                     test_array_s6,\n",
        "                     test_array_s7,\n",
        "                     test_array_s8,\n",
        "                     test_array_s9,\n",
        "                     test_array_s10,\n",
        "                     test_array_s11,\n",
        "                     test_array_s12\n",
        "                     ]\n",
        "\n",
        "pred_array_series = [\n",
        "                     pred_array_s0, \n",
        "                     pred_array_s1,\n",
        "                     pred_array_s2,\n",
        "                     pred_array_s3,\n",
        "                     pred_array_s4,\n",
        "                     pred_array_s5,\n",
        "                     pred_array_s6,\n",
        "                     pred_array_s7,\n",
        "                     pred_array_s8,\n",
        "                     pred_array_s9,\n",
        "                     pred_array_s10,\n",
        "                     pred_array_s11,\n",
        "                     pred_array_s12\n",
        "                     ]\n",
        "\n",
        "SUM_BA = 0\n",
        "for ba_i in range (13):\n",
        "  BA = sk.metrics.balanced_accuracy_score(test_array_series[ba_i], pred_array_series[ba_i], sample_weight=None, adjusted=False)\n",
        "  SUM_BA += BA\n",
        "  print('Balanced Accuracy Series {0} : {1:0.4f}' . format(ba_i, BA))\n",
        "\n",
        "\n",
        "#----------- MEDIA DELLE BALANCED ACCURACY ---------------\n",
        "Average = SUM_BA/12\n",
        "print('Average Balanced Accuracy : {0:0.4f}' . format(Average))\n",
        " \n",
        "\n",
        "##---- Wodsworth et Al ----# \n",
        "#HIGH_RISK_GAP = SP #modulo o cardinalità \n",
        "\n",
        "#FN_GAP = false_negative (s1) - false negative (s2) \n",
        "#FN_GAP = (false_negative_rate(y_true, y_pred) - false_negative_rate(y_true, y_pred))  #modulo o cardinalità\n",
        "  \n",
        "#FN_GAP = false_negative (s1) - false negative (s2) \n",
        "#FP_GAP = (false_positive_rate(y_true, y_pred) - false_positive_rate(y_true, y_pred))  #modulo o cardinalità\n",
        "\n",
        "\n",
        "\n",
        "### LINK UTILE ####\n",
        "#https://www.kaggle.com/nathanlauga/ethics-and-ai-how-to-prevent-bias-on-ml"
      ]
    }
  ],
  "metadata": {
    "accelerator": "GPU",
    "colab": {
      "collapsed_sections": [
        "PMGzrSEinp5Z",
        "ox6IFmrBfpP-",
        "YEzVkjhHbISE",
        "xuS19wSXbdE8",
        "_Dy4DIjGoSin",
        "28i0TbSpzt_Z",
        "2XV_nhqtTWxr",
        "VX2SB5uYzzyB",
        "26Za2K_yFljo",
        "Ks3Fly2oUf3g",
        "-gwtHXxECiTK",
        "xBGTOuc1VSqq",
        "QjI6Y_nefFTj",
        "XefnmV_tsbOw",
        "VkaCQp4Ndzbe",
        "z25yiN0zKZ5Y",
        "yy4ylbat-r51",
        "TUnAYcXVclfD",
        "NoegV_027yUO",
        "X7-u3Qf0YsFe",
        "umabolL61nFw",
        "_U2UEFjs1iXp",
        "z56gEZfX14mX",
        "7qiUkpP0_LXM",
        "7IsDgmRB_QxY",
        "ihY4u-CL2JKI",
        "2OaloopJ5gCK",
        "qrtXkNtk5luP",
        "hbq6tUyY2bxr",
        "PUPCoiGQ6j-D",
        "J9nnpLbE6sfN",
        "RdicUGi28Sr_",
        "1WOsA8la8b6O",
        "5aSi_lI_xuvO",
        "u7H7AQn_u3pW",
        "-pMObaKYPq9B"
      ],
      "machine_shape": "hm",
      "name": "TensorFlow - architettura base (D.A. Online).ipynb",
      "provenance": []
    },
    "gpuClass": "standard",
    "kernelspec": {
      "display_name": "Python 3",
      "name": "python3"
    },
    "language_info": {
      "name": "python"
    }
  },
  "nbformat": 4,
  "nbformat_minor": 0
}